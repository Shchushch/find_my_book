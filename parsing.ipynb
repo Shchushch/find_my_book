{
 "cells": [
  {
   "cell_type": "code",
   "execution_count": 20,
   "metadata": {},
   "outputs": [],
   "source": [
    "from bs4 import BeautifulSoup\n",
    "import requests\n",
    "import re\n",
    "import pandas as pd\n",
    "from tqdm.notebook import tqdm\n",
    "import random\n",
    "import json\n",
    "from time import sleep\n",
    "import pygame"
   ]
  },
  {
   "attachments": {},
   "cell_type": "markdown",
   "metadata": {},
   "source": [
    "# Жанры"
   ]
  },
  {
   "cell_type": "code",
   "execution_count": 21,
   "metadata": {},
   "outputs": [],
   "source": [
    "\n",
    "# catalog= requests.get('https://www.biblio-globus.ru/catalog/categories')\n",
    "# soup=BeautifulSoup(catalog.text,'html.parser')\n",
    "# cats=soup.find_all('li',class_=\"list-group-item\")\n",
    "\n",
    "# #\n",
    "# #cats.find_all('a')['href']"
   ]
  },
  {
   "cell_type": "code",
   "execution_count": 22,
   "metadata": {},
   "outputs": [],
   "source": [
    "# mega_genres_url=[]\n",
    "# for cat in cats:\n",
    "#     mega_genres_url.append(cat.find('a',attrs={'href':True})['href'])\n",
    "# mega_genres_url"
   ]
  },
  {
   "cell_type": "code",
   "execution_count": 23,
   "metadata": {},
   "outputs": [],
   "source": [
    "# mega_genres_url = mega_genres_url[:len(mega_genres_url)//2]"
   ]
  },
  {
   "cell_type": "code",
   "execution_count": 24,
   "metadata": {},
   "outputs": [],
   "source": [
    "# for m in mega_genres_url:\n",
    "#     print(m[m.rfind('/')+1:])"
   ]
  },
  {
   "cell_type": "code",
   "execution_count": 25,
   "metadata": {},
   "outputs": [],
   "source": [
    "# genres=[]\n",
    "# save=10\n",
    "# for i in tqdm(range(len(mega_genres_url))):\n",
    "#     mega_genre='https://www.biblio-globus.ru'+mega_genres_url[i]\n",
    "#     sleep(random.random()/2)\n",
    "#     mega= requests.get(mega_genre)\n",
    "#     soup=BeautifulSoup(mega.text,'html.parser')\n",
    "#     cats=soup.find_all('a',attrs={'class':'nav-link','style':\"padding-left:14px;\"})\n",
    "#     if len(cats)==0:\n",
    "#         if save<=0:\n",
    "#             save=10\n",
    "#             pd.Series(genres).to_csv('genres_url.csv')\n",
    "#         genres.append(mega_genre)\n",
    "#         save-=1\n",
    "#     else:\n",
    "#         for cat in tqdm(cats):\n",
    "#             if save<=0:\n",
    "#                 save=10\n",
    "#                 pd.Series(genres).to_csv('genres_url.csv')\n",
    "#             genres.append(cat['href'])\n",
    "#             save-=1\n",
    "\n",
    "# pygame.init()\n",
    "# pygame.mixer.music.load('hypa_bd.mp3')\n",
    "# pygame.mixer.music.play()\n",
    "# pd.Series(genres).to_csv('genres_url.csv')\n",
    "# sleep(10)\n",
    "# pygame.mixer.music.stop()\n"
   ]
  },
  {
   "cell_type": "code",
   "execution_count": null,
   "metadata": {},
   "outputs": [],
   "source": []
  },
  {
   "cell_type": "code",
   "execution_count": 26,
   "metadata": {},
   "outputs": [],
   "source": [
    "genres=pd.read_csv('genres_url.csv',index_col=0)\n",
    "genres=genres['0'].to_list()\n",
    "genres=genres[:480]"
   ]
  },
  {
   "cell_type": "code",
   "execution_count": 27,
   "metadata": {},
   "outputs": [],
   "source": [
    "# errs=[]\n",
    "# for i,genre in enumerate(genres):\n",
    "#     if genre.find('www')+1:\n",
    "#         errs.append(i)"
   ]
  },
  {
   "cell_type": "code",
   "execution_count": 28,
   "metadata": {},
   "outputs": [],
   "source": [
    "# # for err in errs:\n",
    "#     #print(genres[err])\n",
    "#     genres[err]=genres[err][genres[err].find('.ru')+3:]"
   ]
  },
  {
   "cell_type": "code",
   "execution_count": 29,
   "metadata": {},
   "outputs": [],
   "source": [
    "# mega= requests.get('https://www.biblio-globus.ru/catalog/index/6182')\n",
    "# # soup=BeautifulSoup(mega.text,'html.parser')\n",
    "# cats=soup.find_all('a',attrs={'class':'nav-link','style':\"padding-left:14px;\"})"
   ]
  },
  {
   "cell_type": "code",
   "execution_count": null,
   "metadata": {},
   "outputs": [],
   "source": []
  },
  {
   "cell_type": "code",
   "execution_count": 30,
   "metadata": {},
   "outputs": [],
   "source": [
    "genres_idx=[]\n",
    "for genre in genres:\n",
    "    genres_idx.append(genre[genre.rfind('/')+1:])"
   ]
  },
  {
   "cell_type": "code",
   "execution_count": 31,
   "metadata": {},
   "outputs": [
    {
     "data": {
      "text/plain": [
       "['226',\n",
       " '227',\n",
       " '241',\n",
       " '242',\n",
       " '248',\n",
       " '250',\n",
       " '251',\n",
       " '6168',\n",
       " '6169',\n",
       " '6170',\n",
       " '6171',\n",
       " '262',\n",
       " '263',\n",
       " '6173',\n",
       " '6174',\n",
       " '6176',\n",
       " '6177',\n",
       " '6178',\n",
       " '6179',\n",
       " '6180',\n",
       " '6181',\n",
       " '6182',\n",
       " '6183',\n",
       " '6184',\n",
       " '6186',\n",
       " '6187',\n",
       " '6188',\n",
       " '6189',\n",
       " '6112',\n",
       " '6113',\n",
       " '6114',\n",
       " '6115',\n",
       " '6116',\n",
       " '6117',\n",
       " '6118',\n",
       " '6119',\n",
       " '6120',\n",
       " '6121',\n",
       " '6122',\n",
       " '6129',\n",
       " '6130',\n",
       " '6131',\n",
       " '6132',\n",
       " '6133',\n",
       " '6134',\n",
       " '6135',\n",
       " '6136',\n",
       " '6137',\n",
       " '6138',\n",
       " '6140',\n",
       " '6141',\n",
       " '6142',\n",
       " '6143',\n",
       " '6144',\n",
       " '6146',\n",
       " '6147',\n",
       " '6148',\n",
       " '6149',\n",
       " '6150',\n",
       " '6151',\n",
       " '6153',\n",
       " '6154',\n",
       " '6155',\n",
       " '6157',\n",
       " '6158',\n",
       " '6159',\n",
       " '6160',\n",
       " '6161',\n",
       " '6162',\n",
       " '6164',\n",
       " '6165',\n",
       " '6166',\n",
       " '6167',\n",
       " '2422',\n",
       " '2464',\n",
       " '2465',\n",
       " '2466',\n",
       " '2467',\n",
       " '2468',\n",
       " '2470',\n",
       " '2471',\n",
       " '2473',\n",
       " '2474',\n",
       " '2475',\n",
       " '2476',\n",
       " '2477',\n",
       " '2479',\n",
       " '2486',\n",
       " '2488',\n",
       " '2489',\n",
       " '2491',\n",
       " '2492',\n",
       " '2493',\n",
       " '2495',\n",
       " '2497',\n",
       " '2498',\n",
       " '2500',\n",
       " '2502',\n",
       " '5887',\n",
       " '2508',\n",
       " '2509',\n",
       " '2510',\n",
       " '5889',\n",
       " '5890',\n",
       " '6091',\n",
       " '6092',\n",
       " '6093',\n",
       " '6094',\n",
       " '6095',\n",
       " '6096',\n",
       " '6097',\n",
       " '6098',\n",
       " '6100',\n",
       " '6101',\n",
       " '6102',\n",
       " '6103',\n",
       " '6105',\n",
       " '6106',\n",
       " '6107',\n",
       " '6108',\n",
       " '6109',\n",
       " '6110',\n",
       " '6111',\n",
       " '1232',\n",
       " '1233',\n",
       " '1234',\n",
       " '6123',\n",
       " '6124',\n",
       " '6125',\n",
       " '6127',\n",
       " '1299',\n",
       " '1301',\n",
       " '1302',\n",
       " '1303',\n",
       " '1306',\n",
       " '1307',\n",
       " '1308',\n",
       " '1309',\n",
       " '1310',\n",
       " '1311',\n",
       " '1312',\n",
       " '1313',\n",
       " '1314',\n",
       " '1316',\n",
       " '1317',\n",
       " '1323',\n",
       " '1327',\n",
       " '1328',\n",
       " '1329',\n",
       " '1330',\n",
       " '1331',\n",
       " '1332',\n",
       " '1333',\n",
       " '1334',\n",
       " '1335',\n",
       " '1336',\n",
       " '1338',\n",
       " '1339',\n",
       " '1340',\n",
       " '1423',\n",
       " '1424',\n",
       " '6331',\n",
       " '6333',\n",
       " '6334',\n",
       " '6335',\n",
       " '6336',\n",
       " '1145',\n",
       " '1146',\n",
       " '1147',\n",
       " '1148',\n",
       " '1150',\n",
       " '1151',\n",
       " '1152',\n",
       " '1153',\n",
       " '1154',\n",
       " '1158',\n",
       " '1159',\n",
       " '1160',\n",
       " '1161',\n",
       " '1162',\n",
       " '1163',\n",
       " '1164',\n",
       " '1165',\n",
       " '1166',\n",
       " '1167',\n",
       " '1169',\n",
       " '1170',\n",
       " '1171',\n",
       " '1172',\n",
       " '1173',\n",
       " '1175',\n",
       " '1177',\n",
       " '1178',\n",
       " '1181',\n",
       " '1182',\n",
       " '1183',\n",
       " '1184',\n",
       " '1185',\n",
       " '1186',\n",
       " '1187',\n",
       " '1188',\n",
       " '1189',\n",
       " '1190',\n",
       " '1191',\n",
       " '1192',\n",
       " '1193',\n",
       " '1194',\n",
       " '1195',\n",
       " '1196',\n",
       " '1198',\n",
       " '1201',\n",
       " '1203',\n",
       " '1204',\n",
       " '1205',\n",
       " '1206',\n",
       " '1207',\n",
       " '1208',\n",
       " '1209',\n",
       " '1211',\n",
       " '1212',\n",
       " '1213',\n",
       " '1214',\n",
       " '1215',\n",
       " '1216',\n",
       " '1217',\n",
       " '1219',\n",
       " '1220',\n",
       " '1221',\n",
       " '1225',\n",
       " '918',\n",
       " '919',\n",
       " '920',\n",
       " '921',\n",
       " '922',\n",
       " '924',\n",
       " '925',\n",
       " '1048',\n",
       " '1050',\n",
       " '1052',\n",
       " '1058',\n",
       " '1059',\n",
       " '1060',\n",
       " '1061',\n",
       " '1062',\n",
       " '1063',\n",
       " '1065',\n",
       " '1066',\n",
       " '1067',\n",
       " '1069',\n",
       " '1070',\n",
       " '1072',\n",
       " '1074',\n",
       " '1075',\n",
       " '1076',\n",
       " '1078',\n",
       " '1081',\n",
       " '1083',\n",
       " '1085',\n",
       " '1086',\n",
       " '1087',\n",
       " '1090',\n",
       " '1091',\n",
       " '1092',\n",
       " '1094',\n",
       " '1096',\n",
       " '1097',\n",
       " '1098',\n",
       " '1099',\n",
       " '1107',\n",
       " '1108',\n",
       " '1109',\n",
       " '1110',\n",
       " '1111',\n",
       " '1112',\n",
       " '1113',\n",
       " '1114',\n",
       " '1115',\n",
       " '1116',\n",
       " '1117',\n",
       " '1118',\n",
       " '1119',\n",
       " '1120',\n",
       " '1121',\n",
       " '1123',\n",
       " '1124',\n",
       " '1125',\n",
       " '1126',\n",
       " '1127',\n",
       " '1128',\n",
       " '1129',\n",
       " '1130',\n",
       " '1132',\n",
       " '1133',\n",
       " '1134',\n",
       " '1140',\n",
       " '1142',\n",
       " '1143',\n",
       " '1144',\n",
       " '278',\n",
       " '279',\n",
       " '280',\n",
       " '281',\n",
       " '282',\n",
       " '283',\n",
       " '284',\n",
       " '285',\n",
       " '286',\n",
       " '287',\n",
       " '288',\n",
       " '289',\n",
       " '290',\n",
       " '291',\n",
       " '292',\n",
       " '293',\n",
       " '294',\n",
       " '295',\n",
       " '296',\n",
       " '298',\n",
       " '299',\n",
       " '301',\n",
       " '302',\n",
       " '303',\n",
       " '304',\n",
       " '305',\n",
       " '306',\n",
       " '307',\n",
       " '308',\n",
       " '309',\n",
       " '310',\n",
       " '311',\n",
       " '312',\n",
       " '313',\n",
       " '314',\n",
       " '315',\n",
       " '316',\n",
       " '317',\n",
       " '318',\n",
       " '319',\n",
       " '320',\n",
       " '321',\n",
       " '323',\n",
       " '324',\n",
       " '325',\n",
       " '326',\n",
       " '327',\n",
       " '328',\n",
       " '329',\n",
       " '330',\n",
       " '331',\n",
       " '332',\n",
       " '333',\n",
       " '334',\n",
       " '335',\n",
       " '336',\n",
       " '2418',\n",
       " '447',\n",
       " '448',\n",
       " '452',\n",
       " '439',\n",
       " '440',\n",
       " '441',\n",
       " '444',\n",
       " '421',\n",
       " '425',\n",
       " '430',\n",
       " '431',\n",
       " '437',\n",
       " '5355',\n",
       " '409',\n",
       " '410',\n",
       " '411',\n",
       " '412',\n",
       " '417',\n",
       " '418',\n",
       " '419',\n",
       " '420',\n",
       " '402',\n",
       " '403',\n",
       " '404',\n",
       " '405',\n",
       " '406',\n",
       " '407',\n",
       " '408',\n",
       " '394',\n",
       " '395',\n",
       " '396',\n",
       " '397',\n",
       " '398',\n",
       " '400',\n",
       " '401',\n",
       " '5593',\n",
       " '5603',\n",
       " '5604',\n",
       " '5605',\n",
       " '5606',\n",
       " '5608',\n",
       " '5609',\n",
       " '5610',\n",
       " '5612',\n",
       " '5613',\n",
       " '5615',\n",
       " '5617',\n",
       " '5621',\n",
       " '5623',\n",
       " '5624',\n",
       " '5625',\n",
       " '5627',\n",
       " '5628',\n",
       " '5630',\n",
       " '5640',\n",
       " '5642',\n",
       " '5643',\n",
       " '5644',\n",
       " '5645',\n",
       " '5646',\n",
       " '5647',\n",
       " '5648',\n",
       " '5649',\n",
       " '5650',\n",
       " '5651',\n",
       " '5543',\n",
       " '5663',\n",
       " '5673',\n",
       " '5674',\n",
       " '5677',\n",
       " '5678',\n",
       " '5680',\n",
       " '5681',\n",
       " '5682',\n",
       " '5684',\n",
       " '5685',\n",
       " '5690',\n",
       " '5691',\n",
       " '5697',\n",
       " '5698',\n",
       " '5699',\n",
       " '5700',\n",
       " '5701',\n",
       " '5703',\n",
       " '5709',\n",
       " '2288',\n",
       " '2289',\n",
       " '2290',\n",
       " '2291',\n",
       " '5567',\n",
       " '2292',\n",
       " '2293',\n",
       " '2294',\n",
       " '2295',\n",
       " '2274',\n",
       " '5500',\n",
       " '5516',\n",
       " '5544',\n",
       " '5545',\n",
       " '6346',\n",
       " '6347',\n",
       " '6348',\n",
       " '6349',\n",
       " '6350',\n",
       " '6351',\n",
       " '6352',\n",
       " '6353',\n",
       " '6354',\n",
       " '6355',\n",
       " '6356',\n",
       " '6357',\n",
       " '6358',\n",
       " '6359',\n",
       " '6360',\n",
       " '6361',\n",
       " '6362',\n",
       " '6363',\n",
       " '6364',\n",
       " '6365',\n",
       " '6366',\n",
       " '6367',\n",
       " '6368',\n",
       " '6369',\n",
       " '6370',\n",
       " '6371']"
      ]
     },
     "execution_count": 31,
     "metadata": {},
     "output_type": "execute_result"
    }
   ],
   "source": [
    "genres_idx"
   ]
  },
  {
   "cell_type": "code",
   "execution_count": 32,
   "metadata": {},
   "outputs": [],
   "source": [
    "# pd.Series(mega_genres_url).to_csv('genres_url.csv')"
   ]
  },
  {
   "cell_type": "code",
   "execution_count": 33,
   "metadata": {},
   "outputs": [],
   "source": [
    "biblio_df = pd.DataFrame(columns=['page_url','image_url','author','title','annotation','genre'])"
   ]
  },
  {
   "attachments": {},
   "cell_type": "markdown",
   "metadata": {},
   "source": [
    "# Функции"
   ]
  },
  {
   "cell_type": "code",
   "execution_count": 34,
   "metadata": {},
   "outputs": [],
   "source": [
    "def get_all_page_books(page_url):\n",
    "    books=requests.get(page_url)\n",
    "    #print(books)\n",
    "    soup = BeautifulSoup(books.text, 'html.parser')\n",
    "    all_page_books=soup.find_all('a',class_='img_link')\n",
    "    book_links=[]\n",
    "    for book in all_page_books:\n",
    "        book_links.append('https://www.biblio-globus.ru/'+book.get_attribute_list('href')[0])\n",
    "    return book_links"
   ]
  },
  {
   "cell_type": "code",
   "execution_count": 35,
   "metadata": {},
   "outputs": [],
   "source": [
    "def get_dic_from_page(book_link):\n",
    "    book_page=requests.get(book_link)#Обращаемся к странице\n",
    "    book_html= BeautifulSoup(book_page.text, 'html.parser') #Получаем суп\n",
    "    dic_json=json.loads(book_html.find('script').text)\n",
    "    annotation=book_html.find(attrs={'property': 'og:description'})\n",
    "    biblio_dic = {}\n",
    "    \n",
    "    biblio_dic['title'] =dic_json['name']\n",
    "    biblio_dic['page_url'] =dic_json['offers']['url']\n",
    "    biblio_dic['image_url'] =dic_json['image']\n",
    "    biblio_dic['author'] =dic_json['author']['name']\n",
    "    biblio_dic['annotation'] =annotation.get('content')\n",
    "    biblio_dic['genre'] =dic_json['genre']\n",
    "    return biblio_dic"
   ]
  },
  {
   "cell_type": "code",
   "execution_count": 36,
   "metadata": {},
   "outputs": [],
   "source": [
    "class Page:\n",
    "    def __init__(self,url) -> None:\n",
    "        self.url = url\n",
    "    def __str__(self) -> str:\n",
    "        return self.url\n",
    "    def __add__(self,num):\n",
    "        if isinstance(num, (int, float)):\n",
    "            page_num=int(self.url[self.url.find('page=')+5:self.url.rfind('&sort')])+num\n",
    "            return Page(self.url[:self.url.find('page=')+5]+str(page_num)+self.url[self.url.rfind('&sort'):])\n",
    "           \n",
    "        else:\n",
    "            return NotImplemented  \n",
    "        "
   ]
  },
  {
   "cell_type": "code",
   "execution_count": 40,
   "metadata": {},
   "outputs": [],
   "source": [
    "def cat_parser(startpage,num_pages=1000,saves=100,num_books=1000000):\n",
    "    biblio_df=pd.DataFrame(columns=['page_url','image_url','author','title','annotation','genre'])\n",
    "    save_mark=saves\n",
    "    for i in tqdm(range(num_pages),'Pages'):\n",
    "        book_links=get_all_page_books(str(startpage+i))#Получаем массив с ссылками на все книги страницы\n",
    "        #print(book_links)\n",
    "        for book_link in tqdm(book_links,'Books'):\n",
    "            sleep(random.random()/2)#Чутка спим\n",
    "            book=[get_dic_from_page(book_link)]#\n",
    "            \n",
    "            biblio_df=pd.concat([biblio_df,pd.DataFrame(book)],ignore_index=True)#Превращаем книгу в словарь\n",
    "            if save_mark<=0:\n",
    "                biblio_df.to_csv('books_data.csv',index=False,sep='\\t')\n",
    "                #biblio_df=pd.DataFrame(columns=['page_url','image_url','author','title','annotation'])\n",
    "                save_mark=saves\n",
    "            save_mark-=1\n",
    "            num_books-=1\n",
    "            if num_books<=0:\n",
    "                return biblio_df\n",
    "                \n",
    "    return biblio_df\n",
    "\n",
    "    \n"
   ]
  },
  {
   "cell_type": "code",
   "execution_count": 41,
   "metadata": {},
   "outputs": [],
   "source": [
    "def parser(num_pages=100):\n",
    "\n",
    "    for genre_id in tqdm(genres_idx,'Categories'):\n",
    "        firstpage=f'https://www.biblio-globus.ru/catalog/category?id={genre_id}&page=1&sort=0&instock=&isdiscount='\n",
    "        cat_parser(Page(firstpage))"
   ]
  },
  {
   "cell_type": "code",
   "execution_count": 42,
   "metadata": {},
   "outputs": [
    {
     "data": {
      "application/vnd.jupyter.widget-view+json": {
       "model_id": "1b33cab52aa948acb6ceda92952d727d",
       "version_major": 2,
       "version_minor": 0
      },
      "text/plain": [
       "Categories:   0%|          | 0/480 [00:00<?, ?it/s]"
      ]
     },
     "metadata": {},
     "output_type": "display_data"
    },
    {
     "data": {
      "application/vnd.jupyter.widget-view+json": {
       "model_id": "56ce3fb69472404c88cb57da1ccf7273",
       "version_major": 2,
       "version_minor": 0
      },
      "text/plain": [
       "Pages:   0%|          | 0/1000 [00:00<?, ?it/s]"
      ]
     },
     "metadata": {},
     "output_type": "display_data"
    },
    {
     "data": {
      "application/vnd.jupyter.widget-view+json": {
       "model_id": "b4073806dcd64a079203f295d88ac93d",
       "version_major": 2,
       "version_minor": 0
      },
      "text/plain": [
       "Books:   0%|          | 0/12 [00:00<?, ?it/s]"
      ]
     },
     "metadata": {},
     "output_type": "display_data"
    },
    {
     "data": {
      "application/vnd.jupyter.widget-view+json": {
       "model_id": "8b9a7087c9cc4cdea1b8b7530be8400a",
       "version_major": 2,
       "version_minor": 0
      },
      "text/plain": [
       "Books:   0%|          | 0/12 [00:00<?, ?it/s]"
      ]
     },
     "metadata": {},
     "output_type": "display_data"
    },
    {
     "data": {
      "application/vnd.jupyter.widget-view+json": {
       "model_id": "4eb2c1fcfdc747d89345a92578783c79",
       "version_major": 2,
       "version_minor": 0
      },
      "text/plain": [
       "Books:   0%|          | 0/12 [00:00<?, ?it/s]"
      ]
     },
     "metadata": {},
     "output_type": "display_data"
    },
    {
     "data": {
      "application/vnd.jupyter.widget-view+json": {
       "model_id": "06cbefe2417e4850bdcb32609941a287",
       "version_major": 2,
       "version_minor": 0
      },
      "text/plain": [
       "Books:   0%|          | 0/12 [00:00<?, ?it/s]"
      ]
     },
     "metadata": {},
     "output_type": "display_data"
    },
    {
     "data": {
      "application/vnd.jupyter.widget-view+json": {
       "model_id": "89df281f46824543af4a2dd59199275e",
       "version_major": 2,
       "version_minor": 0
      },
      "text/plain": [
       "Books:   0%|          | 0/12 [00:00<?, ?it/s]"
      ]
     },
     "metadata": {},
     "output_type": "display_data"
    },
    {
     "data": {
      "application/vnd.jupyter.widget-view+json": {
       "model_id": "7e04acd3040d46aca467f33ad9f646da",
       "version_major": 2,
       "version_minor": 0
      },
      "text/plain": [
       "Books:   0%|          | 0/12 [00:00<?, ?it/s]"
      ]
     },
     "metadata": {},
     "output_type": "display_data"
    },
    {
     "data": {
      "application/vnd.jupyter.widget-view+json": {
       "model_id": "8b806c3df4d242bf9c27daa0ab2b511c",
       "version_major": 2,
       "version_minor": 0
      },
      "text/plain": [
       "Books:   0%|          | 0/12 [00:00<?, ?it/s]"
      ]
     },
     "metadata": {},
     "output_type": "display_data"
    },
    {
     "data": {
      "application/vnd.jupyter.widget-view+json": {
       "model_id": "a94f5b106f7447408ed791173d04e048",
       "version_major": 2,
       "version_minor": 0
      },
      "text/plain": [
       "Books:   0%|          | 0/12 [00:00<?, ?it/s]"
      ]
     },
     "metadata": {},
     "output_type": "display_data"
    },
    {
     "data": {
      "application/vnd.jupyter.widget-view+json": {
       "model_id": "f652b1e23021447aae4016a5e358aa4c",
       "version_major": 2,
       "version_minor": 0
      },
      "text/plain": [
       "Books:   0%|          | 0/12 [00:00<?, ?it/s]"
      ]
     },
     "metadata": {},
     "output_type": "display_data"
    },
    {
     "data": {
      "application/vnd.jupyter.widget-view+json": {
       "model_id": "2daf3f48ca504779b829b7950ca1ca58",
       "version_major": 2,
       "version_minor": 0
      },
      "text/plain": [
       "Books:   0%|          | 0/12 [00:00<?, ?it/s]"
      ]
     },
     "metadata": {},
     "output_type": "display_data"
    },
    {
     "data": {
      "application/vnd.jupyter.widget-view+json": {
       "model_id": "54d5b8c1e5dd4e619c46bc7315513a5c",
       "version_major": 2,
       "version_minor": 0
      },
      "text/plain": [
       "Books:   0%|          | 0/12 [00:00<?, ?it/s]"
      ]
     },
     "metadata": {},
     "output_type": "display_data"
    },
    {
     "data": {
      "application/vnd.jupyter.widget-view+json": {
       "model_id": "c7aef301562146b4b9a2a353d416fa23",
       "version_major": 2,
       "version_minor": 0
      },
      "text/plain": [
       "Books:   0%|          | 0/12 [00:00<?, ?it/s]"
      ]
     },
     "metadata": {},
     "output_type": "display_data"
    },
    {
     "data": {
      "application/vnd.jupyter.widget-view+json": {
       "model_id": "cbc1bab2664049f59c75a1a0f39fbbaa",
       "version_major": 2,
       "version_minor": 0
      },
      "text/plain": [
       "Books:   0%|          | 0/12 [00:00<?, ?it/s]"
      ]
     },
     "metadata": {},
     "output_type": "display_data"
    },
    {
     "data": {
      "application/vnd.jupyter.widget-view+json": {
       "model_id": "01c66237a05b49389b7d93fc534eaf43",
       "version_major": 2,
       "version_minor": 0
      },
      "text/plain": [
       "Books:   0%|          | 0/12 [00:00<?, ?it/s]"
      ]
     },
     "metadata": {},
     "output_type": "display_data"
    },
    {
     "data": {
      "application/vnd.jupyter.widget-view+json": {
       "model_id": "ff2fe491d0d3431bacc9c86f444590ab",
       "version_major": 2,
       "version_minor": 0
      },
      "text/plain": [
       "Books:   0%|          | 0/12 [00:00<?, ?it/s]"
      ]
     },
     "metadata": {},
     "output_type": "display_data"
    },
    {
     "data": {
      "application/vnd.jupyter.widget-view+json": {
       "model_id": "17ffa3b81afd400599b5663a88947a29",
       "version_major": 2,
       "version_minor": 0
      },
      "text/plain": [
       "Books:   0%|          | 0/12 [00:00<?, ?it/s]"
      ]
     },
     "metadata": {},
     "output_type": "display_data"
    },
    {
     "data": {
      "application/vnd.jupyter.widget-view+json": {
       "model_id": "d26ab54d17b64311842c6054e8b7f609",
       "version_major": 2,
       "version_minor": 0
      },
      "text/plain": [
       "Books:   0%|          | 0/12 [00:00<?, ?it/s]"
      ]
     },
     "metadata": {},
     "output_type": "display_data"
    },
    {
     "data": {
      "application/vnd.jupyter.widget-view+json": {
       "model_id": "5c80bd04ec2147a89746a6f60ba9a036",
       "version_major": 2,
       "version_minor": 0
      },
      "text/plain": [
       "Books:   0%|          | 0/12 [00:00<?, ?it/s]"
      ]
     },
     "metadata": {},
     "output_type": "display_data"
    },
    {
     "data": {
      "application/vnd.jupyter.widget-view+json": {
       "model_id": "8add92a50ee04e778d7c2a04fe9fc7c7",
       "version_major": 2,
       "version_minor": 0
      },
      "text/plain": [
       "Books:   0%|          | 0/12 [00:00<?, ?it/s]"
      ]
     },
     "metadata": {},
     "output_type": "display_data"
    },
    {
     "data": {
      "application/vnd.jupyter.widget-view+json": {
       "model_id": "159d095c50ba4295a230a4782c318e4f",
       "version_major": 2,
       "version_minor": 0
      },
      "text/plain": [
       "Books:   0%|          | 0/12 [00:00<?, ?it/s]"
      ]
     },
     "metadata": {},
     "output_type": "display_data"
    },
    {
     "data": {
      "application/vnd.jupyter.widget-view+json": {
       "model_id": "fa14bd9b2cab447fb145b709f9ca70eb",
       "version_major": 2,
       "version_minor": 0
      },
      "text/plain": [
       "Books:   0%|          | 0/12 [00:00<?, ?it/s]"
      ]
     },
     "metadata": {},
     "output_type": "display_data"
    },
    {
     "data": {
      "application/vnd.jupyter.widget-view+json": {
       "model_id": "ca8bdb9595dd43389fb98e9ed693a48f",
       "version_major": 2,
       "version_minor": 0
      },
      "text/plain": [
       "Books:   0%|          | 0/12 [00:00<?, ?it/s]"
      ]
     },
     "metadata": {},
     "output_type": "display_data"
    },
    {
     "data": {
      "application/vnd.jupyter.widget-view+json": {
       "model_id": "216caa89e65643bbb2a72d0675befe11",
       "version_major": 2,
       "version_minor": 0
      },
      "text/plain": [
       "Books:   0%|          | 0/12 [00:00<?, ?it/s]"
      ]
     },
     "metadata": {},
     "output_type": "display_data"
    },
    {
     "data": {
      "application/vnd.jupyter.widget-view+json": {
       "model_id": "af65da05377146bdafc1021e6f378fcb",
       "version_major": 2,
       "version_minor": 0
      },
      "text/plain": [
       "Books:   0%|          | 0/12 [00:00<?, ?it/s]"
      ]
     },
     "metadata": {},
     "output_type": "display_data"
    },
    {
     "data": {
      "application/vnd.jupyter.widget-view+json": {
       "model_id": "de863a82c2f24da186931b205ad9f21d",
       "version_major": 2,
       "version_minor": 0
      },
      "text/plain": [
       "Books:   0%|          | 0/12 [00:00<?, ?it/s]"
      ]
     },
     "metadata": {},
     "output_type": "display_data"
    },
    {
     "data": {
      "application/vnd.jupyter.widget-view+json": {
       "model_id": "25a5bf0f56964abeb947d2483d46616e",
       "version_major": 2,
       "version_minor": 0
      },
      "text/plain": [
       "Books:   0%|          | 0/12 [00:00<?, ?it/s]"
      ]
     },
     "metadata": {},
     "output_type": "display_data"
    },
    {
     "data": {
      "application/vnd.jupyter.widget-view+json": {
       "model_id": "d6a7ed41e47a40b0be4dc4d8953adc0e",
       "version_major": 2,
       "version_minor": 0
      },
      "text/plain": [
       "Books:   0%|          | 0/12 [00:00<?, ?it/s]"
      ]
     },
     "metadata": {},
     "output_type": "display_data"
    },
    {
     "data": {
      "application/vnd.jupyter.widget-view+json": {
       "model_id": "ac8e26c82f4d4af487910256062ef32c",
       "version_major": 2,
       "version_minor": 0
      },
      "text/plain": [
       "Books:   0%|          | 0/12 [00:00<?, ?it/s]"
      ]
     },
     "metadata": {},
     "output_type": "display_data"
    },
    {
     "data": {
      "application/vnd.jupyter.widget-view+json": {
       "model_id": "a8a1e9eb995d44018bb4c01aca43b7fe",
       "version_major": 2,
       "version_minor": 0
      },
      "text/plain": [
       "Books:   0%|          | 0/12 [00:00<?, ?it/s]"
      ]
     },
     "metadata": {},
     "output_type": "display_data"
    },
    {
     "data": {
      "application/vnd.jupyter.widget-view+json": {
       "model_id": "03a2fd164edf44d480689029e153d541",
       "version_major": 2,
       "version_minor": 0
      },
      "text/plain": [
       "Books:   0%|          | 0/12 [00:00<?, ?it/s]"
      ]
     },
     "metadata": {},
     "output_type": "display_data"
    },
    {
     "data": {
      "application/vnd.jupyter.widget-view+json": {
       "model_id": "18d0d1a58d2a4da8870489f7e3bef7df",
       "version_major": 2,
       "version_minor": 0
      },
      "text/plain": [
       "Books:   0%|          | 0/12 [00:00<?, ?it/s]"
      ]
     },
     "metadata": {},
     "output_type": "display_data"
    },
    {
     "data": {
      "application/vnd.jupyter.widget-view+json": {
       "model_id": "ed73eced2b3f4ef49bdc2d9846a4f2b8",
       "version_major": 2,
       "version_minor": 0
      },
      "text/plain": [
       "Books:   0%|          | 0/12 [00:00<?, ?it/s]"
      ]
     },
     "metadata": {},
     "output_type": "display_data"
    },
    {
     "data": {
      "application/vnd.jupyter.widget-view+json": {
       "model_id": "aeca6f089df9493d94568d90cded85df",
       "version_major": 2,
       "version_minor": 0
      },
      "text/plain": [
       "Books:   0%|          | 0/12 [00:00<?, ?it/s]"
      ]
     },
     "metadata": {},
     "output_type": "display_data"
    },
    {
     "data": {
      "application/vnd.jupyter.widget-view+json": {
       "model_id": "0dc5887bec5d4a288d7f536e45d60798",
       "version_major": 2,
       "version_minor": 0
      },
      "text/plain": [
       "Books:   0%|          | 0/12 [00:00<?, ?it/s]"
      ]
     },
     "metadata": {},
     "output_type": "display_data"
    },
    {
     "data": {
      "application/vnd.jupyter.widget-view+json": {
       "model_id": "95ba7b5799274cf48918029690836b5e",
       "version_major": 2,
       "version_minor": 0
      },
      "text/plain": [
       "Books:   0%|          | 0/12 [00:00<?, ?it/s]"
      ]
     },
     "metadata": {},
     "output_type": "display_data"
    },
    {
     "data": {
      "application/vnd.jupyter.widget-view+json": {
       "model_id": "d327aea0ec6e4052819e6e55ce173344",
       "version_major": 2,
       "version_minor": 0
      },
      "text/plain": [
       "Books:   0%|          | 0/12 [00:00<?, ?it/s]"
      ]
     },
     "metadata": {},
     "output_type": "display_data"
    },
    {
     "data": {
      "application/vnd.jupyter.widget-view+json": {
       "model_id": "1031d0fdcc9e475b9198c0d01399ce18",
       "version_major": 2,
       "version_minor": 0
      },
      "text/plain": [
       "Books:   0%|          | 0/12 [00:00<?, ?it/s]"
      ]
     },
     "metadata": {},
     "output_type": "display_data"
    },
    {
     "data": {
      "application/vnd.jupyter.widget-view+json": {
       "model_id": "b3dd739fe4f14d3f95fe375240d1317c",
       "version_major": 2,
       "version_minor": 0
      },
      "text/plain": [
       "Books:   0%|          | 0/12 [00:00<?, ?it/s]"
      ]
     },
     "metadata": {},
     "output_type": "display_data"
    },
    {
     "data": {
      "application/vnd.jupyter.widget-view+json": {
       "model_id": "15c1a2a469984b599bd0de1e7e9d8a6b",
       "version_major": 2,
       "version_minor": 0
      },
      "text/plain": [
       "Books:   0%|          | 0/12 [00:00<?, ?it/s]"
      ]
     },
     "metadata": {},
     "output_type": "display_data"
    },
    {
     "data": {
      "application/vnd.jupyter.widget-view+json": {
       "model_id": "e7e0d2ee853c46ed8ea258342de48a81",
       "version_major": 2,
       "version_minor": 0
      },
      "text/plain": [
       "Books:   0%|          | 0/12 [00:00<?, ?it/s]"
      ]
     },
     "metadata": {},
     "output_type": "display_data"
    },
    {
     "data": {
      "application/vnd.jupyter.widget-view+json": {
       "model_id": "8ef4b6be36264b2fa598ffac03e47472",
       "version_major": 2,
       "version_minor": 0
      },
      "text/plain": [
       "Books:   0%|          | 0/12 [00:00<?, ?it/s]"
      ]
     },
     "metadata": {},
     "output_type": "display_data"
    },
    {
     "data": {
      "application/vnd.jupyter.widget-view+json": {
       "model_id": "68ce84bee2974ed9b78da483a864584b",
       "version_major": 2,
       "version_minor": 0
      },
      "text/plain": [
       "Books:   0%|          | 0/12 [00:00<?, ?it/s]"
      ]
     },
     "metadata": {},
     "output_type": "display_data"
    },
    {
     "data": {
      "application/vnd.jupyter.widget-view+json": {
       "model_id": "ffa5ce4b91e4483eaa0891727405f955",
       "version_major": 2,
       "version_minor": 0
      },
      "text/plain": [
       "Books:   0%|          | 0/12 [00:00<?, ?it/s]"
      ]
     },
     "metadata": {},
     "output_type": "display_data"
    },
    {
     "data": {
      "application/vnd.jupyter.widget-view+json": {
       "model_id": "beca2a87e8fd4e5bbc6aefbe20c94eed",
       "version_major": 2,
       "version_minor": 0
      },
      "text/plain": [
       "Books:   0%|          | 0/12 [00:00<?, ?it/s]"
      ]
     },
     "metadata": {},
     "output_type": "display_data"
    },
    {
     "data": {
      "application/vnd.jupyter.widget-view+json": {
       "model_id": "bcd6a0f1b85d4c28b62088995736b099",
       "version_major": 2,
       "version_minor": 0
      },
      "text/plain": [
       "Books:   0%|          | 0/12 [00:00<?, ?it/s]"
      ]
     },
     "metadata": {},
     "output_type": "display_data"
    },
    {
     "data": {
      "application/vnd.jupyter.widget-view+json": {
       "model_id": "4f49a8dbbd5040588165426bd67fb030",
       "version_major": 2,
       "version_minor": 0
      },
      "text/plain": [
       "Books:   0%|          | 0/12 [00:00<?, ?it/s]"
      ]
     },
     "metadata": {},
     "output_type": "display_data"
    },
    {
     "data": {
      "application/vnd.jupyter.widget-view+json": {
       "model_id": "831b34dd3b0843c5adce25935020ae91",
       "version_major": 2,
       "version_minor": 0
      },
      "text/plain": [
       "Books:   0%|          | 0/12 [00:00<?, ?it/s]"
      ]
     },
     "metadata": {},
     "output_type": "display_data"
    },
    {
     "data": {
      "application/vnd.jupyter.widget-view+json": {
       "model_id": "0e2400c56c0f41a5ba9267f6107450e4",
       "version_major": 2,
       "version_minor": 0
      },
      "text/plain": [
       "Books:   0%|          | 0/12 [00:00<?, ?it/s]"
      ]
     },
     "metadata": {},
     "output_type": "display_data"
    },
    {
     "data": {
      "application/vnd.jupyter.widget-view+json": {
       "model_id": "506f66759fca4e05806a38d9fe35baeb",
       "version_major": 2,
       "version_minor": 0
      },
      "text/plain": [
       "Books:   0%|          | 0/12 [00:00<?, ?it/s]"
      ]
     },
     "metadata": {},
     "output_type": "display_data"
    },
    {
     "data": {
      "application/vnd.jupyter.widget-view+json": {
       "model_id": "dbd780f67878428fa73f221b1ea15145",
       "version_major": 2,
       "version_minor": 0
      },
      "text/plain": [
       "Books:   0%|          | 0/12 [00:00<?, ?it/s]"
      ]
     },
     "metadata": {},
     "output_type": "display_data"
    },
    {
     "data": {
      "application/vnd.jupyter.widget-view+json": {
       "model_id": "7ae91d1b8572454d83629bab7ca3c677",
       "version_major": 2,
       "version_minor": 0
      },
      "text/plain": [
       "Books:   0%|          | 0/12 [00:00<?, ?it/s]"
      ]
     },
     "metadata": {},
     "output_type": "display_data"
    },
    {
     "data": {
      "application/vnd.jupyter.widget-view+json": {
       "model_id": "4b0f06a8e4554ed08948fc61e9f2306c",
       "version_major": 2,
       "version_minor": 0
      },
      "text/plain": [
       "Books:   0%|          | 0/12 [00:00<?, ?it/s]"
      ]
     },
     "metadata": {},
     "output_type": "display_data"
    },
    {
     "data": {
      "application/vnd.jupyter.widget-view+json": {
       "model_id": "dd833a5f898e40f2af3a582597e6ac7a",
       "version_major": 2,
       "version_minor": 0
      },
      "text/plain": [
       "Books:   0%|          | 0/12 [00:00<?, ?it/s]"
      ]
     },
     "metadata": {},
     "output_type": "display_data"
    },
    {
     "data": {
      "application/vnd.jupyter.widget-view+json": {
       "model_id": "6119e4968be0413baaf5ce4e772f1201",
       "version_major": 2,
       "version_minor": 0
      },
      "text/plain": [
       "Books:   0%|          | 0/12 [00:00<?, ?it/s]"
      ]
     },
     "metadata": {},
     "output_type": "display_data"
    },
    {
     "data": {
      "application/vnd.jupyter.widget-view+json": {
       "model_id": "35cda19036674de6b15c2f6075d72964",
       "version_major": 2,
       "version_minor": 0
      },
      "text/plain": [
       "Books:   0%|          | 0/12 [00:00<?, ?it/s]"
      ]
     },
     "metadata": {},
     "output_type": "display_data"
    },
    {
     "data": {
      "application/vnd.jupyter.widget-view+json": {
       "model_id": "9633cc370079475680330860e8249e07",
       "version_major": 2,
       "version_minor": 0
      },
      "text/plain": [
       "Books:   0%|          | 0/12 [00:00<?, ?it/s]"
      ]
     },
     "metadata": {},
     "output_type": "display_data"
    },
    {
     "data": {
      "application/vnd.jupyter.widget-view+json": {
       "model_id": "82addf3f799144148105e1bb193cedb2",
       "version_major": 2,
       "version_minor": 0
      },
      "text/plain": [
       "Books:   0%|          | 0/12 [00:00<?, ?it/s]"
      ]
     },
     "metadata": {},
     "output_type": "display_data"
    },
    {
     "data": {
      "application/vnd.jupyter.widget-view+json": {
       "model_id": "9635ee5d188b4bb6970d5fd783b5bf47",
       "version_major": 2,
       "version_minor": 0
      },
      "text/plain": [
       "Books:   0%|          | 0/12 [00:00<?, ?it/s]"
      ]
     },
     "metadata": {},
     "output_type": "display_data"
    },
    {
     "data": {
      "application/vnd.jupyter.widget-view+json": {
       "model_id": "8f7ce65912954916a8a959a88a5e6b8b",
       "version_major": 2,
       "version_minor": 0
      },
      "text/plain": [
       "Books:   0%|          | 0/12 [00:00<?, ?it/s]"
      ]
     },
     "metadata": {},
     "output_type": "display_data"
    },
    {
     "data": {
      "application/vnd.jupyter.widget-view+json": {
       "model_id": "4c5c0317dde2479a91dce41f99492ffe",
       "version_major": 2,
       "version_minor": 0
      },
      "text/plain": [
       "Books:   0%|          | 0/12 [00:00<?, ?it/s]"
      ]
     },
     "metadata": {},
     "output_type": "display_data"
    },
    {
     "data": {
      "application/vnd.jupyter.widget-view+json": {
       "model_id": "574854fe716c4313aba10437b1c8918e",
       "version_major": 2,
       "version_minor": 0
      },
      "text/plain": [
       "Books:   0%|          | 0/12 [00:00<?, ?it/s]"
      ]
     },
     "metadata": {},
     "output_type": "display_data"
    },
    {
     "data": {
      "application/vnd.jupyter.widget-view+json": {
       "model_id": "cffe160fc7104ea7b727866c89a5efa3",
       "version_major": 2,
       "version_minor": 0
      },
      "text/plain": [
       "Books:   0%|          | 0/12 [00:00<?, ?it/s]"
      ]
     },
     "metadata": {},
     "output_type": "display_data"
    },
    {
     "data": {
      "application/vnd.jupyter.widget-view+json": {
       "model_id": "ca877edcc6104e1885777c2b3957d638",
       "version_major": 2,
       "version_minor": 0
      },
      "text/plain": [
       "Books:   0%|          | 0/12 [00:00<?, ?it/s]"
      ]
     },
     "metadata": {},
     "output_type": "display_data"
    },
    {
     "data": {
      "application/vnd.jupyter.widget-view+json": {
       "model_id": "6d228d91f7fd4cd29f53703c84346e3f",
       "version_major": 2,
       "version_minor": 0
      },
      "text/plain": [
       "Books:   0%|          | 0/12 [00:00<?, ?it/s]"
      ]
     },
     "metadata": {},
     "output_type": "display_data"
    },
    {
     "data": {
      "application/vnd.jupyter.widget-view+json": {
       "model_id": "dd135dfa306e4a3a941170bc85822f93",
       "version_major": 2,
       "version_minor": 0
      },
      "text/plain": [
       "Books:   0%|          | 0/12 [00:00<?, ?it/s]"
      ]
     },
     "metadata": {},
     "output_type": "display_data"
    },
    {
     "data": {
      "application/vnd.jupyter.widget-view+json": {
       "model_id": "7579b8edc5024d22a8f6cacd22a33db6",
       "version_major": 2,
       "version_minor": 0
      },
      "text/plain": [
       "Books:   0%|          | 0/12 [00:00<?, ?it/s]"
      ]
     },
     "metadata": {},
     "output_type": "display_data"
    },
    {
     "data": {
      "application/vnd.jupyter.widget-view+json": {
       "model_id": "b91097e2f6a24270be5e3ba04af56dd5",
       "version_major": 2,
       "version_minor": 0
      },
      "text/plain": [
       "Books:   0%|          | 0/12 [00:00<?, ?it/s]"
      ]
     },
     "metadata": {},
     "output_type": "display_data"
    },
    {
     "data": {
      "application/vnd.jupyter.widget-view+json": {
       "model_id": "35391dac242046faa88744dc7c887b09",
       "version_major": 2,
       "version_minor": 0
      },
      "text/plain": [
       "Books:   0%|          | 0/12 [00:00<?, ?it/s]"
      ]
     },
     "metadata": {},
     "output_type": "display_data"
    },
    {
     "data": {
      "application/vnd.jupyter.widget-view+json": {
       "model_id": "41ad7d257e7348be9a90b96a59262427",
       "version_major": 2,
       "version_minor": 0
      },
      "text/plain": [
       "Books:   0%|          | 0/12 [00:00<?, ?it/s]"
      ]
     },
     "metadata": {},
     "output_type": "display_data"
    },
    {
     "data": {
      "application/vnd.jupyter.widget-view+json": {
       "model_id": "b71e77a1188742c4a63979c594269234",
       "version_major": 2,
       "version_minor": 0
      },
      "text/plain": [
       "Books:   0%|          | 0/12 [00:00<?, ?it/s]"
      ]
     },
     "metadata": {},
     "output_type": "display_data"
    },
    {
     "data": {
      "application/vnd.jupyter.widget-view+json": {
       "model_id": "2dc5cdfadc0742a3963d22dad9126d69",
       "version_major": 2,
       "version_minor": 0
      },
      "text/plain": [
       "Books:   0%|          | 0/12 [00:00<?, ?it/s]"
      ]
     },
     "metadata": {},
     "output_type": "display_data"
    },
    {
     "data": {
      "application/vnd.jupyter.widget-view+json": {
       "model_id": "9d94b00fef1f4f1bbb0959cc1b056df5",
       "version_major": 2,
       "version_minor": 0
      },
      "text/plain": [
       "Books:   0%|          | 0/12 [00:00<?, ?it/s]"
      ]
     },
     "metadata": {},
     "output_type": "display_data"
    },
    {
     "data": {
      "application/vnd.jupyter.widget-view+json": {
       "model_id": "2a91038cb52843b799842dd51337e118",
       "version_major": 2,
       "version_minor": 0
      },
      "text/plain": [
       "Books:   0%|          | 0/12 [00:00<?, ?it/s]"
      ]
     },
     "metadata": {},
     "output_type": "display_data"
    },
    {
     "data": {
      "application/vnd.jupyter.widget-view+json": {
       "model_id": "f97a26b4cc1243d59c72ffcdd388818a",
       "version_major": 2,
       "version_minor": 0
      },
      "text/plain": [
       "Books:   0%|          | 0/12 [00:00<?, ?it/s]"
      ]
     },
     "metadata": {},
     "output_type": "display_data"
    },
    {
     "data": {
      "application/vnd.jupyter.widget-view+json": {
       "model_id": "877d385046704659bbce63ba6f60bc4a",
       "version_major": 2,
       "version_minor": 0
      },
      "text/plain": [
       "Books:   0%|          | 0/12 [00:00<?, ?it/s]"
      ]
     },
     "metadata": {},
     "output_type": "display_data"
    },
    {
     "data": {
      "application/vnd.jupyter.widget-view+json": {
       "model_id": "bd4020e84a1c46c5842cb15c39b6cde4",
       "version_major": 2,
       "version_minor": 0
      },
      "text/plain": [
       "Books:   0%|          | 0/12 [00:00<?, ?it/s]"
      ]
     },
     "metadata": {},
     "output_type": "display_data"
    },
    {
     "data": {
      "application/vnd.jupyter.widget-view+json": {
       "model_id": "bbc54b84967241b5a1dc3da1a4e58fb8",
       "version_major": 2,
       "version_minor": 0
      },
      "text/plain": [
       "Books:   0%|          | 0/12 [00:00<?, ?it/s]"
      ]
     },
     "metadata": {},
     "output_type": "display_data"
    },
    {
     "data": {
      "application/vnd.jupyter.widget-view+json": {
       "model_id": "03d8721a3177479983d5b4704b864c68",
       "version_major": 2,
       "version_minor": 0
      },
      "text/plain": [
       "Books:   0%|          | 0/12 [00:00<?, ?it/s]"
      ]
     },
     "metadata": {},
     "output_type": "display_data"
    },
    {
     "data": {
      "application/vnd.jupyter.widget-view+json": {
       "model_id": "8ee30f2283304401a2cf0e143ea6114c",
       "version_major": 2,
       "version_minor": 0
      },
      "text/plain": [
       "Books:   0%|          | 0/12 [00:00<?, ?it/s]"
      ]
     },
     "metadata": {},
     "output_type": "display_data"
    },
    {
     "data": {
      "application/vnd.jupyter.widget-view+json": {
       "model_id": "d152f1c6097c4f20aa27cfc1447dde25",
       "version_major": 2,
       "version_minor": 0
      },
      "text/plain": [
       "Books:   0%|          | 0/12 [00:00<?, ?it/s]"
      ]
     },
     "metadata": {},
     "output_type": "display_data"
    },
    {
     "data": {
      "application/vnd.jupyter.widget-view+json": {
       "model_id": "afbabd68b04a40debe8ab4d3d381da66",
       "version_major": 2,
       "version_minor": 0
      },
      "text/plain": [
       "Books:   0%|          | 0/12 [00:00<?, ?it/s]"
      ]
     },
     "metadata": {},
     "output_type": "display_data"
    },
    {
     "data": {
      "application/vnd.jupyter.widget-view+json": {
       "model_id": "ef1e6cbcae42424bb37a56cb217f99e7",
       "version_major": 2,
       "version_minor": 0
      },
      "text/plain": [
       "Books:   0%|          | 0/12 [00:00<?, ?it/s]"
      ]
     },
     "metadata": {},
     "output_type": "display_data"
    },
    {
     "data": {
      "application/vnd.jupyter.widget-view+json": {
       "model_id": "a3283f05ca26415a888e0221f757433d",
       "version_major": 2,
       "version_minor": 0
      },
      "text/plain": [
       "Books:   0%|          | 0/12 [00:00<?, ?it/s]"
      ]
     },
     "metadata": {},
     "output_type": "display_data"
    },
    {
     "data": {
      "application/vnd.jupyter.widget-view+json": {
       "model_id": "1832e3dc006e449786f8bfff290cd8ed",
       "version_major": 2,
       "version_minor": 0
      },
      "text/plain": [
       "Books:   0%|          | 0/12 [00:00<?, ?it/s]"
      ]
     },
     "metadata": {},
     "output_type": "display_data"
    },
    {
     "data": {
      "application/vnd.jupyter.widget-view+json": {
       "model_id": "ea55340b24d440229555e5dd11f1a262",
       "version_major": 2,
       "version_minor": 0
      },
      "text/plain": [
       "Books:   0%|          | 0/12 [00:00<?, ?it/s]"
      ]
     },
     "metadata": {},
     "output_type": "display_data"
    },
    {
     "data": {
      "application/vnd.jupyter.widget-view+json": {
       "model_id": "cb24ebebfc2d403d9af697906da9c632",
       "version_major": 2,
       "version_minor": 0
      },
      "text/plain": [
       "Books:   0%|          | 0/12 [00:00<?, ?it/s]"
      ]
     },
     "metadata": {},
     "output_type": "display_data"
    },
    {
     "data": {
      "application/vnd.jupyter.widget-view+json": {
       "model_id": "99cc4d8d46814815af0e08d3429cccd1",
       "version_major": 2,
       "version_minor": 0
      },
      "text/plain": [
       "Books:   0%|          | 0/12 [00:00<?, ?it/s]"
      ]
     },
     "metadata": {},
     "output_type": "display_data"
    },
    {
     "data": {
      "application/vnd.jupyter.widget-view+json": {
       "model_id": "a0ef2d525bc74ea6bc4f37e98ee10ff2",
       "version_major": 2,
       "version_minor": 0
      },
      "text/plain": [
       "Books:   0%|          | 0/12 [00:00<?, ?it/s]"
      ]
     },
     "metadata": {},
     "output_type": "display_data"
    },
    {
     "data": {
      "application/vnd.jupyter.widget-view+json": {
       "model_id": "32f1f14bfaf440f7a04593191e6e7e09",
       "version_major": 2,
       "version_minor": 0
      },
      "text/plain": [
       "Books:   0%|          | 0/12 [00:00<?, ?it/s]"
      ]
     },
     "metadata": {},
     "output_type": "display_data"
    },
    {
     "data": {
      "application/vnd.jupyter.widget-view+json": {
       "model_id": "dd04ebd627164e6c95e8cc42fb52595f",
       "version_major": 2,
       "version_minor": 0
      },
      "text/plain": [
       "Books:   0%|          | 0/12 [00:00<?, ?it/s]"
      ]
     },
     "metadata": {},
     "output_type": "display_data"
    },
    {
     "data": {
      "application/vnd.jupyter.widget-view+json": {
       "model_id": "7eb321054d9a4e7d8e5bde42d99a0066",
       "version_major": 2,
       "version_minor": 0
      },
      "text/plain": [
       "Books:   0%|          | 0/12 [00:00<?, ?it/s]"
      ]
     },
     "metadata": {},
     "output_type": "display_data"
    },
    {
     "data": {
      "application/vnd.jupyter.widget-view+json": {
       "model_id": "2ec580bb369544dc97f8f2aa1bca8ca9",
       "version_major": 2,
       "version_minor": 0
      },
      "text/plain": [
       "Books:   0%|          | 0/12 [00:00<?, ?it/s]"
      ]
     },
     "metadata": {},
     "output_type": "display_data"
    },
    {
     "data": {
      "application/vnd.jupyter.widget-view+json": {
       "model_id": "61de3970f7c849f19bbe9ad24dea9255",
       "version_major": 2,
       "version_minor": 0
      },
      "text/plain": [
       "Books:   0%|          | 0/12 [00:00<?, ?it/s]"
      ]
     },
     "metadata": {},
     "output_type": "display_data"
    },
    {
     "data": {
      "application/vnd.jupyter.widget-view+json": {
       "model_id": "c1be112bf5694a89b6f0229fa13160b3",
       "version_major": 2,
       "version_minor": 0
      },
      "text/plain": [
       "Books:   0%|          | 0/12 [00:00<?, ?it/s]"
      ]
     },
     "metadata": {},
     "output_type": "display_data"
    },
    {
     "data": {
      "application/vnd.jupyter.widget-view+json": {
       "model_id": "7dd9509d37794e3584f9c65ff8a28c16",
       "version_major": 2,
       "version_minor": 0
      },
      "text/plain": [
       "Books:   0%|          | 0/12 [00:00<?, ?it/s]"
      ]
     },
     "metadata": {},
     "output_type": "display_data"
    },
    {
     "data": {
      "application/vnd.jupyter.widget-view+json": {
       "model_id": "b86e74f620a84e6ca022da19562b5211",
       "version_major": 2,
       "version_minor": 0
      },
      "text/plain": [
       "Books:   0%|          | 0/12 [00:00<?, ?it/s]"
      ]
     },
     "metadata": {},
     "output_type": "display_data"
    },
    {
     "data": {
      "application/vnd.jupyter.widget-view+json": {
       "model_id": "4883fad5694f4634bf7b8714dd50593d",
       "version_major": 2,
       "version_minor": 0
      },
      "text/plain": [
       "Books:   0%|          | 0/12 [00:00<?, ?it/s]"
      ]
     },
     "metadata": {},
     "output_type": "display_data"
    },
    {
     "data": {
      "application/vnd.jupyter.widget-view+json": {
       "model_id": "d689e2bb074448568c1782d29dd19cd6",
       "version_major": 2,
       "version_minor": 0
      },
      "text/plain": [
       "Books:   0%|          | 0/12 [00:00<?, ?it/s]"
      ]
     },
     "metadata": {},
     "output_type": "display_data"
    },
    {
     "data": {
      "application/vnd.jupyter.widget-view+json": {
       "model_id": "93d6f22ba5a1447c8b2720a4cbbd57e7",
       "version_major": 2,
       "version_minor": 0
      },
      "text/plain": [
       "Books:   0%|          | 0/12 [00:00<?, ?it/s]"
      ]
     },
     "metadata": {},
     "output_type": "display_data"
    },
    {
     "data": {
      "application/vnd.jupyter.widget-view+json": {
       "model_id": "c2e8e26beeab4d34835c91a7672ca945",
       "version_major": 2,
       "version_minor": 0
      },
      "text/plain": [
       "Books:   0%|          | 0/12 [00:00<?, ?it/s]"
      ]
     },
     "metadata": {},
     "output_type": "display_data"
    },
    {
     "data": {
      "application/vnd.jupyter.widget-view+json": {
       "model_id": "1a1bb36a388f4099875e79fa9cba906b",
       "version_major": 2,
       "version_minor": 0
      },
      "text/plain": [
       "Books:   0%|          | 0/12 [00:00<?, ?it/s]"
      ]
     },
     "metadata": {},
     "output_type": "display_data"
    },
    {
     "data": {
      "application/vnd.jupyter.widget-view+json": {
       "model_id": "5627e3b17a2641d8b4c192b7781ce9f4",
       "version_major": 2,
       "version_minor": 0
      },
      "text/plain": [
       "Books:   0%|          | 0/12 [00:00<?, ?it/s]"
      ]
     },
     "metadata": {},
     "output_type": "display_data"
    },
    {
     "data": {
      "application/vnd.jupyter.widget-view+json": {
       "model_id": "236186992a174ed1b6925ea7b2f84f04",
       "version_major": 2,
       "version_minor": 0
      },
      "text/plain": [
       "Books:   0%|          | 0/12 [00:00<?, ?it/s]"
      ]
     },
     "metadata": {},
     "output_type": "display_data"
    },
    {
     "data": {
      "application/vnd.jupyter.widget-view+json": {
       "model_id": "490dd43d0d05493dbe97c2047bac958d",
       "version_major": 2,
       "version_minor": 0
      },
      "text/plain": [
       "Books:   0%|          | 0/12 [00:00<?, ?it/s]"
      ]
     },
     "metadata": {},
     "output_type": "display_data"
    },
    {
     "data": {
      "application/vnd.jupyter.widget-view+json": {
       "model_id": "0e0c03bf85ac4ad8945fec29adceeb57",
       "version_major": 2,
       "version_minor": 0
      },
      "text/plain": [
       "Books:   0%|          | 0/12 [00:00<?, ?it/s]"
      ]
     },
     "metadata": {},
     "output_type": "display_data"
    },
    {
     "data": {
      "application/vnd.jupyter.widget-view+json": {
       "model_id": "d42c79327f7d433f9e28d245a1adebbd",
       "version_major": 2,
       "version_minor": 0
      },
      "text/plain": [
       "Books:   0%|          | 0/12 [00:00<?, ?it/s]"
      ]
     },
     "metadata": {},
     "output_type": "display_data"
    },
    {
     "data": {
      "application/vnd.jupyter.widget-view+json": {
       "model_id": "a00992c964084fc4be71dce03cb0906f",
       "version_major": 2,
       "version_minor": 0
      },
      "text/plain": [
       "Books:   0%|          | 0/12 [00:00<?, ?it/s]"
      ]
     },
     "metadata": {},
     "output_type": "display_data"
    },
    {
     "data": {
      "application/vnd.jupyter.widget-view+json": {
       "model_id": "cf7544d70f2247d3809e4d8d1f762809",
       "version_major": 2,
       "version_minor": 0
      },
      "text/plain": [
       "Books:   0%|          | 0/12 [00:00<?, ?it/s]"
      ]
     },
     "metadata": {},
     "output_type": "display_data"
    },
    {
     "data": {
      "application/vnd.jupyter.widget-view+json": {
       "model_id": "40cad2f56c5944c9a03eb4f3cd7963c1",
       "version_major": 2,
       "version_minor": 0
      },
      "text/plain": [
       "Books:   0%|          | 0/12 [00:00<?, ?it/s]"
      ]
     },
     "metadata": {},
     "output_type": "display_data"
    },
    {
     "data": {
      "application/vnd.jupyter.widget-view+json": {
       "model_id": "2833a3ec430c4f69afd809128589c088",
       "version_major": 2,
       "version_minor": 0
      },
      "text/plain": [
       "Books:   0%|          | 0/12 [00:00<?, ?it/s]"
      ]
     },
     "metadata": {},
     "output_type": "display_data"
    },
    {
     "data": {
      "application/vnd.jupyter.widget-view+json": {
       "model_id": "bf6eacce611c48f9a36d746c5242a5a5",
       "version_major": 2,
       "version_minor": 0
      },
      "text/plain": [
       "Books:   0%|          | 0/12 [00:00<?, ?it/s]"
      ]
     },
     "metadata": {},
     "output_type": "display_data"
    },
    {
     "data": {
      "application/vnd.jupyter.widget-view+json": {
       "model_id": "553b1aa44d604d3fb19257044f69117c",
       "version_major": 2,
       "version_minor": 0
      },
      "text/plain": [
       "Books:   0%|          | 0/12 [00:00<?, ?it/s]"
      ]
     },
     "metadata": {},
     "output_type": "display_data"
    },
    {
     "data": {
      "application/vnd.jupyter.widget-view+json": {
       "model_id": "c86b3d383a5c4a47a1998f7e776d3aa0",
       "version_major": 2,
       "version_minor": 0
      },
      "text/plain": [
       "Books:   0%|          | 0/12 [00:00<?, ?it/s]"
      ]
     },
     "metadata": {},
     "output_type": "display_data"
    },
    {
     "data": {
      "application/vnd.jupyter.widget-view+json": {
       "model_id": "f9de84e5f5174caf8f972950ca0e0734",
       "version_major": 2,
       "version_minor": 0
      },
      "text/plain": [
       "Books:   0%|          | 0/12 [00:00<?, ?it/s]"
      ]
     },
     "metadata": {},
     "output_type": "display_data"
    },
    {
     "data": {
      "application/vnd.jupyter.widget-view+json": {
       "model_id": "9feb841bd1d24b56b6f462113488d374",
       "version_major": 2,
       "version_minor": 0
      },
      "text/plain": [
       "Books:   0%|          | 0/12 [00:00<?, ?it/s]"
      ]
     },
     "metadata": {},
     "output_type": "display_data"
    },
    {
     "data": {
      "application/vnd.jupyter.widget-view+json": {
       "model_id": "a9eb1e479caa42e9bf4d20a04fdf51c5",
       "version_major": 2,
       "version_minor": 0
      },
      "text/plain": [
       "Books:   0%|          | 0/12 [00:00<?, ?it/s]"
      ]
     },
     "metadata": {},
     "output_type": "display_data"
    },
    {
     "data": {
      "application/vnd.jupyter.widget-view+json": {
       "model_id": "0d35e43baa6944d68a8d183f171fa3dd",
       "version_major": 2,
       "version_minor": 0
      },
      "text/plain": [
       "Books:   0%|          | 0/12 [00:00<?, ?it/s]"
      ]
     },
     "metadata": {},
     "output_type": "display_data"
    },
    {
     "data": {
      "application/vnd.jupyter.widget-view+json": {
       "model_id": "3d2c2ba0e62d4a7185c511435e7b6f6d",
       "version_major": 2,
       "version_minor": 0
      },
      "text/plain": [
       "Books:   0%|          | 0/12 [00:00<?, ?it/s]"
      ]
     },
     "metadata": {},
     "output_type": "display_data"
    },
    {
     "data": {
      "application/vnd.jupyter.widget-view+json": {
       "model_id": "ba87cfd389094361bf06397d456f166d",
       "version_major": 2,
       "version_minor": 0
      },
      "text/plain": [
       "Books:   0%|          | 0/12 [00:00<?, ?it/s]"
      ]
     },
     "metadata": {},
     "output_type": "display_data"
    },
    {
     "data": {
      "application/vnd.jupyter.widget-view+json": {
       "model_id": "e7a594d5a50541d08a2e2e152c7a1847",
       "version_major": 2,
       "version_minor": 0
      },
      "text/plain": [
       "Books:   0%|          | 0/12 [00:00<?, ?it/s]"
      ]
     },
     "metadata": {},
     "output_type": "display_data"
    },
    {
     "data": {
      "application/vnd.jupyter.widget-view+json": {
       "model_id": "d14be5c9bef64087bebdb786d5a78f5c",
       "version_major": 2,
       "version_minor": 0
      },
      "text/plain": [
       "Books:   0%|          | 0/12 [00:00<?, ?it/s]"
      ]
     },
     "metadata": {},
     "output_type": "display_data"
    },
    {
     "data": {
      "application/vnd.jupyter.widget-view+json": {
       "model_id": "677ca20994f34c52beebef24bd78296f",
       "version_major": 2,
       "version_minor": 0
      },
      "text/plain": [
       "Books:   0%|          | 0/12 [00:00<?, ?it/s]"
      ]
     },
     "metadata": {},
     "output_type": "display_data"
    },
    {
     "data": {
      "application/vnd.jupyter.widget-view+json": {
       "model_id": "7652c55e6d0f4e27875fadef897c896a",
       "version_major": 2,
       "version_minor": 0
      },
      "text/plain": [
       "Books:   0%|          | 0/12 [00:00<?, ?it/s]"
      ]
     },
     "metadata": {},
     "output_type": "display_data"
    },
    {
     "data": {
      "application/vnd.jupyter.widget-view+json": {
       "model_id": "ba4c78cc21de453aac63389ebc8baa0e",
       "version_major": 2,
       "version_minor": 0
      },
      "text/plain": [
       "Books:   0%|          | 0/12 [00:00<?, ?it/s]"
      ]
     },
     "metadata": {},
     "output_type": "display_data"
    },
    {
     "data": {
      "application/vnd.jupyter.widget-view+json": {
       "model_id": "3f817f03030844b18984d8d2e93403a3",
       "version_major": 2,
       "version_minor": 0
      },
      "text/plain": [
       "Books:   0%|          | 0/12 [00:00<?, ?it/s]"
      ]
     },
     "metadata": {},
     "output_type": "display_data"
    },
    {
     "data": {
      "application/vnd.jupyter.widget-view+json": {
       "model_id": "15558427a9974106a5f0e7eb29231685",
       "version_major": 2,
       "version_minor": 0
      },
      "text/plain": [
       "Books:   0%|          | 0/12 [00:00<?, ?it/s]"
      ]
     },
     "metadata": {},
     "output_type": "display_data"
    },
    {
     "data": {
      "application/vnd.jupyter.widget-view+json": {
       "model_id": "5363fe8d4ccd4a4ea9c684b70e23b994",
       "version_major": 2,
       "version_minor": 0
      },
      "text/plain": [
       "Books:   0%|          | 0/12 [00:00<?, ?it/s]"
      ]
     },
     "metadata": {},
     "output_type": "display_data"
    },
    {
     "data": {
      "application/vnd.jupyter.widget-view+json": {
       "model_id": "5b8414684d974b639f4341626bab23f7",
       "version_major": 2,
       "version_minor": 0
      },
      "text/plain": [
       "Books:   0%|          | 0/12 [00:00<?, ?it/s]"
      ]
     },
     "metadata": {},
     "output_type": "display_data"
    },
    {
     "data": {
      "application/vnd.jupyter.widget-view+json": {
       "model_id": "f0d26e34ef1e4d7ea3070d90ff3b977e",
       "version_major": 2,
       "version_minor": 0
      },
      "text/plain": [
       "Books:   0%|          | 0/12 [00:00<?, ?it/s]"
      ]
     },
     "metadata": {},
     "output_type": "display_data"
    },
    {
     "data": {
      "application/vnd.jupyter.widget-view+json": {
       "model_id": "ab81102446684617bb06bfd049df1f18",
       "version_major": 2,
       "version_minor": 0
      },
      "text/plain": [
       "Books:   0%|          | 0/12 [00:00<?, ?it/s]"
      ]
     },
     "metadata": {},
     "output_type": "display_data"
    },
    {
     "data": {
      "application/vnd.jupyter.widget-view+json": {
       "model_id": "0a03ba4726774768805f7c191c2de32c",
       "version_major": 2,
       "version_minor": 0
      },
      "text/plain": [
       "Books:   0%|          | 0/12 [00:00<?, ?it/s]"
      ]
     },
     "metadata": {},
     "output_type": "display_data"
    },
    {
     "data": {
      "application/vnd.jupyter.widget-view+json": {
       "model_id": "f69a998dd3fc4390b780e129165a641e",
       "version_major": 2,
       "version_minor": 0
      },
      "text/plain": [
       "Books:   0%|          | 0/12 [00:00<?, ?it/s]"
      ]
     },
     "metadata": {},
     "output_type": "display_data"
    },
    {
     "data": {
      "application/vnd.jupyter.widget-view+json": {
       "model_id": "5802ffc1b69149e299e80869b6ea283f",
       "version_major": 2,
       "version_minor": 0
      },
      "text/plain": [
       "Books:   0%|          | 0/12 [00:00<?, ?it/s]"
      ]
     },
     "metadata": {},
     "output_type": "display_data"
    },
    {
     "data": {
      "application/vnd.jupyter.widget-view+json": {
       "model_id": "090c693563394681bfc677001dd79c50",
       "version_major": 2,
       "version_minor": 0
      },
      "text/plain": [
       "Books:   0%|          | 0/12 [00:00<?, ?it/s]"
      ]
     },
     "metadata": {},
     "output_type": "display_data"
    },
    {
     "data": {
      "application/vnd.jupyter.widget-view+json": {
       "model_id": "d44e2335dc72434e82bdc28255619cc1",
       "version_major": 2,
       "version_minor": 0
      },
      "text/plain": [
       "Books:   0%|          | 0/12 [00:00<?, ?it/s]"
      ]
     },
     "metadata": {},
     "output_type": "display_data"
    },
    {
     "data": {
      "application/vnd.jupyter.widget-view+json": {
       "model_id": "cfdc269cfc674567891cf97410b56e59",
       "version_major": 2,
       "version_minor": 0
      },
      "text/plain": [
       "Books:   0%|          | 0/12 [00:00<?, ?it/s]"
      ]
     },
     "metadata": {},
     "output_type": "display_data"
    },
    {
     "data": {
      "application/vnd.jupyter.widget-view+json": {
       "model_id": "9e248ce9395546028ac9ddc26e4a102e",
       "version_major": 2,
       "version_minor": 0
      },
      "text/plain": [
       "Books:   0%|          | 0/12 [00:00<?, ?it/s]"
      ]
     },
     "metadata": {},
     "output_type": "display_data"
    },
    {
     "data": {
      "application/vnd.jupyter.widget-view+json": {
       "model_id": "12343ebcede24e7e80d44415dc0d7d37",
       "version_major": 2,
       "version_minor": 0
      },
      "text/plain": [
       "Books:   0%|          | 0/12 [00:00<?, ?it/s]"
      ]
     },
     "metadata": {},
     "output_type": "display_data"
    },
    {
     "data": {
      "application/vnd.jupyter.widget-view+json": {
       "model_id": "90beb7ab09604a15bd068764f2b9698e",
       "version_major": 2,
       "version_minor": 0
      },
      "text/plain": [
       "Books:   0%|          | 0/12 [00:00<?, ?it/s]"
      ]
     },
     "metadata": {},
     "output_type": "display_data"
    },
    {
     "data": {
      "application/vnd.jupyter.widget-view+json": {
       "model_id": "6394015016264ca9b8fba21dfa034802",
       "version_major": 2,
       "version_minor": 0
      },
      "text/plain": [
       "Books:   0%|          | 0/12 [00:00<?, ?it/s]"
      ]
     },
     "metadata": {},
     "output_type": "display_data"
    },
    {
     "data": {
      "application/vnd.jupyter.widget-view+json": {
       "model_id": "bb47a090c9bc4617966339ca6ddbe368",
       "version_major": 2,
       "version_minor": 0
      },
      "text/plain": [
       "Books:   0%|          | 0/12 [00:00<?, ?it/s]"
      ]
     },
     "metadata": {},
     "output_type": "display_data"
    },
    {
     "data": {
      "application/vnd.jupyter.widget-view+json": {
       "model_id": "2755302fbf6d45129ae14c933d77bd1f",
       "version_major": 2,
       "version_minor": 0
      },
      "text/plain": [
       "Books:   0%|          | 0/12 [00:00<?, ?it/s]"
      ]
     },
     "metadata": {},
     "output_type": "display_data"
    },
    {
     "data": {
      "application/vnd.jupyter.widget-view+json": {
       "model_id": "0afee8bba2314432b647c8ac39f85aa0",
       "version_major": 2,
       "version_minor": 0
      },
      "text/plain": [
       "Books:   0%|          | 0/12 [00:00<?, ?it/s]"
      ]
     },
     "metadata": {},
     "output_type": "display_data"
    },
    {
     "data": {
      "application/vnd.jupyter.widget-view+json": {
       "model_id": "24784c4752d4422eba3b9c53548ce979",
       "version_major": 2,
       "version_minor": 0
      },
      "text/plain": [
       "Books:   0%|          | 0/12 [00:00<?, ?it/s]"
      ]
     },
     "metadata": {},
     "output_type": "display_data"
    },
    {
     "data": {
      "application/vnd.jupyter.widget-view+json": {
       "model_id": "dbb3bf23673c44b5b196cf5bc1dad0a9",
       "version_major": 2,
       "version_minor": 0
      },
      "text/plain": [
       "Books:   0%|          | 0/12 [00:00<?, ?it/s]"
      ]
     },
     "metadata": {},
     "output_type": "display_data"
    },
    {
     "data": {
      "application/vnd.jupyter.widget-view+json": {
       "model_id": "eacfa1281a904d0eb24afe53585d8d13",
       "version_major": 2,
       "version_minor": 0
      },
      "text/plain": [
       "Books:   0%|          | 0/12 [00:00<?, ?it/s]"
      ]
     },
     "metadata": {},
     "output_type": "display_data"
    },
    {
     "data": {
      "application/vnd.jupyter.widget-view+json": {
       "model_id": "84f34a7e687c49b3b023c0ffe96522fa",
       "version_major": 2,
       "version_minor": 0
      },
      "text/plain": [
       "Books:   0%|          | 0/12 [00:00<?, ?it/s]"
      ]
     },
     "metadata": {},
     "output_type": "display_data"
    },
    {
     "data": {
      "application/vnd.jupyter.widget-view+json": {
       "model_id": "109e96ee11dd4e1c925373fd82bffeef",
       "version_major": 2,
       "version_minor": 0
      },
      "text/plain": [
       "Books:   0%|          | 0/12 [00:00<?, ?it/s]"
      ]
     },
     "metadata": {},
     "output_type": "display_data"
    },
    {
     "data": {
      "application/vnd.jupyter.widget-view+json": {
       "model_id": "3687cd71f547457391f12c1faa0c53e3",
       "version_major": 2,
       "version_minor": 0
      },
      "text/plain": [
       "Books:   0%|          | 0/12 [00:00<?, ?it/s]"
      ]
     },
     "metadata": {},
     "output_type": "display_data"
    },
    {
     "data": {
      "application/vnd.jupyter.widget-view+json": {
       "model_id": "f7206e10542c41bf86ecb7f3a1b39977",
       "version_major": 2,
       "version_minor": 0
      },
      "text/plain": [
       "Books:   0%|          | 0/12 [00:00<?, ?it/s]"
      ]
     },
     "metadata": {},
     "output_type": "display_data"
    },
    {
     "data": {
      "application/vnd.jupyter.widget-view+json": {
       "model_id": "34af35a619ae4a688e1cdfb7601f5280",
       "version_major": 2,
       "version_minor": 0
      },
      "text/plain": [
       "Books:   0%|          | 0/12 [00:00<?, ?it/s]"
      ]
     },
     "metadata": {},
     "output_type": "display_data"
    },
    {
     "data": {
      "application/vnd.jupyter.widget-view+json": {
       "model_id": "40df85efed16433bb3ca40fb873ca69a",
       "version_major": 2,
       "version_minor": 0
      },
      "text/plain": [
       "Books:   0%|          | 0/12 [00:00<?, ?it/s]"
      ]
     },
     "metadata": {},
     "output_type": "display_data"
    },
    {
     "data": {
      "application/vnd.jupyter.widget-view+json": {
       "model_id": "e3172323634b44a7879f3154693728be",
       "version_major": 2,
       "version_minor": 0
      },
      "text/plain": [
       "Books:   0%|          | 0/12 [00:00<?, ?it/s]"
      ]
     },
     "metadata": {},
     "output_type": "display_data"
    },
    {
     "data": {
      "application/vnd.jupyter.widget-view+json": {
       "model_id": "ec91d337069c426ca7c611dfb23dab73",
       "version_major": 2,
       "version_minor": 0
      },
      "text/plain": [
       "Books:   0%|          | 0/12 [00:00<?, ?it/s]"
      ]
     },
     "metadata": {},
     "output_type": "display_data"
    },
    {
     "data": {
      "application/vnd.jupyter.widget-view+json": {
       "model_id": "72e22c5d620540bb87362998af13e5af",
       "version_major": 2,
       "version_minor": 0
      },
      "text/plain": [
       "Books:   0%|          | 0/12 [00:00<?, ?it/s]"
      ]
     },
     "metadata": {},
     "output_type": "display_data"
    },
    {
     "data": {
      "application/vnd.jupyter.widget-view+json": {
       "model_id": "4fcad8e9ac34458a9b6aeafe92a42e2f",
       "version_major": 2,
       "version_minor": 0
      },
      "text/plain": [
       "Books:   0%|          | 0/12 [00:00<?, ?it/s]"
      ]
     },
     "metadata": {},
     "output_type": "display_data"
    },
    {
     "data": {
      "application/vnd.jupyter.widget-view+json": {
       "model_id": "d9de29d0ea8949958cbf0e4b375d8d8f",
       "version_major": 2,
       "version_minor": 0
      },
      "text/plain": [
       "Books:   0%|          | 0/12 [00:00<?, ?it/s]"
      ]
     },
     "metadata": {},
     "output_type": "display_data"
    },
    {
     "data": {
      "application/vnd.jupyter.widget-view+json": {
       "model_id": "0f6114e9bf844fdd9262fd487a203160",
       "version_major": 2,
       "version_minor": 0
      },
      "text/plain": [
       "Books:   0%|          | 0/12 [00:00<?, ?it/s]"
      ]
     },
     "metadata": {},
     "output_type": "display_data"
    },
    {
     "data": {
      "application/vnd.jupyter.widget-view+json": {
       "model_id": "368e4490f0ac460e9fda966652219995",
       "version_major": 2,
       "version_minor": 0
      },
      "text/plain": [
       "Books:   0%|          | 0/12 [00:00<?, ?it/s]"
      ]
     },
     "metadata": {},
     "output_type": "display_data"
    },
    {
     "data": {
      "application/vnd.jupyter.widget-view+json": {
       "model_id": "dd1286ba41dd476dbc8d0e3771be2fa6",
       "version_major": 2,
       "version_minor": 0
      },
      "text/plain": [
       "Books:   0%|          | 0/12 [00:00<?, ?it/s]"
      ]
     },
     "metadata": {},
     "output_type": "display_data"
    },
    {
     "data": {
      "application/vnd.jupyter.widget-view+json": {
       "model_id": "95352e93fbfe4ccea59a64e1bdaab0f8",
       "version_major": 2,
       "version_minor": 0
      },
      "text/plain": [
       "Books:   0%|          | 0/12 [00:00<?, ?it/s]"
      ]
     },
     "metadata": {},
     "output_type": "display_data"
    },
    {
     "data": {
      "application/vnd.jupyter.widget-view+json": {
       "model_id": "38ef3e49234e46f09a8422aacb2b31f3",
       "version_major": 2,
       "version_minor": 0
      },
      "text/plain": [
       "Books:   0%|          | 0/12 [00:00<?, ?it/s]"
      ]
     },
     "metadata": {},
     "output_type": "display_data"
    },
    {
     "data": {
      "application/vnd.jupyter.widget-view+json": {
       "model_id": "64544ba529b3426b81953083077bc2c1",
       "version_major": 2,
       "version_minor": 0
      },
      "text/plain": [
       "Books:   0%|          | 0/12 [00:00<?, ?it/s]"
      ]
     },
     "metadata": {},
     "output_type": "display_data"
    },
    {
     "data": {
      "application/vnd.jupyter.widget-view+json": {
       "model_id": "6791baacf08c43e784f4071ca5dbb86b",
       "version_major": 2,
       "version_minor": 0
      },
      "text/plain": [
       "Books:   0%|          | 0/12 [00:00<?, ?it/s]"
      ]
     },
     "metadata": {},
     "output_type": "display_data"
    },
    {
     "data": {
      "application/vnd.jupyter.widget-view+json": {
       "model_id": "ab0022f7e03847a1ac5cbbe882d2712e",
       "version_major": 2,
       "version_minor": 0
      },
      "text/plain": [
       "Books:   0%|          | 0/12 [00:00<?, ?it/s]"
      ]
     },
     "metadata": {},
     "output_type": "display_data"
    },
    {
     "data": {
      "application/vnd.jupyter.widget-view+json": {
       "model_id": "95bbc60275a74cce99dabf3c44029917",
       "version_major": 2,
       "version_minor": 0
      },
      "text/plain": [
       "Books:   0%|          | 0/12 [00:00<?, ?it/s]"
      ]
     },
     "metadata": {},
     "output_type": "display_data"
    },
    {
     "data": {
      "application/vnd.jupyter.widget-view+json": {
       "model_id": "584ab448379f433388fcf5e76f525fca",
       "version_major": 2,
       "version_minor": 0
      },
      "text/plain": [
       "Books:   0%|          | 0/12 [00:00<?, ?it/s]"
      ]
     },
     "metadata": {},
     "output_type": "display_data"
    },
    {
     "data": {
      "application/vnd.jupyter.widget-view+json": {
       "model_id": "66661e3446a94e9d8fe3cbaf0a3eeec7",
       "version_major": 2,
       "version_minor": 0
      },
      "text/plain": [
       "Books:   0%|          | 0/12 [00:00<?, ?it/s]"
      ]
     },
     "metadata": {},
     "output_type": "display_data"
    },
    {
     "data": {
      "application/vnd.jupyter.widget-view+json": {
       "model_id": "03d7c173bee24ddb888a0c0a560e582f",
       "version_major": 2,
       "version_minor": 0
      },
      "text/plain": [
       "Books:   0%|          | 0/12 [00:00<?, ?it/s]"
      ]
     },
     "metadata": {},
     "output_type": "display_data"
    },
    {
     "data": {
      "application/vnd.jupyter.widget-view+json": {
       "model_id": "9cd88eb6bbd54d42a4f5aff103089a48",
       "version_major": 2,
       "version_minor": 0
      },
      "text/plain": [
       "Books:   0%|          | 0/12 [00:00<?, ?it/s]"
      ]
     },
     "metadata": {},
     "output_type": "display_data"
    },
    {
     "data": {
      "application/vnd.jupyter.widget-view+json": {
       "model_id": "5001254af46f4fc29512435cb521854b",
       "version_major": 2,
       "version_minor": 0
      },
      "text/plain": [
       "Books:   0%|          | 0/12 [00:00<?, ?it/s]"
      ]
     },
     "metadata": {},
     "output_type": "display_data"
    },
    {
     "data": {
      "application/vnd.jupyter.widget-view+json": {
       "model_id": "7df730214f64400aa709a1348f8a5075",
       "version_major": 2,
       "version_minor": 0
      },
      "text/plain": [
       "Books:   0%|          | 0/12 [00:00<?, ?it/s]"
      ]
     },
     "metadata": {},
     "output_type": "display_data"
    },
    {
     "data": {
      "application/vnd.jupyter.widget-view+json": {
       "model_id": "2cabb05fb51b4184bcfb4c5ac1919507",
       "version_major": 2,
       "version_minor": 0
      },
      "text/plain": [
       "Books:   0%|          | 0/12 [00:00<?, ?it/s]"
      ]
     },
     "metadata": {},
     "output_type": "display_data"
    },
    {
     "data": {
      "application/vnd.jupyter.widget-view+json": {
       "model_id": "c5227aee51f94efba69d74223b1a3f68",
       "version_major": 2,
       "version_minor": 0
      },
      "text/plain": [
       "Books:   0%|          | 0/12 [00:00<?, ?it/s]"
      ]
     },
     "metadata": {},
     "output_type": "display_data"
    },
    {
     "data": {
      "application/vnd.jupyter.widget-view+json": {
       "model_id": "9131df91a3a94a16914c45f00bb21930",
       "version_major": 2,
       "version_minor": 0
      },
      "text/plain": [
       "Books:   0%|          | 0/12 [00:00<?, ?it/s]"
      ]
     },
     "metadata": {},
     "output_type": "display_data"
    },
    {
     "data": {
      "application/vnd.jupyter.widget-view+json": {
       "model_id": "06fa0acac0e24f58ad474015e5f6586c",
       "version_major": 2,
       "version_minor": 0
      },
      "text/plain": [
       "Books:   0%|          | 0/12 [00:00<?, ?it/s]"
      ]
     },
     "metadata": {},
     "output_type": "display_data"
    },
    {
     "data": {
      "application/vnd.jupyter.widget-view+json": {
       "model_id": "c96ca13d0235437cad8a080fbdac6b52",
       "version_major": 2,
       "version_minor": 0
      },
      "text/plain": [
       "Books:   0%|          | 0/12 [00:00<?, ?it/s]"
      ]
     },
     "metadata": {},
     "output_type": "display_data"
    },
    {
     "data": {
      "application/vnd.jupyter.widget-view+json": {
       "model_id": "2ac932c03bae4015b08420132fc26572",
       "version_major": 2,
       "version_minor": 0
      },
      "text/plain": [
       "Books:   0%|          | 0/12 [00:00<?, ?it/s]"
      ]
     },
     "metadata": {},
     "output_type": "display_data"
    },
    {
     "data": {
      "application/vnd.jupyter.widget-view+json": {
       "model_id": "21f758a669124bc7b1f71d763a793e71",
       "version_major": 2,
       "version_minor": 0
      },
      "text/plain": [
       "Books:   0%|          | 0/12 [00:00<?, ?it/s]"
      ]
     },
     "metadata": {},
     "output_type": "display_data"
    },
    {
     "data": {
      "application/vnd.jupyter.widget-view+json": {
       "model_id": "29e70c88469047cebd5391f3a32e60a8",
       "version_major": 2,
       "version_minor": 0
      },
      "text/plain": [
       "Books:   0%|          | 0/12 [00:00<?, ?it/s]"
      ]
     },
     "metadata": {},
     "output_type": "display_data"
    },
    {
     "data": {
      "application/vnd.jupyter.widget-view+json": {
       "model_id": "d3310700a0304577be2ab9df960476fb",
       "version_major": 2,
       "version_minor": 0
      },
      "text/plain": [
       "Books:   0%|          | 0/12 [00:00<?, ?it/s]"
      ]
     },
     "metadata": {},
     "output_type": "display_data"
    },
    {
     "data": {
      "application/vnd.jupyter.widget-view+json": {
       "model_id": "4dffa25e8f4c418cb4fa0db3debcd1b6",
       "version_major": 2,
       "version_minor": 0
      },
      "text/plain": [
       "Books:   0%|          | 0/12 [00:00<?, ?it/s]"
      ]
     },
     "metadata": {},
     "output_type": "display_data"
    },
    {
     "data": {
      "application/vnd.jupyter.widget-view+json": {
       "model_id": "80a5e7e6bc184fe290a9914ab0c0766f",
       "version_major": 2,
       "version_minor": 0
      },
      "text/plain": [
       "Books:   0%|          | 0/12 [00:00<?, ?it/s]"
      ]
     },
     "metadata": {},
     "output_type": "display_data"
    },
    {
     "data": {
      "application/vnd.jupyter.widget-view+json": {
       "model_id": "87459c9e924e40639f2e669073009dac",
       "version_major": 2,
       "version_minor": 0
      },
      "text/plain": [
       "Books:   0%|          | 0/12 [00:00<?, ?it/s]"
      ]
     },
     "metadata": {},
     "output_type": "display_data"
    },
    {
     "data": {
      "application/vnd.jupyter.widget-view+json": {
       "model_id": "2180e9e13b9144d0ad6ebab07622e00d",
       "version_major": 2,
       "version_minor": 0
      },
      "text/plain": [
       "Books:   0%|          | 0/12 [00:00<?, ?it/s]"
      ]
     },
     "metadata": {},
     "output_type": "display_data"
    },
    {
     "data": {
      "application/vnd.jupyter.widget-view+json": {
       "model_id": "48b5e366a2a6422ea85c33430064d220",
       "version_major": 2,
       "version_minor": 0
      },
      "text/plain": [
       "Books:   0%|          | 0/12 [00:00<?, ?it/s]"
      ]
     },
     "metadata": {},
     "output_type": "display_data"
    },
    {
     "data": {
      "application/vnd.jupyter.widget-view+json": {
       "model_id": "c464c7ff83b54433a717ed1221a608fb",
       "version_major": 2,
       "version_minor": 0
      },
      "text/plain": [
       "Books:   0%|          | 0/12 [00:00<?, ?it/s]"
      ]
     },
     "metadata": {},
     "output_type": "display_data"
    },
    {
     "data": {
      "application/vnd.jupyter.widget-view+json": {
       "model_id": "7479438689764731b02b2a370c84c578",
       "version_major": 2,
       "version_minor": 0
      },
      "text/plain": [
       "Books:   0%|          | 0/12 [00:00<?, ?it/s]"
      ]
     },
     "metadata": {},
     "output_type": "display_data"
    },
    {
     "data": {
      "application/vnd.jupyter.widget-view+json": {
       "model_id": "05af9d0fed844f6bae96fe8242d9674c",
       "version_major": 2,
       "version_minor": 0
      },
      "text/plain": [
       "Books:   0%|          | 0/12 [00:00<?, ?it/s]"
      ]
     },
     "metadata": {},
     "output_type": "display_data"
    },
    {
     "data": {
      "application/vnd.jupyter.widget-view+json": {
       "model_id": "69a38358b7004bd4ae8a56f42c089452",
       "version_major": 2,
       "version_minor": 0
      },
      "text/plain": [
       "Books:   0%|          | 0/12 [00:00<?, ?it/s]"
      ]
     },
     "metadata": {},
     "output_type": "display_data"
    },
    {
     "data": {
      "application/vnd.jupyter.widget-view+json": {
       "model_id": "dfee40ae31ce471a9b696a534f180e35",
       "version_major": 2,
       "version_minor": 0
      },
      "text/plain": [
       "Books:   0%|          | 0/12 [00:00<?, ?it/s]"
      ]
     },
     "metadata": {},
     "output_type": "display_data"
    },
    {
     "data": {
      "application/vnd.jupyter.widget-view+json": {
       "model_id": "1f01edfcd729496ca44d52f23b15c289",
       "version_major": 2,
       "version_minor": 0
      },
      "text/plain": [
       "Books:   0%|          | 0/12 [00:00<?, ?it/s]"
      ]
     },
     "metadata": {},
     "output_type": "display_data"
    },
    {
     "data": {
      "application/vnd.jupyter.widget-view+json": {
       "model_id": "c688f3a5b5594ab0a883808948762b6c",
       "version_major": 2,
       "version_minor": 0
      },
      "text/plain": [
       "Books:   0%|          | 0/12 [00:00<?, ?it/s]"
      ]
     },
     "metadata": {},
     "output_type": "display_data"
    },
    {
     "data": {
      "application/vnd.jupyter.widget-view+json": {
       "model_id": "3d6aa60395584e8aa9c33bd1debe6858",
       "version_major": 2,
       "version_minor": 0
      },
      "text/plain": [
       "Books:   0%|          | 0/12 [00:00<?, ?it/s]"
      ]
     },
     "metadata": {},
     "output_type": "display_data"
    },
    {
     "data": {
      "application/vnd.jupyter.widget-view+json": {
       "model_id": "3ab57410f6254944b6e8f85bcadcccb7",
       "version_major": 2,
       "version_minor": 0
      },
      "text/plain": [
       "Books:   0%|          | 0/12 [00:00<?, ?it/s]"
      ]
     },
     "metadata": {},
     "output_type": "display_data"
    },
    {
     "data": {
      "application/vnd.jupyter.widget-view+json": {
       "model_id": "bba3213f2dbe43a5a84fcaa9a40f64e6",
       "version_major": 2,
       "version_minor": 0
      },
      "text/plain": [
       "Books:   0%|          | 0/12 [00:00<?, ?it/s]"
      ]
     },
     "metadata": {},
     "output_type": "display_data"
    },
    {
     "data": {
      "application/vnd.jupyter.widget-view+json": {
       "model_id": "16de732655c149c8a62dd6691679de00",
       "version_major": 2,
       "version_minor": 0
      },
      "text/plain": [
       "Books:   0%|          | 0/12 [00:00<?, ?it/s]"
      ]
     },
     "metadata": {},
     "output_type": "display_data"
    },
    {
     "data": {
      "application/vnd.jupyter.widget-view+json": {
       "model_id": "f1b30640115a44edb05db6f8f0d2d837",
       "version_major": 2,
       "version_minor": 0
      },
      "text/plain": [
       "Books:   0%|          | 0/12 [00:00<?, ?it/s]"
      ]
     },
     "metadata": {},
     "output_type": "display_data"
    },
    {
     "data": {
      "application/vnd.jupyter.widget-view+json": {
       "model_id": "f63bde4b357846c692ab41be3caf8ec4",
       "version_major": 2,
       "version_minor": 0
      },
      "text/plain": [
       "Books:   0%|          | 0/12 [00:00<?, ?it/s]"
      ]
     },
     "metadata": {},
     "output_type": "display_data"
    },
    {
     "data": {
      "application/vnd.jupyter.widget-view+json": {
       "model_id": "796a237c9d6443a7bd6f94c6646673cf",
       "version_major": 2,
       "version_minor": 0
      },
      "text/plain": [
       "Books:   0%|          | 0/12 [00:00<?, ?it/s]"
      ]
     },
     "metadata": {},
     "output_type": "display_data"
    },
    {
     "data": {
      "application/vnd.jupyter.widget-view+json": {
       "model_id": "791b23d3ab4b435a830efd890aa068bd",
       "version_major": 2,
       "version_minor": 0
      },
      "text/plain": [
       "Books:   0%|          | 0/12 [00:00<?, ?it/s]"
      ]
     },
     "metadata": {},
     "output_type": "display_data"
    },
    {
     "data": {
      "application/vnd.jupyter.widget-view+json": {
       "model_id": "6b732a643c314326a414b883c720dcd2",
       "version_major": 2,
       "version_minor": 0
      },
      "text/plain": [
       "Books:   0%|          | 0/12 [00:00<?, ?it/s]"
      ]
     },
     "metadata": {},
     "output_type": "display_data"
    },
    {
     "data": {
      "application/vnd.jupyter.widget-view+json": {
       "model_id": "31a55b4d6e644f9ea38fd5ef91022958",
       "version_major": 2,
       "version_minor": 0
      },
      "text/plain": [
       "Books:   0%|          | 0/12 [00:00<?, ?it/s]"
      ]
     },
     "metadata": {},
     "output_type": "display_data"
    },
    {
     "data": {
      "application/vnd.jupyter.widget-view+json": {
       "model_id": "a8c7e22905a34a68a4f7b587eaae63ed",
       "version_major": 2,
       "version_minor": 0
      },
      "text/plain": [
       "Books:   0%|          | 0/12 [00:00<?, ?it/s]"
      ]
     },
     "metadata": {},
     "output_type": "display_data"
    },
    {
     "data": {
      "application/vnd.jupyter.widget-view+json": {
       "model_id": "cdf5ceb1890742218069b1de4b0cd360",
       "version_major": 2,
       "version_minor": 0
      },
      "text/plain": [
       "Books:   0%|          | 0/12 [00:00<?, ?it/s]"
      ]
     },
     "metadata": {},
     "output_type": "display_data"
    },
    {
     "data": {
      "application/vnd.jupyter.widget-view+json": {
       "model_id": "f95f60ffe84b4d5b98d7fd5d8b6c0c34",
       "version_major": 2,
       "version_minor": 0
      },
      "text/plain": [
       "Books:   0%|          | 0/12 [00:00<?, ?it/s]"
      ]
     },
     "metadata": {},
     "output_type": "display_data"
    },
    {
     "data": {
      "application/vnd.jupyter.widget-view+json": {
       "model_id": "efcc653b297344c78d01f91ba989b3e0",
       "version_major": 2,
       "version_minor": 0
      },
      "text/plain": [
       "Books:   0%|          | 0/12 [00:00<?, ?it/s]"
      ]
     },
     "metadata": {},
     "output_type": "display_data"
    },
    {
     "data": {
      "application/vnd.jupyter.widget-view+json": {
       "model_id": "5fc01ca5562941628aa7b68305a91e2a",
       "version_major": 2,
       "version_minor": 0
      },
      "text/plain": [
       "Books:   0%|          | 0/12 [00:00<?, ?it/s]"
      ]
     },
     "metadata": {},
     "output_type": "display_data"
    },
    {
     "data": {
      "application/vnd.jupyter.widget-view+json": {
       "model_id": "0b843da0d85f41a283f4875038a0c3a9",
       "version_major": 2,
       "version_minor": 0
      },
      "text/plain": [
       "Books:   0%|          | 0/12 [00:00<?, ?it/s]"
      ]
     },
     "metadata": {},
     "output_type": "display_data"
    },
    {
     "data": {
      "application/vnd.jupyter.widget-view+json": {
       "model_id": "abc2b1f92eca4630ba472d078ab8af54",
       "version_major": 2,
       "version_minor": 0
      },
      "text/plain": [
       "Books:   0%|          | 0/12 [00:00<?, ?it/s]"
      ]
     },
     "metadata": {},
     "output_type": "display_data"
    },
    {
     "data": {
      "application/vnd.jupyter.widget-view+json": {
       "model_id": "15098d28f5a4490db1fe4a1b3796ecc1",
       "version_major": 2,
       "version_minor": 0
      },
      "text/plain": [
       "Books:   0%|          | 0/12 [00:00<?, ?it/s]"
      ]
     },
     "metadata": {},
     "output_type": "display_data"
    },
    {
     "data": {
      "application/vnd.jupyter.widget-view+json": {
       "model_id": "a0c795ab05b643a899647436468b7898",
       "version_major": 2,
       "version_minor": 0
      },
      "text/plain": [
       "Books:   0%|          | 0/12 [00:00<?, ?it/s]"
      ]
     },
     "metadata": {},
     "output_type": "display_data"
    },
    {
     "data": {
      "application/vnd.jupyter.widget-view+json": {
       "model_id": "6121e6bff5d94468869b29e1716cc407",
       "version_major": 2,
       "version_minor": 0
      },
      "text/plain": [
       "Books:   0%|          | 0/12 [00:00<?, ?it/s]"
      ]
     },
     "metadata": {},
     "output_type": "display_data"
    },
    {
     "data": {
      "application/vnd.jupyter.widget-view+json": {
       "model_id": "c3e284bd5a604e58b5ce7e9ddb3cca16",
       "version_major": 2,
       "version_minor": 0
      },
      "text/plain": [
       "Books:   0%|          | 0/12 [00:00<?, ?it/s]"
      ]
     },
     "metadata": {},
     "output_type": "display_data"
    },
    {
     "data": {
      "application/vnd.jupyter.widget-view+json": {
       "model_id": "89f4b22b907341b5baa821bb6f772c8d",
       "version_major": 2,
       "version_minor": 0
      },
      "text/plain": [
       "Books:   0%|          | 0/12 [00:00<?, ?it/s]"
      ]
     },
     "metadata": {},
     "output_type": "display_data"
    },
    {
     "data": {
      "application/vnd.jupyter.widget-view+json": {
       "model_id": "5e9fbdfd2fc64040a366bb54f6963326",
       "version_major": 2,
       "version_minor": 0
      },
      "text/plain": [
       "Books:   0%|          | 0/12 [00:00<?, ?it/s]"
      ]
     },
     "metadata": {},
     "output_type": "display_data"
    },
    {
     "data": {
      "application/vnd.jupyter.widget-view+json": {
       "model_id": "d289dfcafd3d4a9e838598cd3b539866",
       "version_major": 2,
       "version_minor": 0
      },
      "text/plain": [
       "Books:   0%|          | 0/12 [00:00<?, ?it/s]"
      ]
     },
     "metadata": {},
     "output_type": "display_data"
    },
    {
     "data": {
      "application/vnd.jupyter.widget-view+json": {
       "model_id": "7abe3f149bc047a2a54b2fa42abc7300",
       "version_major": 2,
       "version_minor": 0
      },
      "text/plain": [
       "Books:   0%|          | 0/12 [00:00<?, ?it/s]"
      ]
     },
     "metadata": {},
     "output_type": "display_data"
    },
    {
     "data": {
      "application/vnd.jupyter.widget-view+json": {
       "model_id": "52ffeffab3f04f90b9ad716112b80b85",
       "version_major": 2,
       "version_minor": 0
      },
      "text/plain": [
       "Books:   0%|          | 0/12 [00:00<?, ?it/s]"
      ]
     },
     "metadata": {},
     "output_type": "display_data"
    },
    {
     "data": {
      "application/vnd.jupyter.widget-view+json": {
       "model_id": "9c237bffb1c34434bcd1a889255c22f6",
       "version_major": 2,
       "version_minor": 0
      },
      "text/plain": [
       "Books:   0%|          | 0/12 [00:00<?, ?it/s]"
      ]
     },
     "metadata": {},
     "output_type": "display_data"
    },
    {
     "data": {
      "application/vnd.jupyter.widget-view+json": {
       "model_id": "44337487c95b4aa6b8e9ec32920ccbe3",
       "version_major": 2,
       "version_minor": 0
      },
      "text/plain": [
       "Books:   0%|          | 0/12 [00:00<?, ?it/s]"
      ]
     },
     "metadata": {},
     "output_type": "display_data"
    },
    {
     "data": {
      "application/vnd.jupyter.widget-view+json": {
       "model_id": "6cc640e360d84f5885c2cf07a8e71edb",
       "version_major": 2,
       "version_minor": 0
      },
      "text/plain": [
       "Books:   0%|          | 0/12 [00:00<?, ?it/s]"
      ]
     },
     "metadata": {},
     "output_type": "display_data"
    },
    {
     "data": {
      "application/vnd.jupyter.widget-view+json": {
       "model_id": "b88f5254569147fba5f040ccdbfdc7ab",
       "version_major": 2,
       "version_minor": 0
      },
      "text/plain": [
       "Books:   0%|          | 0/12 [00:00<?, ?it/s]"
      ]
     },
     "metadata": {},
     "output_type": "display_data"
    },
    {
     "data": {
      "application/vnd.jupyter.widget-view+json": {
       "model_id": "5f6956b9bc4647abbe7effa273afcdbb",
       "version_major": 2,
       "version_minor": 0
      },
      "text/plain": [
       "Books:   0%|          | 0/12 [00:00<?, ?it/s]"
      ]
     },
     "metadata": {},
     "output_type": "display_data"
    },
    {
     "data": {
      "application/vnd.jupyter.widget-view+json": {
       "model_id": "3ffe8f62b3d349c0b365b6f762371533",
       "version_major": 2,
       "version_minor": 0
      },
      "text/plain": [
       "Books:   0%|          | 0/12 [00:00<?, ?it/s]"
      ]
     },
     "metadata": {},
     "output_type": "display_data"
    },
    {
     "data": {
      "application/vnd.jupyter.widget-view+json": {
       "model_id": "72f077a0888a4374849d12d28b9b24eb",
       "version_major": 2,
       "version_minor": 0
      },
      "text/plain": [
       "Books:   0%|          | 0/12 [00:00<?, ?it/s]"
      ]
     },
     "metadata": {},
     "output_type": "display_data"
    },
    {
     "data": {
      "application/vnd.jupyter.widget-view+json": {
       "model_id": "7a42fbbf71e246ea87a0f938a212cabf",
       "version_major": 2,
       "version_minor": 0
      },
      "text/plain": [
       "Books:   0%|          | 0/12 [00:00<?, ?it/s]"
      ]
     },
     "metadata": {},
     "output_type": "display_data"
    },
    {
     "data": {
      "application/vnd.jupyter.widget-view+json": {
       "model_id": "194c2e52add64046b55aa3bad0fa13f3",
       "version_major": 2,
       "version_minor": 0
      },
      "text/plain": [
       "Books:   0%|          | 0/12 [00:00<?, ?it/s]"
      ]
     },
     "metadata": {},
     "output_type": "display_data"
    },
    {
     "data": {
      "application/vnd.jupyter.widget-view+json": {
       "model_id": "5f36ed743d07401d8dce667df968c2bb",
       "version_major": 2,
       "version_minor": 0
      },
      "text/plain": [
       "Books:   0%|          | 0/12 [00:00<?, ?it/s]"
      ]
     },
     "metadata": {},
     "output_type": "display_data"
    },
    {
     "data": {
      "application/vnd.jupyter.widget-view+json": {
       "model_id": "0fd4c0426ac34e0fa2bd8a61989ccd55",
       "version_major": 2,
       "version_minor": 0
      },
      "text/plain": [
       "Books:   0%|          | 0/12 [00:00<?, ?it/s]"
      ]
     },
     "metadata": {},
     "output_type": "display_data"
    },
    {
     "data": {
      "application/vnd.jupyter.widget-view+json": {
       "model_id": "183052cb20a6485aa8d64ca7baa06a19",
       "version_major": 2,
       "version_minor": 0
      },
      "text/plain": [
       "Books:   0%|          | 0/12 [00:00<?, ?it/s]"
      ]
     },
     "metadata": {},
     "output_type": "display_data"
    },
    {
     "data": {
      "application/vnd.jupyter.widget-view+json": {
       "model_id": "f4314a9196d74440ac8f7544f2a517f6",
       "version_major": 2,
       "version_minor": 0
      },
      "text/plain": [
       "Books:   0%|          | 0/12 [00:00<?, ?it/s]"
      ]
     },
     "metadata": {},
     "output_type": "display_data"
    },
    {
     "data": {
      "application/vnd.jupyter.widget-view+json": {
       "model_id": "ef41c8d422d44093ba727a2785ea44a3",
       "version_major": 2,
       "version_minor": 0
      },
      "text/plain": [
       "Books:   0%|          | 0/12 [00:00<?, ?it/s]"
      ]
     },
     "metadata": {},
     "output_type": "display_data"
    },
    {
     "data": {
      "application/vnd.jupyter.widget-view+json": {
       "model_id": "2856ab09fffb4d109548218e855138b6",
       "version_major": 2,
       "version_minor": 0
      },
      "text/plain": [
       "Books:   0%|          | 0/12 [00:00<?, ?it/s]"
      ]
     },
     "metadata": {},
     "output_type": "display_data"
    },
    {
     "data": {
      "application/vnd.jupyter.widget-view+json": {
       "model_id": "127bba9197444c58af8026645ddb2935",
       "version_major": 2,
       "version_minor": 0
      },
      "text/plain": [
       "Books:   0%|          | 0/12 [00:00<?, ?it/s]"
      ]
     },
     "metadata": {},
     "output_type": "display_data"
    },
    {
     "data": {
      "application/vnd.jupyter.widget-view+json": {
       "model_id": "b986c0133c58490cbf7f7942ccaf7e0f",
       "version_major": 2,
       "version_minor": 0
      },
      "text/plain": [
       "Books:   0%|          | 0/12 [00:00<?, ?it/s]"
      ]
     },
     "metadata": {},
     "output_type": "display_data"
    },
    {
     "data": {
      "application/vnd.jupyter.widget-view+json": {
       "model_id": "2d4d36a1ed314f528b0324fb763a13dd",
       "version_major": 2,
       "version_minor": 0
      },
      "text/plain": [
       "Books:   0%|          | 0/12 [00:00<?, ?it/s]"
      ]
     },
     "metadata": {},
     "output_type": "display_data"
    },
    {
     "data": {
      "application/vnd.jupyter.widget-view+json": {
       "model_id": "a1649c0f227647848b6cc19f13afb3f1",
       "version_major": 2,
       "version_minor": 0
      },
      "text/plain": [
       "Books:   0%|          | 0/12 [00:00<?, ?it/s]"
      ]
     },
     "metadata": {},
     "output_type": "display_data"
    },
    {
     "data": {
      "application/vnd.jupyter.widget-view+json": {
       "model_id": "33b104f4a1ef4ca9b03b1cae988f3d93",
       "version_major": 2,
       "version_minor": 0
      },
      "text/plain": [
       "Books:   0%|          | 0/12 [00:00<?, ?it/s]"
      ]
     },
     "metadata": {},
     "output_type": "display_data"
    },
    {
     "data": {
      "application/vnd.jupyter.widget-view+json": {
       "model_id": "1340ecaeb8c74579a544c10ffdbd5b2c",
       "version_major": 2,
       "version_minor": 0
      },
      "text/plain": [
       "Books:   0%|          | 0/12 [00:00<?, ?it/s]"
      ]
     },
     "metadata": {},
     "output_type": "display_data"
    },
    {
     "data": {
      "application/vnd.jupyter.widget-view+json": {
       "model_id": "8cb9ffbc200a422cb6ef8e35c7d45790",
       "version_major": 2,
       "version_minor": 0
      },
      "text/plain": [
       "Books:   0%|          | 0/12 [00:00<?, ?it/s]"
      ]
     },
     "metadata": {},
     "output_type": "display_data"
    },
    {
     "data": {
      "application/vnd.jupyter.widget-view+json": {
       "model_id": "64f25ac92830490c92cb9951609e2729",
       "version_major": 2,
       "version_minor": 0
      },
      "text/plain": [
       "Books:   0%|          | 0/12 [00:00<?, ?it/s]"
      ]
     },
     "metadata": {},
     "output_type": "display_data"
    },
    {
     "data": {
      "application/vnd.jupyter.widget-view+json": {
       "model_id": "f5d54a469312473fa48a053673778bf9",
       "version_major": 2,
       "version_minor": 0
      },
      "text/plain": [
       "Books:   0%|          | 0/12 [00:00<?, ?it/s]"
      ]
     },
     "metadata": {},
     "output_type": "display_data"
    },
    {
     "data": {
      "application/vnd.jupyter.widget-view+json": {
       "model_id": "21fe0a0af710462b80294117d720eb94",
       "version_major": 2,
       "version_minor": 0
      },
      "text/plain": [
       "Books:   0%|          | 0/12 [00:00<?, ?it/s]"
      ]
     },
     "metadata": {},
     "output_type": "display_data"
    },
    {
     "data": {
      "application/vnd.jupyter.widget-view+json": {
       "model_id": "149701d6a0314e418b0a0d65212ed63f",
       "version_major": 2,
       "version_minor": 0
      },
      "text/plain": [
       "Books:   0%|          | 0/12 [00:00<?, ?it/s]"
      ]
     },
     "metadata": {},
     "output_type": "display_data"
    },
    {
     "data": {
      "application/vnd.jupyter.widget-view+json": {
       "model_id": "d367e4ecc1714dd685acf3a273439933",
       "version_major": 2,
       "version_minor": 0
      },
      "text/plain": [
       "Books:   0%|          | 0/12 [00:00<?, ?it/s]"
      ]
     },
     "metadata": {},
     "output_type": "display_data"
    },
    {
     "data": {
      "application/vnd.jupyter.widget-view+json": {
       "model_id": "adaec111af454a32b7ed98a0c7d0dd18",
       "version_major": 2,
       "version_minor": 0
      },
      "text/plain": [
       "Books:   0%|          | 0/12 [00:00<?, ?it/s]"
      ]
     },
     "metadata": {},
     "output_type": "display_data"
    },
    {
     "data": {
      "application/vnd.jupyter.widget-view+json": {
       "model_id": "8258b8ef2aaf4e76b52a6df1cacd89a9",
       "version_major": 2,
       "version_minor": 0
      },
      "text/plain": [
       "Books:   0%|          | 0/12 [00:00<?, ?it/s]"
      ]
     },
     "metadata": {},
     "output_type": "display_data"
    },
    {
     "data": {
      "application/vnd.jupyter.widget-view+json": {
       "model_id": "d0fbc56eccaa48f285118059af4595b3",
       "version_major": 2,
       "version_minor": 0
      },
      "text/plain": [
       "Books:   0%|          | 0/12 [00:00<?, ?it/s]"
      ]
     },
     "metadata": {},
     "output_type": "display_data"
    },
    {
     "data": {
      "application/vnd.jupyter.widget-view+json": {
       "model_id": "893f53101fe941579f65afe6bf33e3b4",
       "version_major": 2,
       "version_minor": 0
      },
      "text/plain": [
       "Books:   0%|          | 0/2 [00:00<?, ?it/s]"
      ]
     },
     "metadata": {},
     "output_type": "display_data"
    },
    {
     "data": {
      "application/vnd.jupyter.widget-view+json": {
       "model_id": "ac74a44e0b38469380c292e51dab36fa",
       "version_major": 2,
       "version_minor": 0
      },
      "text/plain": [
       "Books: 0it [00:00, ?it/s]"
      ]
     },
     "metadata": {},
     "output_type": "display_data"
    },
    {
     "data": {
      "application/vnd.jupyter.widget-view+json": {
       "model_id": "824354a161f5469eb4bb234e35306942",
       "version_major": 2,
       "version_minor": 0
      },
      "text/plain": [
       "Books: 0it [00:00, ?it/s]"
      ]
     },
     "metadata": {},
     "output_type": "display_data"
    },
    {
     "data": {
      "application/vnd.jupyter.widget-view+json": {
       "model_id": "009bce4977f944e1a98627d22575152f",
       "version_major": 2,
       "version_minor": 0
      },
      "text/plain": [
       "Books: 0it [00:00, ?it/s]"
      ]
     },
     "metadata": {},
     "output_type": "display_data"
    },
    {
     "data": {
      "application/vnd.jupyter.widget-view+json": {
       "model_id": "e9ce1245e2f7480e84946f4c09d99079",
       "version_major": 2,
       "version_minor": 0
      },
      "text/plain": [
       "Books: 0it [00:00, ?it/s]"
      ]
     },
     "metadata": {},
     "output_type": "display_data"
    },
    {
     "data": {
      "application/vnd.jupyter.widget-view+json": {
       "model_id": "7937e5b1484a4fd7b7c9bd1a684f3dd1",
       "version_major": 2,
       "version_minor": 0
      },
      "text/plain": [
       "Books: 0it [00:00, ?it/s]"
      ]
     },
     "metadata": {},
     "output_type": "display_data"
    },
    {
     "data": {
      "application/vnd.jupyter.widget-view+json": {
       "model_id": "98cf6adb51b348718cd036c8579d2677",
       "version_major": 2,
       "version_minor": 0
      },
      "text/plain": [
       "Books: 0it [00:00, ?it/s]"
      ]
     },
     "metadata": {},
     "output_type": "display_data"
    },
    {
     "data": {
      "application/vnd.jupyter.widget-view+json": {
       "model_id": "bd0653639c334b9793c7673e3913da67",
       "version_major": 2,
       "version_minor": 0
      },
      "text/plain": [
       "Books: 0it [00:00, ?it/s]"
      ]
     },
     "metadata": {},
     "output_type": "display_data"
    },
    {
     "data": {
      "application/vnd.jupyter.widget-view+json": {
       "model_id": "4ac145e6d9344dc695d9327a2d1d7e31",
       "version_major": 2,
       "version_minor": 0
      },
      "text/plain": [
       "Books: 0it [00:00, ?it/s]"
      ]
     },
     "metadata": {},
     "output_type": "display_data"
    },
    {
     "data": {
      "application/vnd.jupyter.widget-view+json": {
       "model_id": "8c0f51e4d5464be4a79a757b4b53720f",
       "version_major": 2,
       "version_minor": 0
      },
      "text/plain": [
       "Books: 0it [00:00, ?it/s]"
      ]
     },
     "metadata": {},
     "output_type": "display_data"
    },
    {
     "data": {
      "application/vnd.jupyter.widget-view+json": {
       "model_id": "0cab91af2591438684b06fea56b40edb",
       "version_major": 2,
       "version_minor": 0
      },
      "text/plain": [
       "Books: 0it [00:00, ?it/s]"
      ]
     },
     "metadata": {},
     "output_type": "display_data"
    },
    {
     "data": {
      "application/vnd.jupyter.widget-view+json": {
       "model_id": "35cd804408ad4f5dbdefe4f58c65d17d",
       "version_major": 2,
       "version_minor": 0
      },
      "text/plain": [
       "Books: 0it [00:00, ?it/s]"
      ]
     },
     "metadata": {},
     "output_type": "display_data"
    },
    {
     "data": {
      "application/vnd.jupyter.widget-view+json": {
       "model_id": "a06d140efb6141ed91b8f80b0f8b0849",
       "version_major": 2,
       "version_minor": 0
      },
      "text/plain": [
       "Books: 0it [00:00, ?it/s]"
      ]
     },
     "metadata": {},
     "output_type": "display_data"
    },
    {
     "data": {
      "application/vnd.jupyter.widget-view+json": {
       "model_id": "0ea2b3e117044030a3ab70fb33de9c5d",
       "version_major": 2,
       "version_minor": 0
      },
      "text/plain": [
       "Books: 0it [00:00, ?it/s]"
      ]
     },
     "metadata": {},
     "output_type": "display_data"
    },
    {
     "data": {
      "application/vnd.jupyter.widget-view+json": {
       "model_id": "0c4007794df34bada0b7be298008cf59",
       "version_major": 2,
       "version_minor": 0
      },
      "text/plain": [
       "Books: 0it [00:00, ?it/s]"
      ]
     },
     "metadata": {},
     "output_type": "display_data"
    },
    {
     "data": {
      "application/vnd.jupyter.widget-view+json": {
       "model_id": "ff37747366734e8aa33dcd4d99e96390",
       "version_major": 2,
       "version_minor": 0
      },
      "text/plain": [
       "Books: 0it [00:00, ?it/s]"
      ]
     },
     "metadata": {},
     "output_type": "display_data"
    },
    {
     "data": {
      "application/vnd.jupyter.widget-view+json": {
       "model_id": "c56f7fa2ef5b4a57a236b564de5ffc35",
       "version_major": 2,
       "version_minor": 0
      },
      "text/plain": [
       "Books: 0it [00:00, ?it/s]"
      ]
     },
     "metadata": {},
     "output_type": "display_data"
    },
    {
     "data": {
      "application/vnd.jupyter.widget-view+json": {
       "model_id": "8f4f55e3846d4701a62a27978079cb38",
       "version_major": 2,
       "version_minor": 0
      },
      "text/plain": [
       "Books: 0it [00:00, ?it/s]"
      ]
     },
     "metadata": {},
     "output_type": "display_data"
    },
    {
     "data": {
      "application/vnd.jupyter.widget-view+json": {
       "model_id": "29811b8d17da493d8fb169a4b4134617",
       "version_major": 2,
       "version_minor": 0
      },
      "text/plain": [
       "Books: 0it [00:00, ?it/s]"
      ]
     },
     "metadata": {},
     "output_type": "display_data"
    },
    {
     "data": {
      "application/vnd.jupyter.widget-view+json": {
       "model_id": "c5b6b9f2e2e44a6e9a3b68eac9683bde",
       "version_major": 2,
       "version_minor": 0
      },
      "text/plain": [
       "Books: 0it [00:00, ?it/s]"
      ]
     },
     "metadata": {},
     "output_type": "display_data"
    },
    {
     "data": {
      "application/vnd.jupyter.widget-view+json": {
       "model_id": "15727953b78746f285d8fef6a9c03f80",
       "version_major": 2,
       "version_minor": 0
      },
      "text/plain": [
       "Books: 0it [00:00, ?it/s]"
      ]
     },
     "metadata": {},
     "output_type": "display_data"
    },
    {
     "data": {
      "application/vnd.jupyter.widget-view+json": {
       "model_id": "ae0ba30539be46d0b1ce145c24b525ad",
       "version_major": 2,
       "version_minor": 0
      },
      "text/plain": [
       "Books: 0it [00:00, ?it/s]"
      ]
     },
     "metadata": {},
     "output_type": "display_data"
    },
    {
     "data": {
      "application/vnd.jupyter.widget-view+json": {
       "model_id": "63fd9bec8bad49a89e3719312c8224be",
       "version_major": 2,
       "version_minor": 0
      },
      "text/plain": [
       "Books: 0it [00:00, ?it/s]"
      ]
     },
     "metadata": {},
     "output_type": "display_data"
    },
    {
     "data": {
      "application/vnd.jupyter.widget-view+json": {
       "model_id": "c7eb841f8c9e44038ce2b817e78cfa10",
       "version_major": 2,
       "version_minor": 0
      },
      "text/plain": [
       "Books: 0it [00:00, ?it/s]"
      ]
     },
     "metadata": {},
     "output_type": "display_data"
    },
    {
     "data": {
      "application/vnd.jupyter.widget-view+json": {
       "model_id": "978829abd06841d3be9415bf59bbaa9d",
       "version_major": 2,
       "version_minor": 0
      },
      "text/plain": [
       "Books: 0it [00:00, ?it/s]"
      ]
     },
     "metadata": {},
     "output_type": "display_data"
    },
    {
     "data": {
      "application/vnd.jupyter.widget-view+json": {
       "model_id": "587dc4aeb7754dae823d5814113dd49f",
       "version_major": 2,
       "version_minor": 0
      },
      "text/plain": [
       "Books: 0it [00:00, ?it/s]"
      ]
     },
     "metadata": {},
     "output_type": "display_data"
    },
    {
     "data": {
      "application/vnd.jupyter.widget-view+json": {
       "model_id": "48e69d9a94674177ac076c1293f3b187",
       "version_major": 2,
       "version_minor": 0
      },
      "text/plain": [
       "Books: 0it [00:00, ?it/s]"
      ]
     },
     "metadata": {},
     "output_type": "display_data"
    },
    {
     "data": {
      "application/vnd.jupyter.widget-view+json": {
       "model_id": "0c7735459f5b46c78331509fec983394",
       "version_major": 2,
       "version_minor": 0
      },
      "text/plain": [
       "Books: 0it [00:00, ?it/s]"
      ]
     },
     "metadata": {},
     "output_type": "display_data"
    },
    {
     "data": {
      "application/vnd.jupyter.widget-view+json": {
       "model_id": "f0c3f7a0a87a49259f3e3f25721d4902",
       "version_major": 2,
       "version_minor": 0
      },
      "text/plain": [
       "Books: 0it [00:00, ?it/s]"
      ]
     },
     "metadata": {},
     "output_type": "display_data"
    },
    {
     "data": {
      "application/vnd.jupyter.widget-view+json": {
       "model_id": "15e6c27e68d94e2e822e1d2f911b4d82",
       "version_major": 2,
       "version_minor": 0
      },
      "text/plain": [
       "Books: 0it [00:00, ?it/s]"
      ]
     },
     "metadata": {},
     "output_type": "display_data"
    },
    {
     "data": {
      "application/vnd.jupyter.widget-view+json": {
       "model_id": "2e79279a15d44a4e8e3de0b2f5634bcd",
       "version_major": 2,
       "version_minor": 0
      },
      "text/plain": [
       "Books: 0it [00:00, ?it/s]"
      ]
     },
     "metadata": {},
     "output_type": "display_data"
    },
    {
     "data": {
      "application/vnd.jupyter.widget-view+json": {
       "model_id": "eba3d2eb11914a9e9c84033732c2719f",
       "version_major": 2,
       "version_minor": 0
      },
      "text/plain": [
       "Books: 0it [00:00, ?it/s]"
      ]
     },
     "metadata": {},
     "output_type": "display_data"
    },
    {
     "data": {
      "application/vnd.jupyter.widget-view+json": {
       "model_id": "53b55e65aafe4825b1323d418b0cd190",
       "version_major": 2,
       "version_minor": 0
      },
      "text/plain": [
       "Books: 0it [00:00, ?it/s]"
      ]
     },
     "metadata": {},
     "output_type": "display_data"
    },
    {
     "data": {
      "application/vnd.jupyter.widget-view+json": {
       "model_id": "72ec0538d41f42e8b095019f33fb170d",
       "version_major": 2,
       "version_minor": 0
      },
      "text/plain": [
       "Books: 0it [00:00, ?it/s]"
      ]
     },
     "metadata": {},
     "output_type": "display_data"
    },
    {
     "data": {
      "application/vnd.jupyter.widget-view+json": {
       "model_id": "eb73ab3ed0f94ea9909e17f954b1f460",
       "version_major": 2,
       "version_minor": 0
      },
      "text/plain": [
       "Books: 0it [00:00, ?it/s]"
      ]
     },
     "metadata": {},
     "output_type": "display_data"
    },
    {
     "data": {
      "application/vnd.jupyter.widget-view+json": {
       "model_id": "445c28310ded43e383e3fdbf680e4347",
       "version_major": 2,
       "version_minor": 0
      },
      "text/plain": [
       "Books: 0it [00:00, ?it/s]"
      ]
     },
     "metadata": {},
     "output_type": "display_data"
    },
    {
     "data": {
      "application/vnd.jupyter.widget-view+json": {
       "model_id": "6bd06697987e4e87b48c31f0b5710c09",
       "version_major": 2,
       "version_minor": 0
      },
      "text/plain": [
       "Books: 0it [00:00, ?it/s]"
      ]
     },
     "metadata": {},
     "output_type": "display_data"
    },
    {
     "data": {
      "application/vnd.jupyter.widget-view+json": {
       "model_id": "0300e81b27a94c7eb13ca62ebfa4b3d0",
       "version_major": 2,
       "version_minor": 0
      },
      "text/plain": [
       "Books: 0it [00:00, ?it/s]"
      ]
     },
     "metadata": {},
     "output_type": "display_data"
    },
    {
     "data": {
      "application/vnd.jupyter.widget-view+json": {
       "model_id": "a589b243df884823b4ae547854cb6d71",
       "version_major": 2,
       "version_minor": 0
      },
      "text/plain": [
       "Books: 0it [00:00, ?it/s]"
      ]
     },
     "metadata": {},
     "output_type": "display_data"
    },
    {
     "data": {
      "application/vnd.jupyter.widget-view+json": {
       "model_id": "6b10e6038120420a9a80bf3f0f581e1e",
       "version_major": 2,
       "version_minor": 0
      },
      "text/plain": [
       "Books: 0it [00:00, ?it/s]"
      ]
     },
     "metadata": {},
     "output_type": "display_data"
    },
    {
     "data": {
      "application/vnd.jupyter.widget-view+json": {
       "model_id": "eb52bb573fef42989db556c50e87dc0d",
       "version_major": 2,
       "version_minor": 0
      },
      "text/plain": [
       "Books: 0it [00:00, ?it/s]"
      ]
     },
     "metadata": {},
     "output_type": "display_data"
    },
    {
     "data": {
      "application/vnd.jupyter.widget-view+json": {
       "model_id": "b297ee358a8a462d9aa22e67b296a22c",
       "version_major": 2,
       "version_minor": 0
      },
      "text/plain": [
       "Books: 0it [00:00, ?it/s]"
      ]
     },
     "metadata": {},
     "output_type": "display_data"
    },
    {
     "data": {
      "application/vnd.jupyter.widget-view+json": {
       "model_id": "4abc1f101a6b435f91fa78d1ee4be706",
       "version_major": 2,
       "version_minor": 0
      },
      "text/plain": [
       "Books: 0it [00:00, ?it/s]"
      ]
     },
     "metadata": {},
     "output_type": "display_data"
    },
    {
     "data": {
      "application/vnd.jupyter.widget-view+json": {
       "model_id": "9268a031d41d4a70be339010e0e8e790",
       "version_major": 2,
       "version_minor": 0
      },
      "text/plain": [
       "Books: 0it [00:00, ?it/s]"
      ]
     },
     "metadata": {},
     "output_type": "display_data"
    },
    {
     "data": {
      "application/vnd.jupyter.widget-view+json": {
       "model_id": "015a9fb0d9c8408da3e84043b3d9e89f",
       "version_major": 2,
       "version_minor": 0
      },
      "text/plain": [
       "Books: 0it [00:00, ?it/s]"
      ]
     },
     "metadata": {},
     "output_type": "display_data"
    },
    {
     "data": {
      "application/vnd.jupyter.widget-view+json": {
       "model_id": "eb304e002ba84088b264227aa066f5f8",
       "version_major": 2,
       "version_minor": 0
      },
      "text/plain": [
       "Books: 0it [00:00, ?it/s]"
      ]
     },
     "metadata": {},
     "output_type": "display_data"
    },
    {
     "data": {
      "application/vnd.jupyter.widget-view+json": {
       "model_id": "e7c6d6fe5dfc494c80514ca7a8555e4e",
       "version_major": 2,
       "version_minor": 0
      },
      "text/plain": [
       "Books: 0it [00:00, ?it/s]"
      ]
     },
     "metadata": {},
     "output_type": "display_data"
    },
    {
     "data": {
      "application/vnd.jupyter.widget-view+json": {
       "model_id": "7895d0d7ab9f454897469bf8f3e8ea9b",
       "version_major": 2,
       "version_minor": 0
      },
      "text/plain": [
       "Books: 0it [00:00, ?it/s]"
      ]
     },
     "metadata": {},
     "output_type": "display_data"
    },
    {
     "data": {
      "application/vnd.jupyter.widget-view+json": {
       "model_id": "1803e1b851ea411ebf109dc958691505",
       "version_major": 2,
       "version_minor": 0
      },
      "text/plain": [
       "Books: 0it [00:00, ?it/s]"
      ]
     },
     "metadata": {},
     "output_type": "display_data"
    },
    {
     "data": {
      "application/vnd.jupyter.widget-view+json": {
       "model_id": "4cd23d2eb0f044e98c8431ae6cba6742",
       "version_major": 2,
       "version_minor": 0
      },
      "text/plain": [
       "Books: 0it [00:00, ?it/s]"
      ]
     },
     "metadata": {},
     "output_type": "display_data"
    },
    {
     "data": {
      "application/vnd.jupyter.widget-view+json": {
       "model_id": "17b8304dc2ae4627a4b8c596619f5c04",
       "version_major": 2,
       "version_minor": 0
      },
      "text/plain": [
       "Books: 0it [00:00, ?it/s]"
      ]
     },
     "metadata": {},
     "output_type": "display_data"
    },
    {
     "data": {
      "application/vnd.jupyter.widget-view+json": {
       "model_id": "15c037ae4656478b81e856a7acf72376",
       "version_major": 2,
       "version_minor": 0
      },
      "text/plain": [
       "Books: 0it [00:00, ?it/s]"
      ]
     },
     "metadata": {},
     "output_type": "display_data"
    },
    {
     "data": {
      "application/vnd.jupyter.widget-view+json": {
       "model_id": "f8a43d1f6f32473182ad6b2e52088a80",
       "version_major": 2,
       "version_minor": 0
      },
      "text/plain": [
       "Books: 0it [00:00, ?it/s]"
      ]
     },
     "metadata": {},
     "output_type": "display_data"
    },
    {
     "data": {
      "application/vnd.jupyter.widget-view+json": {
       "model_id": "4a87db5754bd4c10a49fa5741c33c8d1",
       "version_major": 2,
       "version_minor": 0
      },
      "text/plain": [
       "Books: 0it [00:00, ?it/s]"
      ]
     },
     "metadata": {},
     "output_type": "display_data"
    },
    {
     "data": {
      "application/vnd.jupyter.widget-view+json": {
       "model_id": "866559dc58594ea999523b8e3cf4fb95",
       "version_major": 2,
       "version_minor": 0
      },
      "text/plain": [
       "Books: 0it [00:00, ?it/s]"
      ]
     },
     "metadata": {},
     "output_type": "display_data"
    },
    {
     "data": {
      "application/vnd.jupyter.widget-view+json": {
       "model_id": "b3e92184faf44736bcfb8b4a5c5d23ef",
       "version_major": 2,
       "version_minor": 0
      },
      "text/plain": [
       "Books: 0it [00:00, ?it/s]"
      ]
     },
     "metadata": {},
     "output_type": "display_data"
    },
    {
     "data": {
      "application/vnd.jupyter.widget-view+json": {
       "model_id": "3dd9960e71284b16a39f30d9db3b69ef",
       "version_major": 2,
       "version_minor": 0
      },
      "text/plain": [
       "Books: 0it [00:00, ?it/s]"
      ]
     },
     "metadata": {},
     "output_type": "display_data"
    },
    {
     "data": {
      "application/vnd.jupyter.widget-view+json": {
       "model_id": "b120adc5fc6441dd923fa7e9aacc1985",
       "version_major": 2,
       "version_minor": 0
      },
      "text/plain": [
       "Books: 0it [00:00, ?it/s]"
      ]
     },
     "metadata": {},
     "output_type": "display_data"
    },
    {
     "data": {
      "application/vnd.jupyter.widget-view+json": {
       "model_id": "047036b76b864c2d92f3a75665df75bb",
       "version_major": 2,
       "version_minor": 0
      },
      "text/plain": [
       "Books: 0it [00:00, ?it/s]"
      ]
     },
     "metadata": {},
     "output_type": "display_data"
    },
    {
     "data": {
      "application/vnd.jupyter.widget-view+json": {
       "model_id": "882b5d33c47a4d7c8a99a7a849644777",
       "version_major": 2,
       "version_minor": 0
      },
      "text/plain": [
       "Books: 0it [00:00, ?it/s]"
      ]
     },
     "metadata": {},
     "output_type": "display_data"
    },
    {
     "data": {
      "application/vnd.jupyter.widget-view+json": {
       "model_id": "6a864e02b3104612b77c91889081558d",
       "version_major": 2,
       "version_minor": 0
      },
      "text/plain": [
       "Books: 0it [00:00, ?it/s]"
      ]
     },
     "metadata": {},
     "output_type": "display_data"
    },
    {
     "data": {
      "application/vnd.jupyter.widget-view+json": {
       "model_id": "efdc4433fdee4aa282c73607d752205b",
       "version_major": 2,
       "version_minor": 0
      },
      "text/plain": [
       "Books: 0it [00:00, ?it/s]"
      ]
     },
     "metadata": {},
     "output_type": "display_data"
    },
    {
     "data": {
      "application/vnd.jupyter.widget-view+json": {
       "model_id": "88535ac232e24dea8bdf7602c4712dfc",
       "version_major": 2,
       "version_minor": 0
      },
      "text/plain": [
       "Books: 0it [00:00, ?it/s]"
      ]
     },
     "metadata": {},
     "output_type": "display_data"
    },
    {
     "data": {
      "application/vnd.jupyter.widget-view+json": {
       "model_id": "4cf2aba422b84cc1994e136b7ceab5c0",
       "version_major": 2,
       "version_minor": 0
      },
      "text/plain": [
       "Books: 0it [00:00, ?it/s]"
      ]
     },
     "metadata": {},
     "output_type": "display_data"
    },
    {
     "data": {
      "application/vnd.jupyter.widget-view+json": {
       "model_id": "4e03083838ff4b54b093530f55c2740a",
       "version_major": 2,
       "version_minor": 0
      },
      "text/plain": [
       "Books: 0it [00:00, ?it/s]"
      ]
     },
     "metadata": {},
     "output_type": "display_data"
    },
    {
     "data": {
      "application/vnd.jupyter.widget-view+json": {
       "model_id": "b64ce8bfc20049b3ac188d00ac696227",
       "version_major": 2,
       "version_minor": 0
      },
      "text/plain": [
       "Books: 0it [00:00, ?it/s]"
      ]
     },
     "metadata": {},
     "output_type": "display_data"
    },
    {
     "data": {
      "application/vnd.jupyter.widget-view+json": {
       "model_id": "4b27729b0aef4e03b19ce72db2680e36",
       "version_major": 2,
       "version_minor": 0
      },
      "text/plain": [
       "Books: 0it [00:00, ?it/s]"
      ]
     },
     "metadata": {},
     "output_type": "display_data"
    },
    {
     "data": {
      "application/vnd.jupyter.widget-view+json": {
       "model_id": "8b8bce5e03e94a23bc8097e8addc2613",
       "version_major": 2,
       "version_minor": 0
      },
      "text/plain": [
       "Books: 0it [00:00, ?it/s]"
      ]
     },
     "metadata": {},
     "output_type": "display_data"
    },
    {
     "data": {
      "application/vnd.jupyter.widget-view+json": {
       "model_id": "c8ade1c09c9844ee97d400123797ac9e",
       "version_major": 2,
       "version_minor": 0
      },
      "text/plain": [
       "Books: 0it [00:00, ?it/s]"
      ]
     },
     "metadata": {},
     "output_type": "display_data"
    },
    {
     "data": {
      "application/vnd.jupyter.widget-view+json": {
       "model_id": "875e6292443f4fb1a470a16003bf3a2e",
       "version_major": 2,
       "version_minor": 0
      },
      "text/plain": [
       "Books: 0it [00:00, ?it/s]"
      ]
     },
     "metadata": {},
     "output_type": "display_data"
    },
    {
     "data": {
      "application/vnd.jupyter.widget-view+json": {
       "model_id": "e6ce2d4128a842cfa82a9934c91cdbe7",
       "version_major": 2,
       "version_minor": 0
      },
      "text/plain": [
       "Books: 0it [00:00, ?it/s]"
      ]
     },
     "metadata": {},
     "output_type": "display_data"
    },
    {
     "data": {
      "application/vnd.jupyter.widget-view+json": {
       "model_id": "f7f7116617e94245a3e4f48f595f4afd",
       "version_major": 2,
       "version_minor": 0
      },
      "text/plain": [
       "Books: 0it [00:00, ?it/s]"
      ]
     },
     "metadata": {},
     "output_type": "display_data"
    },
    {
     "data": {
      "application/vnd.jupyter.widget-view+json": {
       "model_id": "09ec43db5832405da8b624226dcc2e45",
       "version_major": 2,
       "version_minor": 0
      },
      "text/plain": [
       "Books: 0it [00:00, ?it/s]"
      ]
     },
     "metadata": {},
     "output_type": "display_data"
    },
    {
     "data": {
      "application/vnd.jupyter.widget-view+json": {
       "model_id": "745e85499cd3405db7a42f6eb926b018",
       "version_major": 2,
       "version_minor": 0
      },
      "text/plain": [
       "Books: 0it [00:00, ?it/s]"
      ]
     },
     "metadata": {},
     "output_type": "display_data"
    },
    {
     "data": {
      "application/vnd.jupyter.widget-view+json": {
       "model_id": "d19a5cb5e4b443b69e3af0aaac6ff022",
       "version_major": 2,
       "version_minor": 0
      },
      "text/plain": [
       "Books: 0it [00:00, ?it/s]"
      ]
     },
     "metadata": {},
     "output_type": "display_data"
    },
    {
     "data": {
      "application/vnd.jupyter.widget-view+json": {
       "model_id": "23bee20d11874d52bcd866df53bb94c0",
       "version_major": 2,
       "version_minor": 0
      },
      "text/plain": [
       "Books: 0it [00:00, ?it/s]"
      ]
     },
     "metadata": {},
     "output_type": "display_data"
    },
    {
     "data": {
      "application/vnd.jupyter.widget-view+json": {
       "model_id": "57fef36cde394345875ad99d0713a5ec",
       "version_major": 2,
       "version_minor": 0
      },
      "text/plain": [
       "Books: 0it [00:00, ?it/s]"
      ]
     },
     "metadata": {},
     "output_type": "display_data"
    },
    {
     "data": {
      "application/vnd.jupyter.widget-view+json": {
       "model_id": "563812804081408faeeede87d7a1c0de",
       "version_major": 2,
       "version_minor": 0
      },
      "text/plain": [
       "Books: 0it [00:00, ?it/s]"
      ]
     },
     "metadata": {},
     "output_type": "display_data"
    },
    {
     "data": {
      "application/vnd.jupyter.widget-view+json": {
       "model_id": "f97addc347694aa0be9b7e02fd790f99",
       "version_major": 2,
       "version_minor": 0
      },
      "text/plain": [
       "Books: 0it [00:00, ?it/s]"
      ]
     },
     "metadata": {},
     "output_type": "display_data"
    },
    {
     "data": {
      "application/vnd.jupyter.widget-view+json": {
       "model_id": "24b4651deee741edba52ea7e61069811",
       "version_major": 2,
       "version_minor": 0
      },
      "text/plain": [
       "Books: 0it [00:00, ?it/s]"
      ]
     },
     "metadata": {},
     "output_type": "display_data"
    },
    {
     "data": {
      "application/vnd.jupyter.widget-view+json": {
       "model_id": "9896fd386d574041b5d2016e752f19b0",
       "version_major": 2,
       "version_minor": 0
      },
      "text/plain": [
       "Books: 0it [00:00, ?it/s]"
      ]
     },
     "metadata": {},
     "output_type": "display_data"
    },
    {
     "data": {
      "application/vnd.jupyter.widget-view+json": {
       "model_id": "fad9ad5d417441f18195ec5005775792",
       "version_major": 2,
       "version_minor": 0
      },
      "text/plain": [
       "Books: 0it [00:00, ?it/s]"
      ]
     },
     "metadata": {},
     "output_type": "display_data"
    },
    {
     "data": {
      "application/vnd.jupyter.widget-view+json": {
       "model_id": "c7aafae37a784aad84319555a14c2812",
       "version_major": 2,
       "version_minor": 0
      },
      "text/plain": [
       "Books: 0it [00:00, ?it/s]"
      ]
     },
     "metadata": {},
     "output_type": "display_data"
    },
    {
     "data": {
      "application/vnd.jupyter.widget-view+json": {
       "model_id": "0cf53c0d69a14437b60623957acaafa1",
       "version_major": 2,
       "version_minor": 0
      },
      "text/plain": [
       "Books: 0it [00:00, ?it/s]"
      ]
     },
     "metadata": {},
     "output_type": "display_data"
    },
    {
     "data": {
      "application/vnd.jupyter.widget-view+json": {
       "model_id": "716b6ac6b1c2487a90f47b5e81afe98e",
       "version_major": 2,
       "version_minor": 0
      },
      "text/plain": [
       "Books: 0it [00:00, ?it/s]"
      ]
     },
     "metadata": {},
     "output_type": "display_data"
    },
    {
     "data": {
      "application/vnd.jupyter.widget-view+json": {
       "model_id": "2843e4f37c534bf99c66398f7149b6ad",
       "version_major": 2,
       "version_minor": 0
      },
      "text/plain": [
       "Books: 0it [00:00, ?it/s]"
      ]
     },
     "metadata": {},
     "output_type": "display_data"
    },
    {
     "data": {
      "application/vnd.jupyter.widget-view+json": {
       "model_id": "abf4f29a09544b9488fb2747744cdf1f",
       "version_major": 2,
       "version_minor": 0
      },
      "text/plain": [
       "Books: 0it [00:00, ?it/s]"
      ]
     },
     "metadata": {},
     "output_type": "display_data"
    },
    {
     "data": {
      "application/vnd.jupyter.widget-view+json": {
       "model_id": "f3f71f826d6c4092841172699294cef5",
       "version_major": 2,
       "version_minor": 0
      },
      "text/plain": [
       "Books: 0it [00:00, ?it/s]"
      ]
     },
     "metadata": {},
     "output_type": "display_data"
    },
    {
     "data": {
      "application/vnd.jupyter.widget-view+json": {
       "model_id": "8bf61a093099424489694ad0c6f31b1a",
       "version_major": 2,
       "version_minor": 0
      },
      "text/plain": [
       "Books: 0it [00:00, ?it/s]"
      ]
     },
     "metadata": {},
     "output_type": "display_data"
    },
    {
     "data": {
      "application/vnd.jupyter.widget-view+json": {
       "model_id": "c51cd0fda29b430d827a1acfbe429197",
       "version_major": 2,
       "version_minor": 0
      },
      "text/plain": [
       "Books: 0it [00:00, ?it/s]"
      ]
     },
     "metadata": {},
     "output_type": "display_data"
    },
    {
     "data": {
      "application/vnd.jupyter.widget-view+json": {
       "model_id": "61380962a7f946d3a2b60fb8efff2b1e",
       "version_major": 2,
       "version_minor": 0
      },
      "text/plain": [
       "Books: 0it [00:00, ?it/s]"
      ]
     },
     "metadata": {},
     "output_type": "display_data"
    },
    {
     "data": {
      "application/vnd.jupyter.widget-view+json": {
       "model_id": "8d222f2040c34066b7b9f434d1a6abb3",
       "version_major": 2,
       "version_minor": 0
      },
      "text/plain": [
       "Books: 0it [00:00, ?it/s]"
      ]
     },
     "metadata": {},
     "output_type": "display_data"
    },
    {
     "data": {
      "application/vnd.jupyter.widget-view+json": {
       "model_id": "496dfa39a99146a1ab5f52ee183b8610",
       "version_major": 2,
       "version_minor": 0
      },
      "text/plain": [
       "Books: 0it [00:00, ?it/s]"
      ]
     },
     "metadata": {},
     "output_type": "display_data"
    },
    {
     "data": {
      "application/vnd.jupyter.widget-view+json": {
       "model_id": "02f8dd3fbacd4433ad041d85df91027d",
       "version_major": 2,
       "version_minor": 0
      },
      "text/plain": [
       "Books: 0it [00:00, ?it/s]"
      ]
     },
     "metadata": {},
     "output_type": "display_data"
    },
    {
     "data": {
      "application/vnd.jupyter.widget-view+json": {
       "model_id": "5cb603f7e2dc4c0b8f1ba7937db2bd5b",
       "version_major": 2,
       "version_minor": 0
      },
      "text/plain": [
       "Books: 0it [00:00, ?it/s]"
      ]
     },
     "metadata": {},
     "output_type": "display_data"
    },
    {
     "data": {
      "application/vnd.jupyter.widget-view+json": {
       "model_id": "a6039a03283d447e81d6b435655afc8f",
       "version_major": 2,
       "version_minor": 0
      },
      "text/plain": [
       "Books: 0it [00:00, ?it/s]"
      ]
     },
     "metadata": {},
     "output_type": "display_data"
    },
    {
     "data": {
      "application/vnd.jupyter.widget-view+json": {
       "model_id": "a24d2dc279e54a89be9259c73a9cc4fb",
       "version_major": 2,
       "version_minor": 0
      },
      "text/plain": [
       "Books: 0it [00:00, ?it/s]"
      ]
     },
     "metadata": {},
     "output_type": "display_data"
    },
    {
     "data": {
      "application/vnd.jupyter.widget-view+json": {
       "model_id": "18cb09ade5b84639a19273ba26b8acbb",
       "version_major": 2,
       "version_minor": 0
      },
      "text/plain": [
       "Books: 0it [00:00, ?it/s]"
      ]
     },
     "metadata": {},
     "output_type": "display_data"
    },
    {
     "data": {
      "application/vnd.jupyter.widget-view+json": {
       "model_id": "a2b249fd4f8f46e990db49543fb36ab0",
       "version_major": 2,
       "version_minor": 0
      },
      "text/plain": [
       "Books: 0it [00:00, ?it/s]"
      ]
     },
     "metadata": {},
     "output_type": "display_data"
    },
    {
     "data": {
      "application/vnd.jupyter.widget-view+json": {
       "model_id": "0185677984c840bbaaef6e8b5fcd2a9b",
       "version_major": 2,
       "version_minor": 0
      },
      "text/plain": [
       "Books: 0it [00:00, ?it/s]"
      ]
     },
     "metadata": {},
     "output_type": "display_data"
    },
    {
     "data": {
      "application/vnd.jupyter.widget-view+json": {
       "model_id": "dfd9a4d827fc4e1a968c16603acdde32",
       "version_major": 2,
       "version_minor": 0
      },
      "text/plain": [
       "Books: 0it [00:00, ?it/s]"
      ]
     },
     "metadata": {},
     "output_type": "display_data"
    },
    {
     "data": {
      "application/vnd.jupyter.widget-view+json": {
       "model_id": "5f19921babc54922a3e14c7640fa35bc",
       "version_major": 2,
       "version_minor": 0
      },
      "text/plain": [
       "Books: 0it [00:00, ?it/s]"
      ]
     },
     "metadata": {},
     "output_type": "display_data"
    },
    {
     "data": {
      "application/vnd.jupyter.widget-view+json": {
       "model_id": "9b9f815c54474efa9c5a29601d1e685d",
       "version_major": 2,
       "version_minor": 0
      },
      "text/plain": [
       "Books: 0it [00:00, ?it/s]"
      ]
     },
     "metadata": {},
     "output_type": "display_data"
    },
    {
     "data": {
      "application/vnd.jupyter.widget-view+json": {
       "model_id": "2bc68de644a2473888f186d416a56288",
       "version_major": 2,
       "version_minor": 0
      },
      "text/plain": [
       "Books: 0it [00:00, ?it/s]"
      ]
     },
     "metadata": {},
     "output_type": "display_data"
    },
    {
     "data": {
      "application/vnd.jupyter.widget-view+json": {
       "model_id": "9536df07a21b492aad865654cca7e1a8",
       "version_major": 2,
       "version_minor": 0
      },
      "text/plain": [
       "Books: 0it [00:00, ?it/s]"
      ]
     },
     "metadata": {},
     "output_type": "display_data"
    },
    {
     "data": {
      "application/vnd.jupyter.widget-view+json": {
       "model_id": "ff60288a553a40c09b3550303d779e43",
       "version_major": 2,
       "version_minor": 0
      },
      "text/plain": [
       "Books: 0it [00:00, ?it/s]"
      ]
     },
     "metadata": {},
     "output_type": "display_data"
    },
    {
     "data": {
      "application/vnd.jupyter.widget-view+json": {
       "model_id": "12aad4a74d9149aebc2c7329f98df704",
       "version_major": 2,
       "version_minor": 0
      },
      "text/plain": [
       "Books: 0it [00:00, ?it/s]"
      ]
     },
     "metadata": {},
     "output_type": "display_data"
    },
    {
     "data": {
      "application/vnd.jupyter.widget-view+json": {
       "model_id": "d2f82b3390be4a2593f23c02e49a4d20",
       "version_major": 2,
       "version_minor": 0
      },
      "text/plain": [
       "Books: 0it [00:00, ?it/s]"
      ]
     },
     "metadata": {},
     "output_type": "display_data"
    },
    {
     "data": {
      "application/vnd.jupyter.widget-view+json": {
       "model_id": "6efeb814b9d54f149686c78e9d07fb5f",
       "version_major": 2,
       "version_minor": 0
      },
      "text/plain": [
       "Books: 0it [00:00, ?it/s]"
      ]
     },
     "metadata": {},
     "output_type": "display_data"
    },
    {
     "data": {
      "application/vnd.jupyter.widget-view+json": {
       "model_id": "d87f0546ed02416da91138071cb1f475",
       "version_major": 2,
       "version_minor": 0
      },
      "text/plain": [
       "Books: 0it [00:00, ?it/s]"
      ]
     },
     "metadata": {},
     "output_type": "display_data"
    },
    {
     "data": {
      "application/vnd.jupyter.widget-view+json": {
       "model_id": "fa9c9d3e3e4e4ac3b66d4eb6d43862b0",
       "version_major": 2,
       "version_minor": 0
      },
      "text/plain": [
       "Books: 0it [00:00, ?it/s]"
      ]
     },
     "metadata": {},
     "output_type": "display_data"
    },
    {
     "data": {
      "application/vnd.jupyter.widget-view+json": {
       "model_id": "fdea8606e3164287bc93ab6c46f6a443",
       "version_major": 2,
       "version_minor": 0
      },
      "text/plain": [
       "Books: 0it [00:00, ?it/s]"
      ]
     },
     "metadata": {},
     "output_type": "display_data"
    },
    {
     "data": {
      "application/vnd.jupyter.widget-view+json": {
       "model_id": "3438bb1d077a4f8ab3faa259f7ac887f",
       "version_major": 2,
       "version_minor": 0
      },
      "text/plain": [
       "Books: 0it [00:00, ?it/s]"
      ]
     },
     "metadata": {},
     "output_type": "display_data"
    },
    {
     "data": {
      "application/vnd.jupyter.widget-view+json": {
       "model_id": "68342b61bed7486f881237343dab0eb2",
       "version_major": 2,
       "version_minor": 0
      },
      "text/plain": [
       "Books: 0it [00:00, ?it/s]"
      ]
     },
     "metadata": {},
     "output_type": "display_data"
    },
    {
     "data": {
      "application/vnd.jupyter.widget-view+json": {
       "model_id": "9dc40cac664946f2b9c5c511c338db6e",
       "version_major": 2,
       "version_minor": 0
      },
      "text/plain": [
       "Books: 0it [00:00, ?it/s]"
      ]
     },
     "metadata": {},
     "output_type": "display_data"
    },
    {
     "data": {
      "application/vnd.jupyter.widget-view+json": {
       "model_id": "81d05926abf341b28403930d0633b3d1",
       "version_major": 2,
       "version_minor": 0
      },
      "text/plain": [
       "Books: 0it [00:00, ?it/s]"
      ]
     },
     "metadata": {},
     "output_type": "display_data"
    },
    {
     "data": {
      "application/vnd.jupyter.widget-view+json": {
       "model_id": "8169db062e4244db951fcc4df311124c",
       "version_major": 2,
       "version_minor": 0
      },
      "text/plain": [
       "Books: 0it [00:00, ?it/s]"
      ]
     },
     "metadata": {},
     "output_type": "display_data"
    },
    {
     "data": {
      "application/vnd.jupyter.widget-view+json": {
       "model_id": "4d956d5cef494fd585e50f957459dcbd",
       "version_major": 2,
       "version_minor": 0
      },
      "text/plain": [
       "Books: 0it [00:00, ?it/s]"
      ]
     },
     "metadata": {},
     "output_type": "display_data"
    },
    {
     "data": {
      "application/vnd.jupyter.widget-view+json": {
       "model_id": "020f385b4a7b4d05a430c13316314492",
       "version_major": 2,
       "version_minor": 0
      },
      "text/plain": [
       "Books: 0it [00:00, ?it/s]"
      ]
     },
     "metadata": {},
     "output_type": "display_data"
    },
    {
     "data": {
      "application/vnd.jupyter.widget-view+json": {
       "model_id": "450f8849ec5242ee897ce5d1c9d3f106",
       "version_major": 2,
       "version_minor": 0
      },
      "text/plain": [
       "Books: 0it [00:00, ?it/s]"
      ]
     },
     "metadata": {},
     "output_type": "display_data"
    },
    {
     "data": {
      "application/vnd.jupyter.widget-view+json": {
       "model_id": "a0ab8fb3fb17428cb3bd2868a5576496",
       "version_major": 2,
       "version_minor": 0
      },
      "text/plain": [
       "Books: 0it [00:00, ?it/s]"
      ]
     },
     "metadata": {},
     "output_type": "display_data"
    },
    {
     "data": {
      "application/vnd.jupyter.widget-view+json": {
       "model_id": "0bbd140b36554a108a9409d91a71505c",
       "version_major": 2,
       "version_minor": 0
      },
      "text/plain": [
       "Books: 0it [00:00, ?it/s]"
      ]
     },
     "metadata": {},
     "output_type": "display_data"
    },
    {
     "data": {
      "application/vnd.jupyter.widget-view+json": {
       "model_id": "b5cd92786a784f6d84e3297bac5ad7ce",
       "version_major": 2,
       "version_minor": 0
      },
      "text/plain": [
       "Books: 0it [00:00, ?it/s]"
      ]
     },
     "metadata": {},
     "output_type": "display_data"
    },
    {
     "data": {
      "application/vnd.jupyter.widget-view+json": {
       "model_id": "13a638ab81ae4fb4b20a9b39853ad0d8",
       "version_major": 2,
       "version_minor": 0
      },
      "text/plain": [
       "Books: 0it [00:00, ?it/s]"
      ]
     },
     "metadata": {},
     "output_type": "display_data"
    },
    {
     "data": {
      "application/vnd.jupyter.widget-view+json": {
       "model_id": "3f1e061bb39d431cbaa9f73ab131bcf6",
       "version_major": 2,
       "version_minor": 0
      },
      "text/plain": [
       "Books: 0it [00:00, ?it/s]"
      ]
     },
     "metadata": {},
     "output_type": "display_data"
    },
    {
     "data": {
      "application/vnd.jupyter.widget-view+json": {
       "model_id": "0e8da021527947c4a76c1a96a1fefe61",
       "version_major": 2,
       "version_minor": 0
      },
      "text/plain": [
       "Books: 0it [00:00, ?it/s]"
      ]
     },
     "metadata": {},
     "output_type": "display_data"
    },
    {
     "data": {
      "application/vnd.jupyter.widget-view+json": {
       "model_id": "17322f2acc804f0da6b3136501ae41a8",
       "version_major": 2,
       "version_minor": 0
      },
      "text/plain": [
       "Books: 0it [00:00, ?it/s]"
      ]
     },
     "metadata": {},
     "output_type": "display_data"
    },
    {
     "data": {
      "application/vnd.jupyter.widget-view+json": {
       "model_id": "19e833e424404d099619efa397f0d3e6",
       "version_major": 2,
       "version_minor": 0
      },
      "text/plain": [
       "Books: 0it [00:00, ?it/s]"
      ]
     },
     "metadata": {},
     "output_type": "display_data"
    },
    {
     "data": {
      "application/vnd.jupyter.widget-view+json": {
       "model_id": "266fea33c1ae49b6b742918457e5cc5b",
       "version_major": 2,
       "version_minor": 0
      },
      "text/plain": [
       "Books: 0it [00:00, ?it/s]"
      ]
     },
     "metadata": {},
     "output_type": "display_data"
    },
    {
     "data": {
      "application/vnd.jupyter.widget-view+json": {
       "model_id": "f33f9f5fc1234f429f16e20c85560b9d",
       "version_major": 2,
       "version_minor": 0
      },
      "text/plain": [
       "Books: 0it [00:00, ?it/s]"
      ]
     },
     "metadata": {},
     "output_type": "display_data"
    },
    {
     "data": {
      "application/vnd.jupyter.widget-view+json": {
       "model_id": "c40f5301adb4459e8c04e9e86aaf421e",
       "version_major": 2,
       "version_minor": 0
      },
      "text/plain": [
       "Books: 0it [00:00, ?it/s]"
      ]
     },
     "metadata": {},
     "output_type": "display_data"
    },
    {
     "data": {
      "application/vnd.jupyter.widget-view+json": {
       "model_id": "6e84e42b5cd74598adff46ae39988dfe",
       "version_major": 2,
       "version_minor": 0
      },
      "text/plain": [
       "Books: 0it [00:00, ?it/s]"
      ]
     },
     "metadata": {},
     "output_type": "display_data"
    },
    {
     "data": {
      "application/vnd.jupyter.widget-view+json": {
       "model_id": "db92af5360c1432db4fa7e7e27f1b4d2",
       "version_major": 2,
       "version_minor": 0
      },
      "text/plain": [
       "Books: 0it [00:00, ?it/s]"
      ]
     },
     "metadata": {},
     "output_type": "display_data"
    },
    {
     "data": {
      "application/vnd.jupyter.widget-view+json": {
       "model_id": "1e69b7c776ef441c86d079f1ab5e1539",
       "version_major": 2,
       "version_minor": 0
      },
      "text/plain": [
       "Books: 0it [00:00, ?it/s]"
      ]
     },
     "metadata": {},
     "output_type": "display_data"
    },
    {
     "data": {
      "application/vnd.jupyter.widget-view+json": {
       "model_id": "e3bdcedf8e1b4ecfb7c9bb9c021c2be2",
       "version_major": 2,
       "version_minor": 0
      },
      "text/plain": [
       "Books: 0it [00:00, ?it/s]"
      ]
     },
     "metadata": {},
     "output_type": "display_data"
    },
    {
     "data": {
      "application/vnd.jupyter.widget-view+json": {
       "model_id": "c9d8151aad374061b178f25e9731b00f",
       "version_major": 2,
       "version_minor": 0
      },
      "text/plain": [
       "Books: 0it [00:00, ?it/s]"
      ]
     },
     "metadata": {},
     "output_type": "display_data"
    },
    {
     "data": {
      "application/vnd.jupyter.widget-view+json": {
       "model_id": "6fccf31ac54e4080b0d8ecfa96e1154e",
       "version_major": 2,
       "version_minor": 0
      },
      "text/plain": [
       "Books: 0it [00:00, ?it/s]"
      ]
     },
     "metadata": {},
     "output_type": "display_data"
    },
    {
     "data": {
      "application/vnd.jupyter.widget-view+json": {
       "model_id": "0cd4ea33713b49fe8bb7094dbcc22719",
       "version_major": 2,
       "version_minor": 0
      },
      "text/plain": [
       "Books: 0it [00:00, ?it/s]"
      ]
     },
     "metadata": {},
     "output_type": "display_data"
    },
    {
     "data": {
      "application/vnd.jupyter.widget-view+json": {
       "model_id": "82178dfb232d4c80b1baf037fd8d99eb",
       "version_major": 2,
       "version_minor": 0
      },
      "text/plain": [
       "Books: 0it [00:00, ?it/s]"
      ]
     },
     "metadata": {},
     "output_type": "display_data"
    },
    {
     "data": {
      "application/vnd.jupyter.widget-view+json": {
       "model_id": "4bcbba5369904da8818a3f7ce92601d4",
       "version_major": 2,
       "version_minor": 0
      },
      "text/plain": [
       "Books: 0it [00:00, ?it/s]"
      ]
     },
     "metadata": {},
     "output_type": "display_data"
    },
    {
     "data": {
      "application/vnd.jupyter.widget-view+json": {
       "model_id": "0f9d01499fb6428e9f0fe3b9e175899e",
       "version_major": 2,
       "version_minor": 0
      },
      "text/plain": [
       "Books: 0it [00:00, ?it/s]"
      ]
     },
     "metadata": {},
     "output_type": "display_data"
    },
    {
     "data": {
      "application/vnd.jupyter.widget-view+json": {
       "model_id": "9bd1ab1f0de04067bfafd6280997cc85",
       "version_major": 2,
       "version_minor": 0
      },
      "text/plain": [
       "Books: 0it [00:00, ?it/s]"
      ]
     },
     "metadata": {},
     "output_type": "display_data"
    },
    {
     "data": {
      "application/vnd.jupyter.widget-view+json": {
       "model_id": "51a4f721ca0347888b2c5f117815b5b1",
       "version_major": 2,
       "version_minor": 0
      },
      "text/plain": [
       "Books: 0it [00:00, ?it/s]"
      ]
     },
     "metadata": {},
     "output_type": "display_data"
    },
    {
     "data": {
      "application/vnd.jupyter.widget-view+json": {
       "model_id": "f55652be5e0240ab82503b6c1fd3211e",
       "version_major": 2,
       "version_minor": 0
      },
      "text/plain": [
       "Books: 0it [00:00, ?it/s]"
      ]
     },
     "metadata": {},
     "output_type": "display_data"
    },
    {
     "data": {
      "application/vnd.jupyter.widget-view+json": {
       "model_id": "8d9c04e6a3284552b40009b4eab5725f",
       "version_major": 2,
       "version_minor": 0
      },
      "text/plain": [
       "Books: 0it [00:00, ?it/s]"
      ]
     },
     "metadata": {},
     "output_type": "display_data"
    },
    {
     "data": {
      "application/vnd.jupyter.widget-view+json": {
       "model_id": "399eeef48b7d4b86a600a19212d0c001",
       "version_major": 2,
       "version_minor": 0
      },
      "text/plain": [
       "Books: 0it [00:00, ?it/s]"
      ]
     },
     "metadata": {},
     "output_type": "display_data"
    },
    {
     "data": {
      "application/vnd.jupyter.widget-view+json": {
       "model_id": "3b9873ff115a4b8ca5f890aa22a58dad",
       "version_major": 2,
       "version_minor": 0
      },
      "text/plain": [
       "Books: 0it [00:00, ?it/s]"
      ]
     },
     "metadata": {},
     "output_type": "display_data"
    },
    {
     "data": {
      "application/vnd.jupyter.widget-view+json": {
       "model_id": "15dff3d6448a4c2a8f4bafed825813a1",
       "version_major": 2,
       "version_minor": 0
      },
      "text/plain": [
       "Books: 0it [00:00, ?it/s]"
      ]
     },
     "metadata": {},
     "output_type": "display_data"
    },
    {
     "data": {
      "application/vnd.jupyter.widget-view+json": {
       "model_id": "763c7ee1ea0b420ba4dc91eba84ffd32",
       "version_major": 2,
       "version_minor": 0
      },
      "text/plain": [
       "Books: 0it [00:00, ?it/s]"
      ]
     },
     "metadata": {},
     "output_type": "display_data"
    },
    {
     "data": {
      "application/vnd.jupyter.widget-view+json": {
       "model_id": "ed425dba6e504741b7e070c334e53245",
       "version_major": 2,
       "version_minor": 0
      },
      "text/plain": [
       "Books: 0it [00:00, ?it/s]"
      ]
     },
     "metadata": {},
     "output_type": "display_data"
    },
    {
     "data": {
      "application/vnd.jupyter.widget-view+json": {
       "model_id": "00b8b6af061442e594733c28b58203c6",
       "version_major": 2,
       "version_minor": 0
      },
      "text/plain": [
       "Books: 0it [00:00, ?it/s]"
      ]
     },
     "metadata": {},
     "output_type": "display_data"
    },
    {
     "data": {
      "application/vnd.jupyter.widget-view+json": {
       "model_id": "5bb7731d47904726a19fc944a04a14b3",
       "version_major": 2,
       "version_minor": 0
      },
      "text/plain": [
       "Books: 0it [00:00, ?it/s]"
      ]
     },
     "metadata": {},
     "output_type": "display_data"
    },
    {
     "data": {
      "application/vnd.jupyter.widget-view+json": {
       "model_id": "15cbd6cc7c214533bd185b3d21ae915d",
       "version_major": 2,
       "version_minor": 0
      },
      "text/plain": [
       "Books: 0it [00:00, ?it/s]"
      ]
     },
     "metadata": {},
     "output_type": "display_data"
    },
    {
     "data": {
      "application/vnd.jupyter.widget-view+json": {
       "model_id": "78219eee4be14226bb6185516e0ed874",
       "version_major": 2,
       "version_minor": 0
      },
      "text/plain": [
       "Books: 0it [00:00, ?it/s]"
      ]
     },
     "metadata": {},
     "output_type": "display_data"
    },
    {
     "data": {
      "application/vnd.jupyter.widget-view+json": {
       "model_id": "bfd9c60d516e408aac54716899754381",
       "version_major": 2,
       "version_minor": 0
      },
      "text/plain": [
       "Books: 0it [00:00, ?it/s]"
      ]
     },
     "metadata": {},
     "output_type": "display_data"
    },
    {
     "data": {
      "application/vnd.jupyter.widget-view+json": {
       "model_id": "755373dff99241bab04becbcb6faf43f",
       "version_major": 2,
       "version_minor": 0
      },
      "text/plain": [
       "Books: 0it [00:00, ?it/s]"
      ]
     },
     "metadata": {},
     "output_type": "display_data"
    },
    {
     "data": {
      "application/vnd.jupyter.widget-view+json": {
       "model_id": "001c216b65524d2f877b9d17d66aad5a",
       "version_major": 2,
       "version_minor": 0
      },
      "text/plain": [
       "Books: 0it [00:00, ?it/s]"
      ]
     },
     "metadata": {},
     "output_type": "display_data"
    },
    {
     "data": {
      "application/vnd.jupyter.widget-view+json": {
       "model_id": "531dd658fab64187aea3fa2d9d416ead",
       "version_major": 2,
       "version_minor": 0
      },
      "text/plain": [
       "Books: 0it [00:00, ?it/s]"
      ]
     },
     "metadata": {},
     "output_type": "display_data"
    },
    {
     "data": {
      "application/vnd.jupyter.widget-view+json": {
       "model_id": "30a28b842daf48f2924a29c2a13826b2",
       "version_major": 2,
       "version_minor": 0
      },
      "text/plain": [
       "Books: 0it [00:00, ?it/s]"
      ]
     },
     "metadata": {},
     "output_type": "display_data"
    },
    {
     "data": {
      "application/vnd.jupyter.widget-view+json": {
       "model_id": "0fcb1dcb2fff43cbb41ac43c86f3ae84",
       "version_major": 2,
       "version_minor": 0
      },
      "text/plain": [
       "Books: 0it [00:00, ?it/s]"
      ]
     },
     "metadata": {},
     "output_type": "display_data"
    },
    {
     "data": {
      "application/vnd.jupyter.widget-view+json": {
       "model_id": "3861ae65e631488a97617a33953f3562",
       "version_major": 2,
       "version_minor": 0
      },
      "text/plain": [
       "Books: 0it [00:00, ?it/s]"
      ]
     },
     "metadata": {},
     "output_type": "display_data"
    },
    {
     "data": {
      "application/vnd.jupyter.widget-view+json": {
       "model_id": "436f9ff7338d469c8c61902fbe3c48c4",
       "version_major": 2,
       "version_minor": 0
      },
      "text/plain": [
       "Books: 0it [00:00, ?it/s]"
      ]
     },
     "metadata": {},
     "output_type": "display_data"
    },
    {
     "data": {
      "application/vnd.jupyter.widget-view+json": {
       "model_id": "fb5ed0d20b574027a32f05d580fb727f",
       "version_major": 2,
       "version_minor": 0
      },
      "text/plain": [
       "Books: 0it [00:00, ?it/s]"
      ]
     },
     "metadata": {},
     "output_type": "display_data"
    },
    {
     "data": {
      "application/vnd.jupyter.widget-view+json": {
       "model_id": "3af610739665472fb60e341617ef4485",
       "version_major": 2,
       "version_minor": 0
      },
      "text/plain": [
       "Books: 0it [00:00, ?it/s]"
      ]
     },
     "metadata": {},
     "output_type": "display_data"
    },
    {
     "data": {
      "application/vnd.jupyter.widget-view+json": {
       "model_id": "bb1260df340f4bd3ac4fe62b528135ae",
       "version_major": 2,
       "version_minor": 0
      },
      "text/plain": [
       "Books: 0it [00:00, ?it/s]"
      ]
     },
     "metadata": {},
     "output_type": "display_data"
    },
    {
     "data": {
      "application/vnd.jupyter.widget-view+json": {
       "model_id": "28e90ef305a04448823d38f9681ee4b2",
       "version_major": 2,
       "version_minor": 0
      },
      "text/plain": [
       "Books: 0it [00:00, ?it/s]"
      ]
     },
     "metadata": {},
     "output_type": "display_data"
    },
    {
     "data": {
      "application/vnd.jupyter.widget-view+json": {
       "model_id": "3f64ca390fc649928b2a207a9174b104",
       "version_major": 2,
       "version_minor": 0
      },
      "text/plain": [
       "Books: 0it [00:00, ?it/s]"
      ]
     },
     "metadata": {},
     "output_type": "display_data"
    },
    {
     "data": {
      "application/vnd.jupyter.widget-view+json": {
       "model_id": "d66ccad511ca41abab46213b9de5a1e2",
       "version_major": 2,
       "version_minor": 0
      },
      "text/plain": [
       "Books: 0it [00:00, ?it/s]"
      ]
     },
     "metadata": {},
     "output_type": "display_data"
    },
    {
     "data": {
      "application/vnd.jupyter.widget-view+json": {
       "model_id": "f670f551ceff42daa267f2f70870de29",
       "version_major": 2,
       "version_minor": 0
      },
      "text/plain": [
       "Books: 0it [00:00, ?it/s]"
      ]
     },
     "metadata": {},
     "output_type": "display_data"
    },
    {
     "data": {
      "application/vnd.jupyter.widget-view+json": {
       "model_id": "a2aa32cfa5c5434fbd45c9077de4d017",
       "version_major": 2,
       "version_minor": 0
      },
      "text/plain": [
       "Books: 0it [00:00, ?it/s]"
      ]
     },
     "metadata": {},
     "output_type": "display_data"
    },
    {
     "data": {
      "application/vnd.jupyter.widget-view+json": {
       "model_id": "b3e9e457487c4078ae47b0d20f31f6ad",
       "version_major": 2,
       "version_minor": 0
      },
      "text/plain": [
       "Books: 0it [00:00, ?it/s]"
      ]
     },
     "metadata": {},
     "output_type": "display_data"
    },
    {
     "data": {
      "application/vnd.jupyter.widget-view+json": {
       "model_id": "dde6f94e612d4f3aa6604129b3555137",
       "version_major": 2,
       "version_minor": 0
      },
      "text/plain": [
       "Books: 0it [00:00, ?it/s]"
      ]
     },
     "metadata": {},
     "output_type": "display_data"
    },
    {
     "data": {
      "application/vnd.jupyter.widget-view+json": {
       "model_id": "12a805ee590e416d8743a2c06256c261",
       "version_major": 2,
       "version_minor": 0
      },
      "text/plain": [
       "Books: 0it [00:00, ?it/s]"
      ]
     },
     "metadata": {},
     "output_type": "display_data"
    },
    {
     "data": {
      "application/vnd.jupyter.widget-view+json": {
       "model_id": "c69a63b9a02b44548bc313daa0a6b489",
       "version_major": 2,
       "version_minor": 0
      },
      "text/plain": [
       "Books: 0it [00:00, ?it/s]"
      ]
     },
     "metadata": {},
     "output_type": "display_data"
    },
    {
     "data": {
      "application/vnd.jupyter.widget-view+json": {
       "model_id": "f4554b7a309147eba74c2f78f03c89c5",
       "version_major": 2,
       "version_minor": 0
      },
      "text/plain": [
       "Books: 0it [00:00, ?it/s]"
      ]
     },
     "metadata": {},
     "output_type": "display_data"
    },
    {
     "data": {
      "application/vnd.jupyter.widget-view+json": {
       "model_id": "e6819a2c0a8341d9940a7eb4424108ea",
       "version_major": 2,
       "version_minor": 0
      },
      "text/plain": [
       "Books: 0it [00:00, ?it/s]"
      ]
     },
     "metadata": {},
     "output_type": "display_data"
    },
    {
     "data": {
      "application/vnd.jupyter.widget-view+json": {
       "model_id": "95a9d703379c4aeb8bdd6da996db75e5",
       "version_major": 2,
       "version_minor": 0
      },
      "text/plain": [
       "Books: 0it [00:00, ?it/s]"
      ]
     },
     "metadata": {},
     "output_type": "display_data"
    },
    {
     "data": {
      "application/vnd.jupyter.widget-view+json": {
       "model_id": "e23540769d544408a02b9af6abdf58de",
       "version_major": 2,
       "version_minor": 0
      },
      "text/plain": [
       "Books: 0it [00:00, ?it/s]"
      ]
     },
     "metadata": {},
     "output_type": "display_data"
    },
    {
     "data": {
      "application/vnd.jupyter.widget-view+json": {
       "model_id": "9d7d503c94f546359fadda9a36def231",
       "version_major": 2,
       "version_minor": 0
      },
      "text/plain": [
       "Books: 0it [00:00, ?it/s]"
      ]
     },
     "metadata": {},
     "output_type": "display_data"
    },
    {
     "data": {
      "application/vnd.jupyter.widget-view+json": {
       "model_id": "82aa7a8548d944ec92fe20842a8d6825",
       "version_major": 2,
       "version_minor": 0
      },
      "text/plain": [
       "Books: 0it [00:00, ?it/s]"
      ]
     },
     "metadata": {},
     "output_type": "display_data"
    },
    {
     "data": {
      "application/vnd.jupyter.widget-view+json": {
       "model_id": "c40fff7363bb48e594903ccc0d8bb1a3",
       "version_major": 2,
       "version_minor": 0
      },
      "text/plain": [
       "Books: 0it [00:00, ?it/s]"
      ]
     },
     "metadata": {},
     "output_type": "display_data"
    },
    {
     "data": {
      "application/vnd.jupyter.widget-view+json": {
       "model_id": "1dc26a904ed14528aa2fb8a630b77b07",
       "version_major": 2,
       "version_minor": 0
      },
      "text/plain": [
       "Books: 0it [00:00, ?it/s]"
      ]
     },
     "metadata": {},
     "output_type": "display_data"
    },
    {
     "data": {
      "application/vnd.jupyter.widget-view+json": {
       "model_id": "318377fe7b5a4f8e8b747d44f4d77d89",
       "version_major": 2,
       "version_minor": 0
      },
      "text/plain": [
       "Books: 0it [00:00, ?it/s]"
      ]
     },
     "metadata": {},
     "output_type": "display_data"
    },
    {
     "data": {
      "application/vnd.jupyter.widget-view+json": {
       "model_id": "51f0e2d782c642beb6bcc7b2b5df4651",
       "version_major": 2,
       "version_minor": 0
      },
      "text/plain": [
       "Books: 0it [00:00, ?it/s]"
      ]
     },
     "metadata": {},
     "output_type": "display_data"
    },
    {
     "data": {
      "application/vnd.jupyter.widget-view+json": {
       "model_id": "aa1df86704ed409ea10cb262ae5d2f89",
       "version_major": 2,
       "version_minor": 0
      },
      "text/plain": [
       "Books: 0it [00:00, ?it/s]"
      ]
     },
     "metadata": {},
     "output_type": "display_data"
    },
    {
     "data": {
      "application/vnd.jupyter.widget-view+json": {
       "model_id": "a25f8833e4b644ff9ecde3f1378a42b1",
       "version_major": 2,
       "version_minor": 0
      },
      "text/plain": [
       "Books: 0it [00:00, ?it/s]"
      ]
     },
     "metadata": {},
     "output_type": "display_data"
    },
    {
     "data": {
      "application/vnd.jupyter.widget-view+json": {
       "model_id": "b3cd5e66737b4e9eb48aa009dde3e092",
       "version_major": 2,
       "version_minor": 0
      },
      "text/plain": [
       "Books: 0it [00:00, ?it/s]"
      ]
     },
     "metadata": {},
     "output_type": "display_data"
    },
    {
     "data": {
      "application/vnd.jupyter.widget-view+json": {
       "model_id": "4c85281fd3ad4e18b8a15278130ec943",
       "version_major": 2,
       "version_minor": 0
      },
      "text/plain": [
       "Books: 0it [00:00, ?it/s]"
      ]
     },
     "metadata": {},
     "output_type": "display_data"
    },
    {
     "data": {
      "application/vnd.jupyter.widget-view+json": {
       "model_id": "66d822216559408bb6785a7cc3a0ad80",
       "version_major": 2,
       "version_minor": 0
      },
      "text/plain": [
       "Books: 0it [00:00, ?it/s]"
      ]
     },
     "metadata": {},
     "output_type": "display_data"
    },
    {
     "data": {
      "application/vnd.jupyter.widget-view+json": {
       "model_id": "b1247b269af0409c8e887343029d31cf",
       "version_major": 2,
       "version_minor": 0
      },
      "text/plain": [
       "Books: 0it [00:00, ?it/s]"
      ]
     },
     "metadata": {},
     "output_type": "display_data"
    },
    {
     "data": {
      "application/vnd.jupyter.widget-view+json": {
       "model_id": "46f1fdd14afc4216a17b92920dc7db74",
       "version_major": 2,
       "version_minor": 0
      },
      "text/plain": [
       "Books: 0it [00:00, ?it/s]"
      ]
     },
     "metadata": {},
     "output_type": "display_data"
    },
    {
     "data": {
      "application/vnd.jupyter.widget-view+json": {
       "model_id": "7d59c9ad162f4b439485b868fd105135",
       "version_major": 2,
       "version_minor": 0
      },
      "text/plain": [
       "Books: 0it [00:00, ?it/s]"
      ]
     },
     "metadata": {},
     "output_type": "display_data"
    },
    {
     "data": {
      "application/vnd.jupyter.widget-view+json": {
       "model_id": "d11f2b46072242fdb8f4b3070f968769",
       "version_major": 2,
       "version_minor": 0
      },
      "text/plain": [
       "Books: 0it [00:00, ?it/s]"
      ]
     },
     "metadata": {},
     "output_type": "display_data"
    },
    {
     "data": {
      "application/vnd.jupyter.widget-view+json": {
       "model_id": "87539ad72df54a8184b99df41cd44ec5",
       "version_major": 2,
       "version_minor": 0
      },
      "text/plain": [
       "Books: 0it [00:00, ?it/s]"
      ]
     },
     "metadata": {},
     "output_type": "display_data"
    },
    {
     "data": {
      "application/vnd.jupyter.widget-view+json": {
       "model_id": "4f6a3a5472b94d3e94951b184ba6c9e7",
       "version_major": 2,
       "version_minor": 0
      },
      "text/plain": [
       "Books: 0it [00:00, ?it/s]"
      ]
     },
     "metadata": {},
     "output_type": "display_data"
    },
    {
     "data": {
      "application/vnd.jupyter.widget-view+json": {
       "model_id": "e3892962d04a4752b91a9623b973b3ba",
       "version_major": 2,
       "version_minor": 0
      },
      "text/plain": [
       "Books: 0it [00:00, ?it/s]"
      ]
     },
     "metadata": {},
     "output_type": "display_data"
    },
    {
     "data": {
      "application/vnd.jupyter.widget-view+json": {
       "model_id": "81135e62ceb443b988fde72b28d3ce97",
       "version_major": 2,
       "version_minor": 0
      },
      "text/plain": [
       "Books: 0it [00:00, ?it/s]"
      ]
     },
     "metadata": {},
     "output_type": "display_data"
    },
    {
     "data": {
      "application/vnd.jupyter.widget-view+json": {
       "model_id": "efaffbdceb5f4364b7f1a95ac74cba12",
       "version_major": 2,
       "version_minor": 0
      },
      "text/plain": [
       "Books: 0it [00:00, ?it/s]"
      ]
     },
     "metadata": {},
     "output_type": "display_data"
    },
    {
     "data": {
      "application/vnd.jupyter.widget-view+json": {
       "model_id": "2a481eb3f8c24c4da1b14ea4cca0ce5a",
       "version_major": 2,
       "version_minor": 0
      },
      "text/plain": [
       "Books: 0it [00:00, ?it/s]"
      ]
     },
     "metadata": {},
     "output_type": "display_data"
    },
    {
     "data": {
      "application/vnd.jupyter.widget-view+json": {
       "model_id": "8c7bdadd98ed4044bbf7e21b2009ce24",
       "version_major": 2,
       "version_minor": 0
      },
      "text/plain": [
       "Books: 0it [00:00, ?it/s]"
      ]
     },
     "metadata": {},
     "output_type": "display_data"
    },
    {
     "data": {
      "application/vnd.jupyter.widget-view+json": {
       "model_id": "d2d47bf2445d499ba71adc834ccc6c91",
       "version_major": 2,
       "version_minor": 0
      },
      "text/plain": [
       "Books: 0it [00:00, ?it/s]"
      ]
     },
     "metadata": {},
     "output_type": "display_data"
    },
    {
     "data": {
      "application/vnd.jupyter.widget-view+json": {
       "model_id": "ba2b09e1bf474c3f8b1677025bf2d053",
       "version_major": 2,
       "version_minor": 0
      },
      "text/plain": [
       "Books: 0it [00:00, ?it/s]"
      ]
     },
     "metadata": {},
     "output_type": "display_data"
    },
    {
     "data": {
      "application/vnd.jupyter.widget-view+json": {
       "model_id": "9a8abb85918843ff8984e36e603c561c",
       "version_major": 2,
       "version_minor": 0
      },
      "text/plain": [
       "Books: 0it [00:00, ?it/s]"
      ]
     },
     "metadata": {},
     "output_type": "display_data"
    },
    {
     "data": {
      "application/vnd.jupyter.widget-view+json": {
       "model_id": "ef0c99b40b374dceacec199f521d3e31",
       "version_major": 2,
       "version_minor": 0
      },
      "text/plain": [
       "Books: 0it [00:00, ?it/s]"
      ]
     },
     "metadata": {},
     "output_type": "display_data"
    },
    {
     "data": {
      "application/vnd.jupyter.widget-view+json": {
       "model_id": "feeec6b57d74441e9088552854c2a5b1",
       "version_major": 2,
       "version_minor": 0
      },
      "text/plain": [
       "Books: 0it [00:00, ?it/s]"
      ]
     },
     "metadata": {},
     "output_type": "display_data"
    },
    {
     "data": {
      "application/vnd.jupyter.widget-view+json": {
       "model_id": "6992276ff98c4e619b2a909c9094a030",
       "version_major": 2,
       "version_minor": 0
      },
      "text/plain": [
       "Books: 0it [00:00, ?it/s]"
      ]
     },
     "metadata": {},
     "output_type": "display_data"
    },
    {
     "data": {
      "application/vnd.jupyter.widget-view+json": {
       "model_id": "73a955df1afc45f3a8598e84db7a2c54",
       "version_major": 2,
       "version_minor": 0
      },
      "text/plain": [
       "Books: 0it [00:00, ?it/s]"
      ]
     },
     "metadata": {},
     "output_type": "display_data"
    },
    {
     "data": {
      "application/vnd.jupyter.widget-view+json": {
       "model_id": "57fd309965084191999080a90a16e0e1",
       "version_major": 2,
       "version_minor": 0
      },
      "text/plain": [
       "Books: 0it [00:00, ?it/s]"
      ]
     },
     "metadata": {},
     "output_type": "display_data"
    },
    {
     "data": {
      "application/vnd.jupyter.widget-view+json": {
       "model_id": "a496ba590a9d402791a870c6803beb82",
       "version_major": 2,
       "version_minor": 0
      },
      "text/plain": [
       "Books: 0it [00:00, ?it/s]"
      ]
     },
     "metadata": {},
     "output_type": "display_data"
    },
    {
     "data": {
      "application/vnd.jupyter.widget-view+json": {
       "model_id": "cb1b26d0b8e34a7b8fd723b9b3e0536e",
       "version_major": 2,
       "version_minor": 0
      },
      "text/plain": [
       "Books: 0it [00:00, ?it/s]"
      ]
     },
     "metadata": {},
     "output_type": "display_data"
    },
    {
     "data": {
      "application/vnd.jupyter.widget-view+json": {
       "model_id": "603fa207c10e448b8b2bf6f04d4b2fc5",
       "version_major": 2,
       "version_minor": 0
      },
      "text/plain": [
       "Books: 0it [00:00, ?it/s]"
      ]
     },
     "metadata": {},
     "output_type": "display_data"
    },
    {
     "data": {
      "application/vnd.jupyter.widget-view+json": {
       "model_id": "4a539f8bac79476fb005820c8fb7628e",
       "version_major": 2,
       "version_minor": 0
      },
      "text/plain": [
       "Books: 0it [00:00, ?it/s]"
      ]
     },
     "metadata": {},
     "output_type": "display_data"
    },
    {
     "data": {
      "application/vnd.jupyter.widget-view+json": {
       "model_id": "25e25d03f29c43da8cc2f5b1b40b4394",
       "version_major": 2,
       "version_minor": 0
      },
      "text/plain": [
       "Books: 0it [00:00, ?it/s]"
      ]
     },
     "metadata": {},
     "output_type": "display_data"
    },
    {
     "data": {
      "application/vnd.jupyter.widget-view+json": {
       "model_id": "f59876d346bf445b965a6a845a6d13f3",
       "version_major": 2,
       "version_minor": 0
      },
      "text/plain": [
       "Books: 0it [00:00, ?it/s]"
      ]
     },
     "metadata": {},
     "output_type": "display_data"
    },
    {
     "data": {
      "application/vnd.jupyter.widget-view+json": {
       "model_id": "d1cd04dd2f7a44d7bf3cf04e0387e86b",
       "version_major": 2,
       "version_minor": 0
      },
      "text/plain": [
       "Books: 0it [00:00, ?it/s]"
      ]
     },
     "metadata": {},
     "output_type": "display_data"
    },
    {
     "data": {
      "application/vnd.jupyter.widget-view+json": {
       "model_id": "db30c6338eb44a248f94eea7f173b3af",
       "version_major": 2,
       "version_minor": 0
      },
      "text/plain": [
       "Books: 0it [00:00, ?it/s]"
      ]
     },
     "metadata": {},
     "output_type": "display_data"
    },
    {
     "data": {
      "application/vnd.jupyter.widget-view+json": {
       "model_id": "fa387b430914452798a77abceec28b1f",
       "version_major": 2,
       "version_minor": 0
      },
      "text/plain": [
       "Books: 0it [00:00, ?it/s]"
      ]
     },
     "metadata": {},
     "output_type": "display_data"
    },
    {
     "data": {
      "application/vnd.jupyter.widget-view+json": {
       "model_id": "d8b60a52ae0e46378954e6b47ee47790",
       "version_major": 2,
       "version_minor": 0
      },
      "text/plain": [
       "Books: 0it [00:00, ?it/s]"
      ]
     },
     "metadata": {},
     "output_type": "display_data"
    },
    {
     "data": {
      "application/vnd.jupyter.widget-view+json": {
       "model_id": "b66b632c3f9442f2ba75e78e812434e4",
       "version_major": 2,
       "version_minor": 0
      },
      "text/plain": [
       "Books: 0it [00:00, ?it/s]"
      ]
     },
     "metadata": {},
     "output_type": "display_data"
    },
    {
     "data": {
      "application/vnd.jupyter.widget-view+json": {
       "model_id": "6de0e4e3131d4303827c22ff75ca12ed",
       "version_major": 2,
       "version_minor": 0
      },
      "text/plain": [
       "Books: 0it [00:00, ?it/s]"
      ]
     },
     "metadata": {},
     "output_type": "display_data"
    },
    {
     "data": {
      "application/vnd.jupyter.widget-view+json": {
       "model_id": "5543ef53973d42cf9dea242f98551b67",
       "version_major": 2,
       "version_minor": 0
      },
      "text/plain": [
       "Books: 0it [00:00, ?it/s]"
      ]
     },
     "metadata": {},
     "output_type": "display_data"
    },
    {
     "data": {
      "application/vnd.jupyter.widget-view+json": {
       "model_id": "1f9f465fa46c49958bdd7221d7282b59",
       "version_major": 2,
       "version_minor": 0
      },
      "text/plain": [
       "Books: 0it [00:00, ?it/s]"
      ]
     },
     "metadata": {},
     "output_type": "display_data"
    },
    {
     "data": {
      "application/vnd.jupyter.widget-view+json": {
       "model_id": "b36f9520f72c4abb8f325f07685aa8d9",
       "version_major": 2,
       "version_minor": 0
      },
      "text/plain": [
       "Books: 0it [00:00, ?it/s]"
      ]
     },
     "metadata": {},
     "output_type": "display_data"
    },
    {
     "data": {
      "application/vnd.jupyter.widget-view+json": {
       "model_id": "d25d021b7fce401fa6e428a3b88a1b88",
       "version_major": 2,
       "version_minor": 0
      },
      "text/plain": [
       "Books: 0it [00:00, ?it/s]"
      ]
     },
     "metadata": {},
     "output_type": "display_data"
    },
    {
     "data": {
      "application/vnd.jupyter.widget-view+json": {
       "model_id": "8b8967b931df4bba8c38123e75e451e7",
       "version_major": 2,
       "version_minor": 0
      },
      "text/plain": [
       "Books: 0it [00:00, ?it/s]"
      ]
     },
     "metadata": {},
     "output_type": "display_data"
    },
    {
     "data": {
      "application/vnd.jupyter.widget-view+json": {
       "model_id": "3d672e4bbb3545e68e8c4f9845037d4d",
       "version_major": 2,
       "version_minor": 0
      },
      "text/plain": [
       "Books: 0it [00:00, ?it/s]"
      ]
     },
     "metadata": {},
     "output_type": "display_data"
    },
    {
     "data": {
      "application/vnd.jupyter.widget-view+json": {
       "model_id": "57ca9b22b1374982b2a1f29f6f122461",
       "version_major": 2,
       "version_minor": 0
      },
      "text/plain": [
       "Books: 0it [00:00, ?it/s]"
      ]
     },
     "metadata": {},
     "output_type": "display_data"
    },
    {
     "data": {
      "application/vnd.jupyter.widget-view+json": {
       "model_id": "d3d0e5bf6f214956ad58ad82e15ad206",
       "version_major": 2,
       "version_minor": 0
      },
      "text/plain": [
       "Books: 0it [00:00, ?it/s]"
      ]
     },
     "metadata": {},
     "output_type": "display_data"
    },
    {
     "data": {
      "application/vnd.jupyter.widget-view+json": {
       "model_id": "c05e9a070d78497c8e78222a29e3c0e2",
       "version_major": 2,
       "version_minor": 0
      },
      "text/plain": [
       "Books: 0it [00:00, ?it/s]"
      ]
     },
     "metadata": {},
     "output_type": "display_data"
    },
    {
     "data": {
      "application/vnd.jupyter.widget-view+json": {
       "model_id": "c77c7fe0261a496aa3c5a4c870e7eaa1",
       "version_major": 2,
       "version_minor": 0
      },
      "text/plain": [
       "Books: 0it [00:00, ?it/s]"
      ]
     },
     "metadata": {},
     "output_type": "display_data"
    },
    {
     "data": {
      "application/vnd.jupyter.widget-view+json": {
       "model_id": "ce327994cad245a2abfa582972800f35",
       "version_major": 2,
       "version_minor": 0
      },
      "text/plain": [
       "Books: 0it [00:00, ?it/s]"
      ]
     },
     "metadata": {},
     "output_type": "display_data"
    },
    {
     "data": {
      "application/vnd.jupyter.widget-view+json": {
       "model_id": "e1974d2e56044048bf2eca7ca6a7e456",
       "version_major": 2,
       "version_minor": 0
      },
      "text/plain": [
       "Books: 0it [00:00, ?it/s]"
      ]
     },
     "metadata": {},
     "output_type": "display_data"
    },
    {
     "data": {
      "application/vnd.jupyter.widget-view+json": {
       "model_id": "a58fa9ddfa404fc19a1a0b40e77ed253",
       "version_major": 2,
       "version_minor": 0
      },
      "text/plain": [
       "Books: 0it [00:00, ?it/s]"
      ]
     },
     "metadata": {},
     "output_type": "display_data"
    },
    {
     "data": {
      "application/vnd.jupyter.widget-view+json": {
       "model_id": "35dbd58f4a1248438472c7fba9f9587a",
       "version_major": 2,
       "version_minor": 0
      },
      "text/plain": [
       "Books: 0it [00:00, ?it/s]"
      ]
     },
     "metadata": {},
     "output_type": "display_data"
    },
    {
     "data": {
      "application/vnd.jupyter.widget-view+json": {
       "model_id": "3e69e00260714b73bc631957c2368fda",
       "version_major": 2,
       "version_minor": 0
      },
      "text/plain": [
       "Books: 0it [00:00, ?it/s]"
      ]
     },
     "metadata": {},
     "output_type": "display_data"
    },
    {
     "data": {
      "application/vnd.jupyter.widget-view+json": {
       "model_id": "55b1a4adf3ba4b4d9b3d1308fa23d1d9",
       "version_major": 2,
       "version_minor": 0
      },
      "text/plain": [
       "Books: 0it [00:00, ?it/s]"
      ]
     },
     "metadata": {},
     "output_type": "display_data"
    },
    {
     "data": {
      "application/vnd.jupyter.widget-view+json": {
       "model_id": "71bcf4a8efcf4e4dbbf916935c3b9ceb",
       "version_major": 2,
       "version_minor": 0
      },
      "text/plain": [
       "Books: 0it [00:00, ?it/s]"
      ]
     },
     "metadata": {},
     "output_type": "display_data"
    },
    {
     "data": {
      "application/vnd.jupyter.widget-view+json": {
       "model_id": "20b1c18d77aa498cad67f5e4a5813b91",
       "version_major": 2,
       "version_minor": 0
      },
      "text/plain": [
       "Books: 0it [00:00, ?it/s]"
      ]
     },
     "metadata": {},
     "output_type": "display_data"
    },
    {
     "data": {
      "application/vnd.jupyter.widget-view+json": {
       "model_id": "d98ecce2312847208f65c5fd7b33e310",
       "version_major": 2,
       "version_minor": 0
      },
      "text/plain": [
       "Books: 0it [00:00, ?it/s]"
      ]
     },
     "metadata": {},
     "output_type": "display_data"
    },
    {
     "data": {
      "application/vnd.jupyter.widget-view+json": {
       "model_id": "a5e61b32cc7e46a0a35546d590eb2659",
       "version_major": 2,
       "version_minor": 0
      },
      "text/plain": [
       "Books: 0it [00:00, ?it/s]"
      ]
     },
     "metadata": {},
     "output_type": "display_data"
    },
    {
     "data": {
      "application/vnd.jupyter.widget-view+json": {
       "model_id": "3ed48d97bd4e4e3eac0cdab882705d2f",
       "version_major": 2,
       "version_minor": 0
      },
      "text/plain": [
       "Books: 0it [00:00, ?it/s]"
      ]
     },
     "metadata": {},
     "output_type": "display_data"
    },
    {
     "data": {
      "application/vnd.jupyter.widget-view+json": {
       "model_id": "e56cb9131d714b4b8007892b3e5a5599",
       "version_major": 2,
       "version_minor": 0
      },
      "text/plain": [
       "Books: 0it [00:00, ?it/s]"
      ]
     },
     "metadata": {},
     "output_type": "display_data"
    },
    {
     "data": {
      "application/vnd.jupyter.widget-view+json": {
       "model_id": "94b7f750d11948bfbbd5ab4cb8e2f615",
       "version_major": 2,
       "version_minor": 0
      },
      "text/plain": [
       "Books: 0it [00:00, ?it/s]"
      ]
     },
     "metadata": {},
     "output_type": "display_data"
    },
    {
     "data": {
      "application/vnd.jupyter.widget-view+json": {
       "model_id": "a6680508372b481cbbd4ebbca309654b",
       "version_major": 2,
       "version_minor": 0
      },
      "text/plain": [
       "Books: 0it [00:00, ?it/s]"
      ]
     },
     "metadata": {},
     "output_type": "display_data"
    },
    {
     "data": {
      "application/vnd.jupyter.widget-view+json": {
       "model_id": "591f7f1a862d474c85d1a7a5e5f44145",
       "version_major": 2,
       "version_minor": 0
      },
      "text/plain": [
       "Books: 0it [00:00, ?it/s]"
      ]
     },
     "metadata": {},
     "output_type": "display_data"
    },
    {
     "data": {
      "application/vnd.jupyter.widget-view+json": {
       "model_id": "b97c8528b58e4260a48d1986d83d7f6d",
       "version_major": 2,
       "version_minor": 0
      },
      "text/plain": [
       "Books: 0it [00:00, ?it/s]"
      ]
     },
     "metadata": {},
     "output_type": "display_data"
    },
    {
     "data": {
      "application/vnd.jupyter.widget-view+json": {
       "model_id": "b3df9620ce404bc18b960e81601e05b8",
       "version_major": 2,
       "version_minor": 0
      },
      "text/plain": [
       "Books: 0it [00:00, ?it/s]"
      ]
     },
     "metadata": {},
     "output_type": "display_data"
    },
    {
     "data": {
      "application/vnd.jupyter.widget-view+json": {
       "model_id": "2de6e4766c4149b092524587fdeb83f4",
       "version_major": 2,
       "version_minor": 0
      },
      "text/plain": [
       "Books: 0it [00:00, ?it/s]"
      ]
     },
     "metadata": {},
     "output_type": "display_data"
    },
    {
     "data": {
      "application/vnd.jupyter.widget-view+json": {
       "model_id": "1cf157e5abd1498c8d088711248ccd8f",
       "version_major": 2,
       "version_minor": 0
      },
      "text/plain": [
       "Books: 0it [00:00, ?it/s]"
      ]
     },
     "metadata": {},
     "output_type": "display_data"
    },
    {
     "data": {
      "application/vnd.jupyter.widget-view+json": {
       "model_id": "adb12ff103cf4a448b4ecd63ac3d2d49",
       "version_major": 2,
       "version_minor": 0
      },
      "text/plain": [
       "Books: 0it [00:00, ?it/s]"
      ]
     },
     "metadata": {},
     "output_type": "display_data"
    },
    {
     "data": {
      "application/vnd.jupyter.widget-view+json": {
       "model_id": "1d655152f80745abbf2f08a060d3df2e",
       "version_major": 2,
       "version_minor": 0
      },
      "text/plain": [
       "Books: 0it [00:00, ?it/s]"
      ]
     },
     "metadata": {},
     "output_type": "display_data"
    },
    {
     "data": {
      "application/vnd.jupyter.widget-view+json": {
       "model_id": "9d434c0c161e4e61b6b35bee5c9ed1e6",
       "version_major": 2,
       "version_minor": 0
      },
      "text/plain": [
       "Books: 0it [00:00, ?it/s]"
      ]
     },
     "metadata": {},
     "output_type": "display_data"
    },
    {
     "data": {
      "application/vnd.jupyter.widget-view+json": {
       "model_id": "be980ea30fee44cfa6b2415e857b2cf9",
       "version_major": 2,
       "version_minor": 0
      },
      "text/plain": [
       "Books: 0it [00:00, ?it/s]"
      ]
     },
     "metadata": {},
     "output_type": "display_data"
    },
    {
     "data": {
      "application/vnd.jupyter.widget-view+json": {
       "model_id": "0bf47414bdd74887ba6253abce1d6db2",
       "version_major": 2,
       "version_minor": 0
      },
      "text/plain": [
       "Books: 0it [00:00, ?it/s]"
      ]
     },
     "metadata": {},
     "output_type": "display_data"
    },
    {
     "data": {
      "application/vnd.jupyter.widget-view+json": {
       "model_id": "cd378f539b98468e81b3caa9eb6e75b1",
       "version_major": 2,
       "version_minor": 0
      },
      "text/plain": [
       "Books: 0it [00:00, ?it/s]"
      ]
     },
     "metadata": {},
     "output_type": "display_data"
    },
    {
     "data": {
      "application/vnd.jupyter.widget-view+json": {
       "model_id": "87e91a379ee2473098a4eeb80c354ffe",
       "version_major": 2,
       "version_minor": 0
      },
      "text/plain": [
       "Books: 0it [00:00, ?it/s]"
      ]
     },
     "metadata": {},
     "output_type": "display_data"
    },
    {
     "data": {
      "application/vnd.jupyter.widget-view+json": {
       "model_id": "f25b7ea2c03e499c87aa719f70690088",
       "version_major": 2,
       "version_minor": 0
      },
      "text/plain": [
       "Books: 0it [00:00, ?it/s]"
      ]
     },
     "metadata": {},
     "output_type": "display_data"
    },
    {
     "data": {
      "application/vnd.jupyter.widget-view+json": {
       "model_id": "0b0cabf0248c4c11a8c0c717b2c485ad",
       "version_major": 2,
       "version_minor": 0
      },
      "text/plain": [
       "Books: 0it [00:00, ?it/s]"
      ]
     },
     "metadata": {},
     "output_type": "display_data"
    },
    {
     "data": {
      "application/vnd.jupyter.widget-view+json": {
       "model_id": "b2fb376880f44599a9bf5ea964b0f22c",
       "version_major": 2,
       "version_minor": 0
      },
      "text/plain": [
       "Books: 0it [00:00, ?it/s]"
      ]
     },
     "metadata": {},
     "output_type": "display_data"
    },
    {
     "data": {
      "application/vnd.jupyter.widget-view+json": {
       "model_id": "8ef3eb35d0d14770887b8bde233f239f",
       "version_major": 2,
       "version_minor": 0
      },
      "text/plain": [
       "Books: 0it [00:00, ?it/s]"
      ]
     },
     "metadata": {},
     "output_type": "display_data"
    },
    {
     "data": {
      "application/vnd.jupyter.widget-view+json": {
       "model_id": "56adc64e938b42be827da61cfde9d6c3",
       "version_major": 2,
       "version_minor": 0
      },
      "text/plain": [
       "Books: 0it [00:00, ?it/s]"
      ]
     },
     "metadata": {},
     "output_type": "display_data"
    },
    {
     "data": {
      "application/vnd.jupyter.widget-view+json": {
       "model_id": "d7dbb40c213f48fe84773459c802e218",
       "version_major": 2,
       "version_minor": 0
      },
      "text/plain": [
       "Books: 0it [00:00, ?it/s]"
      ]
     },
     "metadata": {},
     "output_type": "display_data"
    },
    {
     "data": {
      "application/vnd.jupyter.widget-view+json": {
       "model_id": "7ff2159912dd44329cf201b8700ce4ed",
       "version_major": 2,
       "version_minor": 0
      },
      "text/plain": [
       "Books: 0it [00:00, ?it/s]"
      ]
     },
     "metadata": {},
     "output_type": "display_data"
    },
    {
     "data": {
      "application/vnd.jupyter.widget-view+json": {
       "model_id": "2bd0ef914ff54092a1e21088ab23b9eb",
       "version_major": 2,
       "version_minor": 0
      },
      "text/plain": [
       "Books: 0it [00:00, ?it/s]"
      ]
     },
     "metadata": {},
     "output_type": "display_data"
    },
    {
     "data": {
      "application/vnd.jupyter.widget-view+json": {
       "model_id": "5619c5db3e744165871e9e0a9609b4bb",
       "version_major": 2,
       "version_minor": 0
      },
      "text/plain": [
       "Books: 0it [00:00, ?it/s]"
      ]
     },
     "metadata": {},
     "output_type": "display_data"
    },
    {
     "data": {
      "application/vnd.jupyter.widget-view+json": {
       "model_id": "189a77e077f043e5919eace39919da06",
       "version_major": 2,
       "version_minor": 0
      },
      "text/plain": [
       "Books: 0it [00:00, ?it/s]"
      ]
     },
     "metadata": {},
     "output_type": "display_data"
    },
    {
     "data": {
      "application/vnd.jupyter.widget-view+json": {
       "model_id": "206a723162c84f189a157cf146605ef0",
       "version_major": 2,
       "version_minor": 0
      },
      "text/plain": [
       "Books: 0it [00:00, ?it/s]"
      ]
     },
     "metadata": {},
     "output_type": "display_data"
    },
    {
     "data": {
      "application/vnd.jupyter.widget-view+json": {
       "model_id": "9f67402a307d47dd8cd8eeb262fddb49",
       "version_major": 2,
       "version_minor": 0
      },
      "text/plain": [
       "Books: 0it [00:00, ?it/s]"
      ]
     },
     "metadata": {},
     "output_type": "display_data"
    },
    {
     "data": {
      "application/vnd.jupyter.widget-view+json": {
       "model_id": "db80edc93bd54d1ebab0b96d7c31b239",
       "version_major": 2,
       "version_minor": 0
      },
      "text/plain": [
       "Books: 0it [00:00, ?it/s]"
      ]
     },
     "metadata": {},
     "output_type": "display_data"
    },
    {
     "data": {
      "application/vnd.jupyter.widget-view+json": {
       "model_id": "76bf9015f69a4a018d0a5188ebadcc07",
       "version_major": 2,
       "version_minor": 0
      },
      "text/plain": [
       "Books: 0it [00:00, ?it/s]"
      ]
     },
     "metadata": {},
     "output_type": "display_data"
    },
    {
     "data": {
      "application/vnd.jupyter.widget-view+json": {
       "model_id": "883fd8d35e6549608afb78679f8f899a",
       "version_major": 2,
       "version_minor": 0
      },
      "text/plain": [
       "Books: 0it [00:00, ?it/s]"
      ]
     },
     "metadata": {},
     "output_type": "display_data"
    },
    {
     "data": {
      "application/vnd.jupyter.widget-view+json": {
       "model_id": "adb2fbb90b8e4bebac20c1bc46476b1f",
       "version_major": 2,
       "version_minor": 0
      },
      "text/plain": [
       "Books: 0it [00:00, ?it/s]"
      ]
     },
     "metadata": {},
     "output_type": "display_data"
    },
    {
     "data": {
      "application/vnd.jupyter.widget-view+json": {
       "model_id": "646ed81a6ef04f5f9f3edf4c5b9cdffc",
       "version_major": 2,
       "version_minor": 0
      },
      "text/plain": [
       "Books: 0it [00:00, ?it/s]"
      ]
     },
     "metadata": {},
     "output_type": "display_data"
    },
    {
     "data": {
      "application/vnd.jupyter.widget-view+json": {
       "model_id": "6cd15763e685418396d342cbfdfb1994",
       "version_major": 2,
       "version_minor": 0
      },
      "text/plain": [
       "Books: 0it [00:00, ?it/s]"
      ]
     },
     "metadata": {},
     "output_type": "display_data"
    },
    {
     "data": {
      "application/vnd.jupyter.widget-view+json": {
       "model_id": "cf4c5197d74d4dfc8d19718bf30f8d1f",
       "version_major": 2,
       "version_minor": 0
      },
      "text/plain": [
       "Books: 0it [00:00, ?it/s]"
      ]
     },
     "metadata": {},
     "output_type": "display_data"
    },
    {
     "data": {
      "application/vnd.jupyter.widget-view+json": {
       "model_id": "50c34fed9ab048e7b160e5116f442030",
       "version_major": 2,
       "version_minor": 0
      },
      "text/plain": [
       "Books: 0it [00:00, ?it/s]"
      ]
     },
     "metadata": {},
     "output_type": "display_data"
    },
    {
     "data": {
      "application/vnd.jupyter.widget-view+json": {
       "model_id": "72251d04f5cb4dba9440ae9d77b7f559",
       "version_major": 2,
       "version_minor": 0
      },
      "text/plain": [
       "Books: 0it [00:00, ?it/s]"
      ]
     },
     "metadata": {},
     "output_type": "display_data"
    },
    {
     "data": {
      "application/vnd.jupyter.widget-view+json": {
       "model_id": "c9880facb824437493f9880bbe023bbb",
       "version_major": 2,
       "version_minor": 0
      },
      "text/plain": [
       "Books: 0it [00:00, ?it/s]"
      ]
     },
     "metadata": {},
     "output_type": "display_data"
    },
    {
     "data": {
      "application/vnd.jupyter.widget-view+json": {
       "model_id": "5ac37996f37449c1b7330c23d39dec90",
       "version_major": 2,
       "version_minor": 0
      },
      "text/plain": [
       "Books: 0it [00:00, ?it/s]"
      ]
     },
     "metadata": {},
     "output_type": "display_data"
    },
    {
     "data": {
      "application/vnd.jupyter.widget-view+json": {
       "model_id": "6adc0cfd17e94610bb980db8d0b5565b",
       "version_major": 2,
       "version_minor": 0
      },
      "text/plain": [
       "Books: 0it [00:00, ?it/s]"
      ]
     },
     "metadata": {},
     "output_type": "display_data"
    },
    {
     "ename": "KeyboardInterrupt",
     "evalue": "",
     "output_type": "error",
     "traceback": [
      "\u001b[0;31m---------------------------------------------------------------------------\u001b[0m",
      "\u001b[0;31mKeyboardInterrupt\u001b[0m                         Traceback (most recent call last)",
      "Cell \u001b[0;32mIn[42], line 1\u001b[0m\n\u001b[0;32m----> 1\u001b[0m parser()\n\u001b[1;32m      2\u001b[0m pygame\u001b[39m.\u001b[39minit()\n\u001b[1;32m      3\u001b[0m pygame\u001b[39m.\u001b[39mmixer\u001b[39m.\u001b[39mmusic\u001b[39m.\u001b[39mload(\u001b[39m'\u001b[39m\u001b[39mhypa_bd.mp3\u001b[39m\u001b[39m'\u001b[39m)\n",
      "Cell \u001b[0;32mIn[41], line 5\u001b[0m, in \u001b[0;36mparser\u001b[0;34m(num_pages)\u001b[0m\n\u001b[1;32m      3\u001b[0m \u001b[39mfor\u001b[39;00m genre_id \u001b[39min\u001b[39;00m tqdm(genres_idx,\u001b[39m'\u001b[39m\u001b[39mCategories\u001b[39m\u001b[39m'\u001b[39m):\n\u001b[1;32m      4\u001b[0m     firstpage\u001b[39m=\u001b[39m\u001b[39mf\u001b[39m\u001b[39m'\u001b[39m\u001b[39mhttps://www.biblio-globus.ru/catalog/category?id=\u001b[39m\u001b[39m{\u001b[39;00mgenre_id\u001b[39m}\u001b[39;00m\u001b[39m&page=1&sort=0&instock=&isdiscount=\u001b[39m\u001b[39m'\u001b[39m\n\u001b[0;32m----> 5\u001b[0m     cat_parser(Page(firstpage))\n",
      "Cell \u001b[0;32mIn[40], line 5\u001b[0m, in \u001b[0;36mcat_parser\u001b[0;34m(startpage, num_pages, saves, num_books)\u001b[0m\n\u001b[1;32m      3\u001b[0m save_mark\u001b[39m=\u001b[39msaves\n\u001b[1;32m      4\u001b[0m \u001b[39mfor\u001b[39;00m i \u001b[39min\u001b[39;00m tqdm(\u001b[39mrange\u001b[39m(num_pages),\u001b[39m'\u001b[39m\u001b[39mPages\u001b[39m\u001b[39m'\u001b[39m):\n\u001b[0;32m----> 5\u001b[0m     book_links\u001b[39m=\u001b[39mget_all_page_books(\u001b[39mstr\u001b[39;49m(startpage\u001b[39m+\u001b[39;49mi))\u001b[39m#Получаем массив с ссылками на все книги страницы\u001b[39;00m\n\u001b[1;32m      6\u001b[0m     \u001b[39m#print(book_links)\u001b[39;00m\n\u001b[1;32m      7\u001b[0m     \u001b[39mfor\u001b[39;00m book_link \u001b[39min\u001b[39;00m tqdm(book_links,\u001b[39m'\u001b[39m\u001b[39mBooks\u001b[39m\u001b[39m'\u001b[39m):\n",
      "Cell \u001b[0;32mIn[34], line 2\u001b[0m, in \u001b[0;36mget_all_page_books\u001b[0;34m(page_url)\u001b[0m\n\u001b[1;32m      1\u001b[0m \u001b[39mdef\u001b[39;00m \u001b[39mget_all_page_books\u001b[39m(page_url):\n\u001b[0;32m----> 2\u001b[0m     books\u001b[39m=\u001b[39mrequests\u001b[39m.\u001b[39;49mget(page_url)\n\u001b[1;32m      3\u001b[0m     \u001b[39m#print(books)\u001b[39;00m\n\u001b[1;32m      4\u001b[0m     soup \u001b[39m=\u001b[39m BeautifulSoup(books\u001b[39m.\u001b[39mtext, \u001b[39m'\u001b[39m\u001b[39mhtml.parser\u001b[39m\u001b[39m'\u001b[39m)\n",
      "File \u001b[0;32m~/Documents/Документы — MacBook Air — Евгений/ds_bootcamp/find_my_book/.venv/lib/python3.11/site-packages/requests/api.py:73\u001b[0m, in \u001b[0;36mget\u001b[0;34m(url, params, **kwargs)\u001b[0m\n\u001b[1;32m     62\u001b[0m \u001b[39mdef\u001b[39;00m \u001b[39mget\u001b[39m(url, params\u001b[39m=\u001b[39m\u001b[39mNone\u001b[39;00m, \u001b[39m*\u001b[39m\u001b[39m*\u001b[39mkwargs):\n\u001b[1;32m     63\u001b[0m \u001b[39m    \u001b[39m\u001b[39mr\u001b[39m\u001b[39m\"\"\"Sends a GET request.\u001b[39;00m\n\u001b[1;32m     64\u001b[0m \n\u001b[1;32m     65\u001b[0m \u001b[39m    :param url: URL for the new :class:`Request` object.\u001b[39;00m\n\u001b[0;32m   (...)\u001b[0m\n\u001b[1;32m     70\u001b[0m \u001b[39m    :rtype: requests.Response\u001b[39;00m\n\u001b[1;32m     71\u001b[0m \u001b[39m    \"\"\"\u001b[39;00m\n\u001b[0;32m---> 73\u001b[0m     \u001b[39mreturn\u001b[39;00m request(\u001b[39m\"\u001b[39;49m\u001b[39mget\u001b[39;49m\u001b[39m\"\u001b[39;49m, url, params\u001b[39m=\u001b[39;49mparams, \u001b[39m*\u001b[39;49m\u001b[39m*\u001b[39;49mkwargs)\n",
      "File \u001b[0;32m~/Documents/Документы — MacBook Air — Евгений/ds_bootcamp/find_my_book/.venv/lib/python3.11/site-packages/requests/api.py:59\u001b[0m, in \u001b[0;36mrequest\u001b[0;34m(method, url, **kwargs)\u001b[0m\n\u001b[1;32m     55\u001b[0m \u001b[39m# By using the 'with' statement we are sure the session is closed, thus we\u001b[39;00m\n\u001b[1;32m     56\u001b[0m \u001b[39m# avoid leaving sockets open which can trigger a ResourceWarning in some\u001b[39;00m\n\u001b[1;32m     57\u001b[0m \u001b[39m# cases, and look like a memory leak in others.\u001b[39;00m\n\u001b[1;32m     58\u001b[0m \u001b[39mwith\u001b[39;00m sessions\u001b[39m.\u001b[39mSession() \u001b[39mas\u001b[39;00m session:\n\u001b[0;32m---> 59\u001b[0m     \u001b[39mreturn\u001b[39;00m session\u001b[39m.\u001b[39;49mrequest(method\u001b[39m=\u001b[39;49mmethod, url\u001b[39m=\u001b[39;49murl, \u001b[39m*\u001b[39;49m\u001b[39m*\u001b[39;49mkwargs)\n",
      "File \u001b[0;32m~/Documents/Документы — MacBook Air — Евгений/ds_bootcamp/find_my_book/.venv/lib/python3.11/site-packages/requests/sessions.py:589\u001b[0m, in \u001b[0;36mSession.request\u001b[0;34m(self, method, url, params, data, headers, cookies, files, auth, timeout, allow_redirects, proxies, hooks, stream, verify, cert, json)\u001b[0m\n\u001b[1;32m    584\u001b[0m send_kwargs \u001b[39m=\u001b[39m {\n\u001b[1;32m    585\u001b[0m     \u001b[39m\"\u001b[39m\u001b[39mtimeout\u001b[39m\u001b[39m\"\u001b[39m: timeout,\n\u001b[1;32m    586\u001b[0m     \u001b[39m\"\u001b[39m\u001b[39mallow_redirects\u001b[39m\u001b[39m\"\u001b[39m: allow_redirects,\n\u001b[1;32m    587\u001b[0m }\n\u001b[1;32m    588\u001b[0m send_kwargs\u001b[39m.\u001b[39mupdate(settings)\n\u001b[0;32m--> 589\u001b[0m resp \u001b[39m=\u001b[39m \u001b[39mself\u001b[39;49m\u001b[39m.\u001b[39;49msend(prep, \u001b[39m*\u001b[39;49m\u001b[39m*\u001b[39;49msend_kwargs)\n\u001b[1;32m    591\u001b[0m \u001b[39mreturn\u001b[39;00m resp\n",
      "File \u001b[0;32m~/Documents/Документы — MacBook Air — Евгений/ds_bootcamp/find_my_book/.venv/lib/python3.11/site-packages/requests/sessions.py:703\u001b[0m, in \u001b[0;36mSession.send\u001b[0;34m(self, request, **kwargs)\u001b[0m\n\u001b[1;32m    700\u001b[0m start \u001b[39m=\u001b[39m preferred_clock()\n\u001b[1;32m    702\u001b[0m \u001b[39m# Send the request\u001b[39;00m\n\u001b[0;32m--> 703\u001b[0m r \u001b[39m=\u001b[39m adapter\u001b[39m.\u001b[39;49msend(request, \u001b[39m*\u001b[39;49m\u001b[39m*\u001b[39;49mkwargs)\n\u001b[1;32m    705\u001b[0m \u001b[39m# Total elapsed time of the request (approximately)\u001b[39;00m\n\u001b[1;32m    706\u001b[0m elapsed \u001b[39m=\u001b[39m preferred_clock() \u001b[39m-\u001b[39m start\n",
      "File \u001b[0;32m~/Documents/Документы — MacBook Air — Евгений/ds_bootcamp/find_my_book/.venv/lib/python3.11/site-packages/requests/adapters.py:486\u001b[0m, in \u001b[0;36mHTTPAdapter.send\u001b[0;34m(self, request, stream, timeout, verify, cert, proxies)\u001b[0m\n\u001b[1;32m    483\u001b[0m     timeout \u001b[39m=\u001b[39m TimeoutSauce(connect\u001b[39m=\u001b[39mtimeout, read\u001b[39m=\u001b[39mtimeout)\n\u001b[1;32m    485\u001b[0m \u001b[39mtry\u001b[39;00m:\n\u001b[0;32m--> 486\u001b[0m     resp \u001b[39m=\u001b[39m conn\u001b[39m.\u001b[39;49murlopen(\n\u001b[1;32m    487\u001b[0m         method\u001b[39m=\u001b[39;49mrequest\u001b[39m.\u001b[39;49mmethod,\n\u001b[1;32m    488\u001b[0m         url\u001b[39m=\u001b[39;49murl,\n\u001b[1;32m    489\u001b[0m         body\u001b[39m=\u001b[39;49mrequest\u001b[39m.\u001b[39;49mbody,\n\u001b[1;32m    490\u001b[0m         headers\u001b[39m=\u001b[39;49mrequest\u001b[39m.\u001b[39;49mheaders,\n\u001b[1;32m    491\u001b[0m         redirect\u001b[39m=\u001b[39;49m\u001b[39mFalse\u001b[39;49;00m,\n\u001b[1;32m    492\u001b[0m         assert_same_host\u001b[39m=\u001b[39;49m\u001b[39mFalse\u001b[39;49;00m,\n\u001b[1;32m    493\u001b[0m         preload_content\u001b[39m=\u001b[39;49m\u001b[39mFalse\u001b[39;49;00m,\n\u001b[1;32m    494\u001b[0m         decode_content\u001b[39m=\u001b[39;49m\u001b[39mFalse\u001b[39;49;00m,\n\u001b[1;32m    495\u001b[0m         retries\u001b[39m=\u001b[39;49m\u001b[39mself\u001b[39;49m\u001b[39m.\u001b[39;49mmax_retries,\n\u001b[1;32m    496\u001b[0m         timeout\u001b[39m=\u001b[39;49mtimeout,\n\u001b[1;32m    497\u001b[0m         chunked\u001b[39m=\u001b[39;49mchunked,\n\u001b[1;32m    498\u001b[0m     )\n\u001b[1;32m    500\u001b[0m \u001b[39mexcept\u001b[39;00m (ProtocolError, \u001b[39mOSError\u001b[39;00m) \u001b[39mas\u001b[39;00m err:\n\u001b[1;32m    501\u001b[0m     \u001b[39mraise\u001b[39;00m \u001b[39mConnectionError\u001b[39;00m(err, request\u001b[39m=\u001b[39mrequest)\n",
      "File \u001b[0;32m~/Documents/Документы — MacBook Air — Евгений/ds_bootcamp/find_my_book/.venv/lib/python3.11/site-packages/urllib3/connectionpool.py:790\u001b[0m, in \u001b[0;36mHTTPConnectionPool.urlopen\u001b[0;34m(self, method, url, body, headers, retries, redirect, assert_same_host, timeout, pool_timeout, release_conn, chunked, body_pos, preload_content, decode_content, **response_kw)\u001b[0m\n\u001b[1;32m    787\u001b[0m response_conn \u001b[39m=\u001b[39m conn \u001b[39mif\u001b[39;00m \u001b[39mnot\u001b[39;00m release_conn \u001b[39melse\u001b[39;00m \u001b[39mNone\u001b[39;00m\n\u001b[1;32m    789\u001b[0m \u001b[39m# Make the request on the HTTPConnection object\u001b[39;00m\n\u001b[0;32m--> 790\u001b[0m response \u001b[39m=\u001b[39m \u001b[39mself\u001b[39;49m\u001b[39m.\u001b[39;49m_make_request(\n\u001b[1;32m    791\u001b[0m     conn,\n\u001b[1;32m    792\u001b[0m     method,\n\u001b[1;32m    793\u001b[0m     url,\n\u001b[1;32m    794\u001b[0m     timeout\u001b[39m=\u001b[39;49mtimeout_obj,\n\u001b[1;32m    795\u001b[0m     body\u001b[39m=\u001b[39;49mbody,\n\u001b[1;32m    796\u001b[0m     headers\u001b[39m=\u001b[39;49mheaders,\n\u001b[1;32m    797\u001b[0m     chunked\u001b[39m=\u001b[39;49mchunked,\n\u001b[1;32m    798\u001b[0m     retries\u001b[39m=\u001b[39;49mretries,\n\u001b[1;32m    799\u001b[0m     response_conn\u001b[39m=\u001b[39;49mresponse_conn,\n\u001b[1;32m    800\u001b[0m     preload_content\u001b[39m=\u001b[39;49mpreload_content,\n\u001b[1;32m    801\u001b[0m     decode_content\u001b[39m=\u001b[39;49mdecode_content,\n\u001b[1;32m    802\u001b[0m     \u001b[39m*\u001b[39;49m\u001b[39m*\u001b[39;49mresponse_kw,\n\u001b[1;32m    803\u001b[0m )\n\u001b[1;32m    805\u001b[0m \u001b[39m# Everything went great!\u001b[39;00m\n\u001b[1;32m    806\u001b[0m clean_exit \u001b[39m=\u001b[39m \u001b[39mTrue\u001b[39;00m\n",
      "File \u001b[0;32m~/Documents/Документы — MacBook Air — Евгений/ds_bootcamp/find_my_book/.venv/lib/python3.11/site-packages/urllib3/connectionpool.py:467\u001b[0m, in \u001b[0;36mHTTPConnectionPool._make_request\u001b[0;34m(self, conn, method, url, body, headers, retries, timeout, chunked, response_conn, preload_content, decode_content, enforce_content_length)\u001b[0m\n\u001b[1;32m    464\u001b[0m \u001b[39mtry\u001b[39;00m:\n\u001b[1;32m    465\u001b[0m     \u001b[39m# Trigger any extra validation we need to do.\u001b[39;00m\n\u001b[1;32m    466\u001b[0m     \u001b[39mtry\u001b[39;00m:\n\u001b[0;32m--> 467\u001b[0m         \u001b[39mself\u001b[39;49m\u001b[39m.\u001b[39;49m_validate_conn(conn)\n\u001b[1;32m    468\u001b[0m     \u001b[39mexcept\u001b[39;00m (SocketTimeout, BaseSSLError) \u001b[39mas\u001b[39;00m e:\n\u001b[1;32m    469\u001b[0m         \u001b[39mself\u001b[39m\u001b[39m.\u001b[39m_raise_timeout(err\u001b[39m=\u001b[39me, url\u001b[39m=\u001b[39murl, timeout_value\u001b[39m=\u001b[39mconn\u001b[39m.\u001b[39mtimeout)\n",
      "File \u001b[0;32m~/Documents/Документы — MacBook Air — Евгений/ds_bootcamp/find_my_book/.venv/lib/python3.11/site-packages/urllib3/connectionpool.py:1092\u001b[0m, in \u001b[0;36mHTTPSConnectionPool._validate_conn\u001b[0;34m(self, conn)\u001b[0m\n\u001b[1;32m   1090\u001b[0m \u001b[39m# Force connect early to allow us to validate the connection.\u001b[39;00m\n\u001b[1;32m   1091\u001b[0m \u001b[39mif\u001b[39;00m conn\u001b[39m.\u001b[39mis_closed:\n\u001b[0;32m-> 1092\u001b[0m     conn\u001b[39m.\u001b[39;49mconnect()\n\u001b[1;32m   1094\u001b[0m \u001b[39mif\u001b[39;00m \u001b[39mnot\u001b[39;00m conn\u001b[39m.\u001b[39mis_verified:\n\u001b[1;32m   1095\u001b[0m     warnings\u001b[39m.\u001b[39mwarn(\n\u001b[1;32m   1096\u001b[0m         (\n\u001b[1;32m   1097\u001b[0m             \u001b[39mf\u001b[39m\u001b[39m\"\u001b[39m\u001b[39mUnverified HTTPS request is being made to host \u001b[39m\u001b[39m'\u001b[39m\u001b[39m{\u001b[39;00mconn\u001b[39m.\u001b[39mhost\u001b[39m}\u001b[39;00m\u001b[39m'\u001b[39m\u001b[39m. \u001b[39m\u001b[39m\"\u001b[39m\n\u001b[0;32m   (...)\u001b[0m\n\u001b[1;32m   1102\u001b[0m         InsecureRequestWarning,\n\u001b[1;32m   1103\u001b[0m     )\n",
      "File \u001b[0;32m~/Documents/Документы — MacBook Air — Евгений/ds_bootcamp/find_my_book/.venv/lib/python3.11/site-packages/urllib3/connection.py:642\u001b[0m, in \u001b[0;36mHTTPSConnection.connect\u001b[0;34m(self)\u001b[0m\n\u001b[1;32m    633\u001b[0m \u001b[39mif\u001b[39;00m is_time_off:\n\u001b[1;32m    634\u001b[0m     warnings\u001b[39m.\u001b[39mwarn(\n\u001b[1;32m    635\u001b[0m         (\n\u001b[1;32m    636\u001b[0m             \u001b[39mf\u001b[39m\u001b[39m\"\u001b[39m\u001b[39mSystem time is way off (before \u001b[39m\u001b[39m{\u001b[39;00mRECENT_DATE\u001b[39m}\u001b[39;00m\u001b[39m). This will probably \u001b[39m\u001b[39m\"\u001b[39m\n\u001b[0;32m   (...)\u001b[0m\n\u001b[1;32m    639\u001b[0m         SystemTimeWarning,\n\u001b[1;32m    640\u001b[0m     )\n\u001b[0;32m--> 642\u001b[0m sock_and_verified \u001b[39m=\u001b[39m _ssl_wrap_socket_and_match_hostname(\n\u001b[1;32m    643\u001b[0m     sock\u001b[39m=\u001b[39;49msock,\n\u001b[1;32m    644\u001b[0m     cert_reqs\u001b[39m=\u001b[39;49m\u001b[39mself\u001b[39;49m\u001b[39m.\u001b[39;49mcert_reqs,\n\u001b[1;32m    645\u001b[0m     ssl_version\u001b[39m=\u001b[39;49m\u001b[39mself\u001b[39;49m\u001b[39m.\u001b[39;49mssl_version,\n\u001b[1;32m    646\u001b[0m     ssl_minimum_version\u001b[39m=\u001b[39;49m\u001b[39mself\u001b[39;49m\u001b[39m.\u001b[39;49mssl_minimum_version,\n\u001b[1;32m    647\u001b[0m     ssl_maximum_version\u001b[39m=\u001b[39;49m\u001b[39mself\u001b[39;49m\u001b[39m.\u001b[39;49mssl_maximum_version,\n\u001b[1;32m    648\u001b[0m     ca_certs\u001b[39m=\u001b[39;49m\u001b[39mself\u001b[39;49m\u001b[39m.\u001b[39;49mca_certs,\n\u001b[1;32m    649\u001b[0m     ca_cert_dir\u001b[39m=\u001b[39;49m\u001b[39mself\u001b[39;49m\u001b[39m.\u001b[39;49mca_cert_dir,\n\u001b[1;32m    650\u001b[0m     ca_cert_data\u001b[39m=\u001b[39;49m\u001b[39mself\u001b[39;49m\u001b[39m.\u001b[39;49mca_cert_data,\n\u001b[1;32m    651\u001b[0m     cert_file\u001b[39m=\u001b[39;49m\u001b[39mself\u001b[39;49m\u001b[39m.\u001b[39;49mcert_file,\n\u001b[1;32m    652\u001b[0m     key_file\u001b[39m=\u001b[39;49m\u001b[39mself\u001b[39;49m\u001b[39m.\u001b[39;49mkey_file,\n\u001b[1;32m    653\u001b[0m     key_password\u001b[39m=\u001b[39;49m\u001b[39mself\u001b[39;49m\u001b[39m.\u001b[39;49mkey_password,\n\u001b[1;32m    654\u001b[0m     server_hostname\u001b[39m=\u001b[39;49mserver_hostname,\n\u001b[1;32m    655\u001b[0m     ssl_context\u001b[39m=\u001b[39;49m\u001b[39mself\u001b[39;49m\u001b[39m.\u001b[39;49mssl_context,\n\u001b[1;32m    656\u001b[0m     tls_in_tls\u001b[39m=\u001b[39;49mtls_in_tls,\n\u001b[1;32m    657\u001b[0m     assert_hostname\u001b[39m=\u001b[39;49m\u001b[39mself\u001b[39;49m\u001b[39m.\u001b[39;49massert_hostname,\n\u001b[1;32m    658\u001b[0m     assert_fingerprint\u001b[39m=\u001b[39;49m\u001b[39mself\u001b[39;49m\u001b[39m.\u001b[39;49massert_fingerprint,\n\u001b[1;32m    659\u001b[0m )\n\u001b[1;32m    660\u001b[0m \u001b[39mself\u001b[39m\u001b[39m.\u001b[39msock \u001b[39m=\u001b[39m sock_and_verified\u001b[39m.\u001b[39msocket\n\u001b[1;32m    661\u001b[0m \u001b[39mself\u001b[39m\u001b[39m.\u001b[39mis_verified \u001b[39m=\u001b[39m sock_and_verified\u001b[39m.\u001b[39mis_verified\n",
      "File \u001b[0;32m~/Documents/Документы — MacBook Air — Евгений/ds_bootcamp/find_my_book/.venv/lib/python3.11/site-packages/urllib3/connection.py:735\u001b[0m, in \u001b[0;36m_ssl_wrap_socket_and_match_hostname\u001b[0;34m(sock, cert_reqs, ssl_version, ssl_minimum_version, ssl_maximum_version, cert_file, key_file, key_password, ca_certs, ca_cert_dir, ca_cert_data, assert_hostname, assert_fingerprint, server_hostname, ssl_context, tls_in_tls)\u001b[0m\n\u001b[1;32m    733\u001b[0m \u001b[39mif\u001b[39;00m ssl_context \u001b[39mis\u001b[39;00m \u001b[39mNone\u001b[39;00m:\n\u001b[1;32m    734\u001b[0m     default_ssl_context \u001b[39m=\u001b[39m \u001b[39mTrue\u001b[39;00m\n\u001b[0;32m--> 735\u001b[0m     context \u001b[39m=\u001b[39m create_urllib3_context(\n\u001b[1;32m    736\u001b[0m         ssl_version\u001b[39m=\u001b[39;49mresolve_ssl_version(ssl_version),\n\u001b[1;32m    737\u001b[0m         ssl_minimum_version\u001b[39m=\u001b[39;49mssl_minimum_version,\n\u001b[1;32m    738\u001b[0m         ssl_maximum_version\u001b[39m=\u001b[39;49mssl_maximum_version,\n\u001b[1;32m    739\u001b[0m         cert_reqs\u001b[39m=\u001b[39;49mresolve_cert_reqs(cert_reqs),\n\u001b[1;32m    740\u001b[0m     )\n\u001b[1;32m    741\u001b[0m \u001b[39melse\u001b[39;00m:\n\u001b[1;32m    742\u001b[0m     context \u001b[39m=\u001b[39m ssl_context\n",
      "File \u001b[0;32m~/Documents/Документы — MacBook Air — Евгений/ds_bootcamp/find_my_book/.venv/lib/python3.11/site-packages/urllib3/util/ssl_.py:287\u001b[0m, in \u001b[0;36mcreate_urllib3_context\u001b[0;34m(ssl_version, cert_reqs, options, ciphers, ssl_minimum_version, ssl_maximum_version)\u001b[0m\n\u001b[1;32m    279\u001b[0m         warnings\u001b[39m.\u001b[39mwarn(\n\u001b[1;32m    280\u001b[0m             \u001b[39m\"\u001b[39m\u001b[39m'\u001b[39m\u001b[39mssl_version\u001b[39m\u001b[39m'\u001b[39m\u001b[39m option is deprecated and will be \u001b[39m\u001b[39m\"\u001b[39m\n\u001b[1;32m    281\u001b[0m             \u001b[39m\"\u001b[39m\u001b[39mremoved in urllib3 v2.1.0. Instead use \u001b[39m\u001b[39m'\u001b[39m\u001b[39mssl_minimum_version\u001b[39m\u001b[39m'\u001b[39m\u001b[39m\"\u001b[39m,\n\u001b[1;32m    282\u001b[0m             category\u001b[39m=\u001b[39m\u001b[39mDeprecationWarning\u001b[39;00m,\n\u001b[1;32m    283\u001b[0m             stacklevel\u001b[39m=\u001b[39m\u001b[39m2\u001b[39m,\n\u001b[1;32m    284\u001b[0m         )\n\u001b[1;32m    286\u001b[0m \u001b[39m# PROTOCOL_TLS is deprecated in Python 3.10 so we always use PROTOCOL_TLS_CLIENT\u001b[39;00m\n\u001b[0;32m--> 287\u001b[0m context \u001b[39m=\u001b[39m SSLContext(PROTOCOL_TLS_CLIENT)\n\u001b[1;32m    289\u001b[0m \u001b[39mif\u001b[39;00m ssl_minimum_version \u001b[39mis\u001b[39;00m \u001b[39mnot\u001b[39;00m \u001b[39mNone\u001b[39;00m:\n\u001b[1;32m    290\u001b[0m     context\u001b[39m.\u001b[39mminimum_version \u001b[39m=\u001b[39m ssl_minimum_version\n",
      "File \u001b[0;32m/opt/homebrew/Cellar/python@3.11/3.11.4_1/Frameworks/Python.framework/Versions/3.11/lib/python3.11/ssl.py:500\u001b[0m, in \u001b[0;36mSSLContext.__new__\u001b[0;34m(cls, protocol, *args, **kwargs)\u001b[0m\n\u001b[1;32m    494\u001b[0m     warnings\u001b[39m.\u001b[39mwarn(\n\u001b[1;32m    495\u001b[0m         \u001b[39m\"\u001b[39m\u001b[39mssl.SSLContext() without protocol argument is deprecated.\u001b[39m\u001b[39m\"\u001b[39m,\n\u001b[1;32m    496\u001b[0m         category\u001b[39m=\u001b[39m\u001b[39mDeprecationWarning\u001b[39;00m,\n\u001b[1;32m    497\u001b[0m         stacklevel\u001b[39m=\u001b[39m\u001b[39m2\u001b[39m\n\u001b[1;32m    498\u001b[0m     )\n\u001b[1;32m    499\u001b[0m     protocol \u001b[39m=\u001b[39m PROTOCOL_TLS\n\u001b[0;32m--> 500\u001b[0m \u001b[39mself\u001b[39m \u001b[39m=\u001b[39m _SSLContext\u001b[39m.\u001b[39;49m\u001b[39m__new__\u001b[39;49m(\u001b[39mcls\u001b[39;49m, protocol)\n\u001b[1;32m    501\u001b[0m \u001b[39mreturn\u001b[39;00m \u001b[39mself\u001b[39m\n",
      "\u001b[0;31mKeyboardInterrupt\u001b[0m: "
     ]
    }
   ],
   "source": [
    "parser()\n",
    "pygame.init()\n",
    "pygame.mixer.music.load('hypa_bd.mp3')\n",
    "pygame.mixer.music.play()\n",
    "pd.Series(genres).to_csv('genres_url.csv')\n",
    "sleep(30)\n",
    "pygame.mixer.music.stop()"
   ]
  },
  {
   "cell_type": "code",
   "execution_count": null,
   "metadata": {},
   "outputs": [],
   "source": [
    "# start = Page('https://www.biblio-globus.ru/catalog/index/6301')\n",
    "# pages3=biblio_parser(start,3)   \n",
    "# pages3"
   ]
  },
  {
   "cell_type": "code",
   "execution_count": null,
   "metadata": {},
   "outputs": [],
   "source": [
    "# page=requests.get('https://www.biblio-globus.ru/catalog/category?id=226&page=1&sort=0&instock=&isdiscount=')\n",
    "# soup=BeautifulSoup(page.text, 'html.parser')\n"
   ]
  },
  {
   "cell_type": "code",
   "execution_count": null,
   "metadata": {},
   "outputs": [],
   "source": [
    "# pg=soup.find_all('a',attrs={'aria-label':'Next'})[-1]['href']"
   ]
  },
  {
   "cell_type": "code",
   "execution_count": null,
   "metadata": {},
   "outputs": [
    {
     "data": {
      "text/plain": [
       "'https://www.biblio-globus.ru/catalog/category?id=543&page=2&sort=0&instock=&isdiscount='"
      ]
     },
     "execution_count": 95,
     "metadata": {},
     "output_type": "execute_result"
    }
   ],
   "source": [
    "# test='https://www.biblio-globus.ru/catalog/category?id=752&page=2&sort=0&instock=&isdiscount='\n",
    "# test.replace(f'id={752}',f'id=543')"
   ]
  },
  {
   "cell_type": "code",
   "execution_count": null,
   "metadata": {},
   "outputs": [],
   "source": [
    "# pd.Series(mega_genres_url).to_csv('test.csv',mode='a',index=False,header=False)"
   ]
  }
 ],
 "metadata": {
  "kernelspec": {
   "display_name": ".venv",
   "language": "python",
   "name": "python3"
  },
  "language_info": {
   "codemirror_mode": {
    "name": "ipython",
    "version": 3
   },
   "file_extension": ".py",
   "mimetype": "text/x-python",
   "name": "python",
   "nbconvert_exporter": "python",
   "pygments_lexer": "ipython3",
   "version": "3.11.4"
  },
  "orig_nbformat": 4
 },
 "nbformat": 4,
 "nbformat_minor": 2
}
